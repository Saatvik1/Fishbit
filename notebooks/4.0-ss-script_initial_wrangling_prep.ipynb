{
 "cells": [
  {
   "cell_type": "code",
   "execution_count": 1,
   "id": "e1fb9e99",
   "metadata": {},
   "outputs": [],
   "source": [
    "import pandas as pd\n",
    "import json\n",
    "import datetime as dt"
   ]
  },
  {
   "cell_type": "code",
   "execution_count": 2,
   "id": "51614fa3",
   "metadata": {},
   "outputs": [],
   "source": [
    "# Take: Each activity has active duration, duration, originalDuration. These will be columns, not sure if they are ever different. If not, just use one.\n",
    "# coumns from under activityLevel value array that contains same info as above, just need to see if the same.\n",
    "# Take: activityLevel_sedentary, activityLevel_lightly, activityLevel_fairly, activityLevel_very, each containing minutes\n",
    "# Take: activityName, activityTypeId, averageHeartRate, calories, \n",
    "# from heartRateZones: \n",
    "# Take: hrZone_OOR_mins, hrZone_Fatburn_mins, hrZone_Cardio_mins, hrZone_Peak_mins /// hrZone_OOR_cals, hrZone_Fatburn_cals, hrZone_Cardio_cals, hrZone_Peak_cals\n",
    "# Take: logID, originalStartTime, startTime, steps"
   ]
  },
  {
   "cell_type": "markdown",
   "id": "483277a8",
   "metadata": {},
   "source": [
    "# Activity Data Cleaning"
   ]
  },
  {
   "cell_type": "code",
   "execution_count": 4,
   "id": "35ee61c5",
   "metadata": {},
   "outputs": [],
   "source": [
    "# Loop through activity files normalize, pd them, drop cols, drop more cols (might need a catch), concat all dfs ,\n",
    "# create column names, loop through and transform data, drop more columns, change types"
   ]
  },
  {
   "cell_type": "markdown",
   "id": "e999a655",
   "metadata": {},
   "source": [
    "# Sleep Data Cleaning"
   ]
  },
  {
   "cell_type": "code",
   "execution_count": 5,
   "id": "56da3d69",
   "metadata": {},
   "outputs": [],
   "source": [
    "# Loop through sleep logs, keep only certain columns per each, concat all dfs together"
   ]
  },
  {
   "cell_type": "code",
   "execution_count": 6,
   "id": "fa9f6ef4",
   "metadata": {},
   "outputs": [],
   "source": [
    "# Read sleep csv, (go through date conversion stuff and only keep necessary things), \n",
    "# (dont drop first row, idk why that is there), create datetimekey col and convert to datetime..., perform join, "
   ]
  },
  {
   "cell_type": "markdown",
   "id": "7408b059",
   "metadata": {},
   "source": [
    "# Stress Data Cleaning"
   ]
  },
  {
   "cell_type": "code",
   "execution_count": 8,
   "id": "6d7d470e",
   "metadata": {},
   "outputs": [],
   "source": [
    "# Perform any necessary data cleaning as was done on sleep data csv..."
   ]
  },
  {
   "cell_type": "markdown",
   "id": "5a1f466d",
   "metadata": {},
   "source": [
    "# Skin / HRV / BRV Data Cleaning"
   ]
  },
  {
   "cell_type": "code",
   "execution_count": 7,
   "id": "cd15c653",
   "metadata": {},
   "outputs": [],
   "source": [
    "#Copy work dne in previous notebook, try to  find a way to auto detect the # of files with skin temp..."
   ]
  },
  {
   "cell_type": "code",
   "execution_count": null,
   "id": "33c44bcd",
   "metadata": {},
   "outputs": [],
   "source": []
  }
 ],
 "metadata": {
  "kernelspec": {
   "display_name": "Python 3 (ipykernel)",
   "language": "python",
   "name": "python3"
  },
  "language_info": {
   "codemirror_mode": {
    "name": "ipython",
    "version": 3
   },
   "file_extension": ".py",
   "mimetype": "text/x-python",
   "name": "python",
   "nbconvert_exporter": "python",
   "pygments_lexer": "ipython3",
   "version": "3.11.3"
  }
 },
 "nbformat": 4,
 "nbformat_minor": 5
}
