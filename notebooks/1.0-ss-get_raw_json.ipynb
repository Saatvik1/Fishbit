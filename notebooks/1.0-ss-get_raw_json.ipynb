{
 "cells": [
  {
   "cell_type": "code",
   "execution_count": 1,
   "id": "b35d3626",
   "metadata": {},
   "outputs": [],
   "source": [
    "# import requests\n",
    "import time\n",
    "from pprint import pprint\n",
    "import json\n",
    "import csv\n",
    "import os\n",
    "from dotenv import load_dotenv, dotenv_values\n",
    "load_dotenv()\n",
    "from datetime import datetime, timedelta\n",
    "import requests"
   ]
  },
  {
   "cell_type": "markdown",
   "id": "36cbfe23",
   "metadata": {},
   "source": [
    "# Set your start date"
   ]
  },
  {
   "cell_type": "code",
   "execution_count": 2,
   "id": "43a7d1f9",
   "metadata": {},
   "outputs": [],
   "source": [
    "#Set start_data\n",
    "#start_date = '2023-11-23'\n",
    "start_date = '2024-09-09'"
   ]
  },
  {
   "cell_type": "code",
   "execution_count": 3,
   "id": "a8adc1f0",
   "metadata": {},
   "outputs": [
    {
     "name": "stdout",
     "output_type": "stream",
     "text": [
      "2024-05-18\n"
     ]
    }
   ],
   "source": [
    "# Returns a string that is 30 days after the date given. So if input is a string that says 2024-04-18, returns a string that says 2024-05-18\n",
    "def date_plus_thirty(date):\n",
    "    \n",
    "    dt_start = datetime.strptime(date, '%Y-%m-%d')\n",
    "    dt_end = dt_start + timedelta(30)\n",
    "    \n",
    "    return dt_end.strftime('%Y-%m-%d')\n",
    "\n",
    "print(date_plus_thirty('2024-04-18'))"
   ]
  },
  {
   "cell_type": "markdown",
   "id": "932f7e5c",
   "metadata": {},
   "source": [
    "# Get Activity Log List"
   ]
  },
  {
   "cell_type": "code",
   "execution_count": 4,
   "id": "243cf85c",
   "metadata": {},
   "outputs": [],
   "source": [
    "#Takes start_date, start of batch gathering\n",
    "#Takes end_date, if None, then will default to today, if specified, then will use that date. \n",
    "#Returns of dates that are the edges of each 30 day interval\n",
    "def get_date_intervals(start_date, end_date):\n",
    "    #Variable initialization\n",
    "    date_intervals = []\n",
    "    end_date_dt = None\n",
    "    \n",
    "    #Initialize start_date_dt obj\n",
    "    try:\n",
    "        start_date_dt = datetime.strptime(start_date, '%Y-%m-%d')\n",
    "    except:\n",
    "        raise ValueError(\"Please provide dates in format of YYYY-MM-DD\")\n",
    "        \n",
    "        \n",
    "    #Initialize and set end date\n",
    "    if end_date == None:\n",
    "        end_date_dt = datetime.today()\n",
    "    else:\n",
    "        try:\n",
    "            end_date_dt = datetime.strptime(end_date, '%Y-%m-%d')\n",
    "        except:\n",
    "            raise ValueError(\"Please provide dates in format of YYYY-MM-DD\")\n",
    "            \n",
    "            \n",
    "    #Checking if dates make sense\n",
    "    if start_date_dt > end_date_dt:\n",
    "        raise ValueError(\"Incorrect start and end date values given!!!\")\n",
    " \n",
    "    #Loop in 30 day intervals adding the days, then adding strings of dates to the array\n",
    "    current_date = start_date_dt\n",
    "    #print(end_date_dt)\n",
    "    #print(current_date)\n",
    "\n",
    "    while current_date < end_date_dt:\n",
    "        #print(\"waht\")\n",
    "        date_intervals.append(current_date.strftime('%Y-%m-%d'))\n",
    "        current_date += timedelta(days=30)\n",
    "        \n",
    "    if current_date != end_date_dt:\n",
    "        current_date = end_date_dt\n",
    "        current_date += timedelta(days=-1)\n",
    "        date_intervals.append(current_date.strftime('%Y-%m-%d'))\n",
    "        \n",
    "    return date_intervals"
   ]
  },
  {
   "cell_type": "code",
   "execution_count": 5,
   "id": "26c1928b",
   "metadata": {},
   "outputs": [],
   "source": [
    "#start_date defines the date we start collecting data from, this will usually be the date that the last batch was collected\n",
    "#end_today is a boolean value that signifies if we want the batch to go from the start date to the date the batch collection is called\n",
    "#kwargs will be the end_today if end_today is false.\n",
    "def generate_activities_json(start_date, *args, **kwargs):\n",
    "    end_date = kwargs.get('end_date', datetime.today().strftime('%Y-%m-%d'))\n",
    "    \n",
    "    \n",
    "    date_intervals = get_date_intervals(start_date, end_date)\n",
    "    print(date_intervals)\n",
    "    \n",
    "    get_activities_url = f'https://api.fitbit.com/1/user/-/activities/list.json'\n",
    "    \n",
    "    for index, sd in enumerate(date_intervals, 1):\n",
    "\n",
    "        get_activities_param = {\n",
    "            #'beforeDate' : '2024-08-06',\n",
    "            'afterDate' : sd,\n",
    "            'sort' : 'asc',\n",
    "            'limit' : 100,\n",
    "            'offset' : 0\n",
    "        }\n",
    "        get_activities_headers = {\n",
    "            \"authorization\" : f\"Bearer {os.getenv('ACCESS_TOKEN')}\"\n",
    "        }\n",
    "\n",
    "        activities_req = requests.get(url = get_activities_url, params=get_activities_param, headers=get_activities_headers)\n",
    "\n",
    "        activities_json = activities_req.json()\n",
    "\n",
    "        file_path = f'../data/raw_data/get_activities_{index}.json'\n",
    "\n",
    "        with open(file_path, 'w') as json_file:\n",
    "            json.dump(activities_json, json_file, indent=4)"
   ]
  },
  {
   "cell_type": "code",
   "execution_count": 6,
   "id": "9cfd7b29",
   "metadata": {},
   "outputs": [
    {
     "name": "stdout",
     "output_type": "stream",
     "text": [
      "['2023-11-23', '2023-12-23', '2024-01-22', '2024-02-21', '2024-03-22', '2024-04-21', '2024-05-21', '2024-06-20', '2024-07-20', '2024-08-19', '2024-09-08']\n"
     ]
    }
   ],
   "source": [
    "generate_activities_json(start_date)"
   ]
  },
  {
   "cell_type": "markdown",
   "id": "4b6e2a83",
   "metadata": {},
   "source": [
    "# Daily Activity Summary"
   ]
  },
  {
   "cell_type": "code",
   "execution_count": 7,
   "id": "c4a2fee2",
   "metadata": {},
   "outputs": [],
   "source": [
    "# #Unfortunately, there is no mass call for this one, and the api rate limit is 150 per hour. So for now I will forgoe this \n",
    "# #since most of the info in this is in the other API calls.\n",
    "\n",
    "\n",
    "# get_daily_activities_url = f'https://api.fitbit.com/1/user/-/activities/date/2024-07-28.json'\n",
    "\n",
    "# get_daily_activities_param = {\n",
    "#     #'beforeDate' : '2024-07-17',\n",
    "#     'date' : '2024-07-18',\n",
    "#     #'sort' : 'asc',\n",
    "#     #'limit' : 100,\n",
    "#     #'offset' : 0\n",
    "# }\n",
    "# get_daily_activities_headers = {\n",
    "#     \"authorization\" : f\"Bearer {os.getenv('ACCESS_TOKEN')}\"\n",
    "# }\n",
    "\n",
    "# #daily_activities_req = requests.get(url = get_daily_activities_url, params=get_daily_activities_param, headers=get_daily_activities_headers)\n",
    "# daily_activities_req = requests.get(url = get_daily_activities_url, headers=get_daily_activities_headers)\n",
    "\n",
    "# daily_activities_json = daily_activities_req.json()\n",
    "\n",
    "# print(daily_activities_json)"
   ]
  },
  {
   "cell_type": "code",
   "execution_count": 8,
   "id": "481a9237",
   "metadata": {
    "scrolled": true
   },
   "outputs": [],
   "source": [
    "#pprint(daily_activities_json) "
   ]
  },
  {
   "cell_type": "markdown",
   "id": "593f10b5",
   "metadata": {},
   "source": [
    "# Get Sleep Activity"
   ]
  },
  {
   "cell_type": "code",
   "execution_count": 9,
   "id": "8535dbbc",
   "metadata": {},
   "outputs": [],
   "source": [
    "def generate_sleep_json(start_date, *args, **kwargs):\n",
    "    end_date = kwargs.get('end_date', datetime.today().strftime('%Y-%m-%d'))  \n",
    "    \n",
    "    date_intervals = get_date_intervals(start_date, end_date)\n",
    "    print(date_intervals)\n",
    "    \n",
    "    get_sleep_url = f'https://api.fitbit.com/1.2/user/-/sleep/list.json'\n",
    "    \n",
    "    get_sleep_headers = {\n",
    "            \"authorization\" : f\"Bearer {os.getenv('ACCESS_TOKEN')}\"\n",
    "        }\n",
    "    \n",
    "\n",
    "    for index, sd in enumerate(date_intervals, 1):\n",
    "\n",
    "        get_sleep_param = {\n",
    "            'afterDate' : sd,\n",
    "            #'beforeDate' : '2024-08-06',\n",
    "            'sort' : 'asc',\n",
    "            'limit' : 100,\n",
    "            'offset' : 0\n",
    "        }\n",
    "\n",
    "        daily_sleep_req = requests.get(url = get_sleep_url, params=get_sleep_param, headers=get_sleep_headers)\n",
    "\n",
    "        daily_sleep_json = daily_sleep_req.json()\n",
    "\n",
    "        file_path = f'../data/raw_data/get_sleep_{index}.json'\n",
    "\n",
    "        with open(file_path, 'w') as json_file:\n",
    "            json.dump(daily_sleep_json, json_file, indent=4)"
   ]
  },
  {
   "cell_type": "code",
   "execution_count": 10,
   "id": "4b95da3f",
   "metadata": {},
   "outputs": [
    {
     "name": "stdout",
     "output_type": "stream",
     "text": [
      "['2023-11-23', '2023-12-23', '2024-01-22', '2024-02-21', '2024-03-22', '2024-04-21', '2024-05-21', '2024-06-20', '2024-07-20', '2024-08-19', '2024-09-08']\n"
     ]
    }
   ],
   "source": [
    "generate_sleep_json(start_date)"
   ]
  },
  {
   "cell_type": "markdown",
   "id": "0c5f72b8",
   "metadata": {},
   "source": [
    "# Get Skin Temperature"
   ]
  },
  {
   "cell_type": "code",
   "execution_count": 11,
   "id": "3cefb218",
   "metadata": {},
   "outputs": [],
   "source": [
    "get_skin_temp_headers = {\n",
    "    \"authorization\" : f\"Bearer {os.getenv('ACCESS_TOKEN')}\"\n",
    "}\n",
    "\n",
    "#cfs_req = requests.get(url = get_cfs_url, params=get_cfs_param, headers=get_cfs_headers)\n",
    "\n",
    "dt_iter_obj = datetime.strptime(start_date, '%Y-%m-%d')\n",
    "skin_json_array = []\n",
    "while(dt_iter_obj < datetime.now()):\n",
    "    \n",
    "    end_date_str = date_plus_thirty(dt_iter_obj.strftime('%Y-%m-%d'))\n",
    "    \n",
    "    get_skin_temp_url = f\"https://api.fitbit.com/1/user/-/temp/skin/date/{dt_iter_obj.strftime('%Y-%m-%d')}/{end_date_str}.json\"\n",
    "    \n",
    "    skin_temp_req = requests.get(url = get_skin_temp_url, headers=get_skin_temp_headers)\n",
    "\n",
    "    skin_temp_json = skin_temp_req.json()\n",
    "    skin_json_array.append(skin_temp_json)\n",
    "    \n",
    "    dt_iter_obj = datetime.strptime(end_date_str, '%Y-%m-%d')\n",
    "\n",
    "\n"
   ]
  },
  {
   "cell_type": "code",
   "execution_count": 12,
   "id": "7b99b6b1",
   "metadata": {},
   "outputs": [],
   "source": [
    "for index, skin_json in enumerate(skin_json_array):\n",
    "    file_path = f'../data/raw_data/get_skin_{index+1}.json'\n",
    "    \n",
    "    \n",
    "    with open(file_path, 'w') as json_file:\n",
    "        json.dump(skin_json, json_file, indent=4)"
   ]
  },
  {
   "cell_type": "code",
   "execution_count": 13,
   "id": "49736a52",
   "metadata": {},
   "outputs": [],
   "source": [
    "#dateTime, date of temp skin recorded\n",
    "#value : nightlyRelative: + or - value in fahrenheit from baseline temperature from up to 30 days. so +0.4 means that night \n",
    "#i was 0.4 def above my baseline."
   ]
  },
  {
   "cell_type": "markdown",
   "id": "a8a69a2d",
   "metadata": {},
   "source": [
    "# Heart Rate Variability"
   ]
  },
  {
   "cell_type": "code",
   "execution_count": 14,
   "id": "0192f7bc",
   "metadata": {},
   "outputs": [],
   "source": [
    "get_hrv_headers = {\n",
    "    \"authorization\" : f\"Bearer {os.getenv('ACCESS_TOKEN')}\"\n",
    "}\n",
    "\n",
    "dt_iter_obj = datetime.strptime(start_date, '%Y-%m-%d')\n",
    "hrv_json_array = []\n",
    "while(dt_iter_obj < datetime.now()):\n",
    "    \n",
    "    end_date_str = date_plus_thirty(dt_iter_obj.strftime('%Y-%m-%d'))\n",
    "    get_hrv_url = f\"https://api.fitbit.com/1/user/-/hrv/date/{dt_iter_obj.strftime('%Y-%m-%d')}/{end_date_str}.json\"\n",
    "\n",
    "    hrv_req = requests.get(url = get_hrv_url, headers=get_hrv_headers)\n",
    "\n",
    "    hrv_json = hrv_req.json()\n",
    "    hrv_json_array.append(hrv_json)\n",
    "    dt_iter_obj = datetime.strptime(end_date_str, '%Y-%m-%d')\n",
    "\n"
   ]
  },
  {
   "cell_type": "code",
   "execution_count": 15,
   "id": "8943062f",
   "metadata": {},
   "outputs": [],
   "source": [
    "for index, hrv_json in enumerate(hrv_json_array):\n",
    "    file_path = f'../data/raw_data/get_hrv_{index+1}.json'\n",
    "    \n",
    "    \n",
    "    with open(file_path, 'w') as json_file:\n",
    "        json.dump(hrv_json, json_file, indent=4)"
   ]
  },
  {
   "cell_type": "code",
   "execution_count": 16,
   "id": "bd019839",
   "metadata": {},
   "outputs": [],
   "source": [
    "# During sleep, measure of heart rate variability \n",
    "# dailyRmssd Root Mean Square of Successive Differences between heart beats, measuring short-term variability of users daily HR.\n",
    "# deepRmssd Root Mean Square of Successive Differences between heart beats, measuring short-term variability of users deep HR."
   ]
  },
  {
   "cell_type": "markdown",
   "id": "d0c86497",
   "metadata": {},
   "source": [
    "# Breathing Rate Summary"
   ]
  },
  {
   "cell_type": "code",
   "execution_count": 17,
   "id": "8a19472b",
   "metadata": {},
   "outputs": [],
   "source": [
    "get_br_headers = {\n",
    "    \"authorization\" : f\"Bearer {os.getenv('ACCESS_TOKEN')}\"\n",
    "}\n",
    "\n",
    "dt_iter_obj = datetime.strptime(start_date, '%Y-%m-%d')\n",
    "br_json_array = []\n",
    "while(dt_iter_obj < datetime.now()):\n",
    "    \n",
    "    end_date_str = date_plus_thirty(dt_iter_obj.strftime('%Y-%m-%d'))\n",
    "    get_br_url = f\"https://api.fitbit.com/1/user/-/br/date/{dt_iter_obj.strftime('%Y-%m-%d')}/{end_date_str}.json\"\n",
    "\n",
    "    br_req = requests.get(url = get_br_url, headers=get_br_headers)\n",
    "\n",
    "    br_json = br_req.json()\n",
    "    br_json_array.append(br_json)\n",
    "    dt_iter_obj = datetime.strptime(end_date_str, '%Y-%m-%d')\n",
    "\n"
   ]
  },
  {
   "cell_type": "code",
   "execution_count": 18,
   "id": "708e7bfa",
   "metadata": {},
   "outputs": [],
   "source": [
    "for index, br_json in enumerate(br_json_array):\n",
    "    file_path = f'../data/raw_data/get_br_{index+1}.json'\n",
    "    \n",
    "    \n",
    "    with open(file_path, 'w') as json_file:\n",
    "        json.dump(br_json, json_file, indent=4)"
   ]
  },
  {
   "cell_type": "code",
   "execution_count": 19,
   "id": "7927e6bb",
   "metadata": {},
   "outputs": [],
   "source": [
    "# breathingRate is the average number of breaths taken per minute."
   ]
  }
 ],
 "metadata": {
  "kernelspec": {
   "display_name": "Python 3 (ipykernel)",
   "language": "python",
   "name": "python3"
  },
  "language_info": {
   "codemirror_mode": {
    "name": "ipython",
    "version": 3
   },
   "file_extension": ".py",
   "mimetype": "text/x-python",
   "name": "python",
   "nbconvert_exporter": "python",
   "pygments_lexer": "ipython3",
   "version": "3.11.3"
  }
 },
 "nbformat": 4,
 "nbformat_minor": 5
}
