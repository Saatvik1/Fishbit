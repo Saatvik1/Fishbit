{
 "cells": [
  {
   "cell_type": "code",
   "execution_count": 1,
   "id": "b35d3626",
   "metadata": {},
   "outputs": [],
   "source": [
    "# import requests\n",
    "import time\n",
    "from pprint import pprint\n",
    "import json\n",
    "import csv\n",
    "import os\n",
    "from dotenv import load_dotenv, dotenv_values\n",
    "load_dotenv()\n",
    "from datetime import datetime, timedelta\n",
    "import requests\n",
    "import myfitnesspal\n",
    "import browser_cookie3"
   ]
  },
  {
   "cell_type": "markdown",
   "id": "36cbfe23",
   "metadata": {},
   "source": [
    "# Set your start date"
   ]
  },
  {
   "cell_type": "code",
   "execution_count": 2,
   "id": "43a7d1f9",
   "metadata": {},
   "outputs": [],
   "source": [
    "#Set start_data\n",
    "start_date = '2023-11-23'\n",
    "#start_date = '2024-09-09'"
   ]
  },
  {
   "cell_type": "code",
   "execution_count": 3,
   "id": "a8adc1f0",
   "metadata": {},
   "outputs": [
    {
     "name": "stdout",
     "output_type": "stream",
     "text": [
      "2024-05-19\n"
     ]
    }
   ],
   "source": [
    "# Returns a string that is 30 days after the date given. So if input is a string that says 2024-04-18, returns a string that says 2024-05-18\n",
    "def date_plus_thirty(date):\n",
    "    \n",
    "    dt_start = datetime.strptime(date, '%Y-%m-%d')\n",
    "    dt_end = dt_start + timedelta(31)\n",
    "    \n",
    "    return dt_end.strftime('%Y-%m-%d')\n",
    "\n",
    "print(date_plus_thirty('2024-04-18'))"
   ]
  },
  {
   "cell_type": "markdown",
   "id": "932f7e5c",
   "metadata": {},
   "source": [
    "# Get Activity Log List"
   ]
  },
  {
   "cell_type": "code",
   "execution_count": 5,
   "id": "243cf85c",
   "metadata": {},
   "outputs": [],
   "source": [
    "#Takes start_date, start of batch gathering\n",
    "#Takes end_date, if None, then will default to today, if specified, then will use that date. \n",
    "#Returns of dates that are the edges of each 30 day interval\n",
    "def get_date_intervals(start_date, end_date):\n",
    "    #Variable initialization\n",
    "    date_intervals = []\n",
    "    end_date_dt = None\n",
    "    \n",
    "    #Initialize start_date_dt obj\n",
    "    try:\n",
    "        start_date_dt = datetime.strptime(start_date, '%Y-%m-%d')\n",
    "    except:\n",
    "        raise ValueError(\"Please provide dates in format of YYYY-MM-DD\")\n",
    "        \n",
    "        \n",
    "    #Initialize and set end date\n",
    "    if end_date == None:\n",
    "        end_date_dt = datetime.today()\n",
    "    else:\n",
    "        try:\n",
    "            end_date_dt = datetime.strptime(end_date, '%Y-%m-%d')\n",
    "        except:\n",
    "            raise ValueError(\"Please provide dates in format of YYYY-MM-DD\")\n",
    "            \n",
    "            \n",
    "    #Checking if dates make sense\n",
    "    if start_date_dt > end_date_dt:\n",
    "        raise ValueError(\"Incorrect start and end date values given!!!\")\n",
    " \n",
    "    #Loop in 30 day intervals adding the days, then adding strings of dates to the array\n",
    "    current_date = start_date_dt\n",
    "    #print(end_date_dt)\n",
    "    #print(current_date)\n",
    "\n",
    "    while current_date < end_date_dt:\n",
    "        #print(\"waht\")\n",
    "        date_intervals.append(current_date.strftime('%Y-%m-%d'))\n",
    "        current_date += timedelta(days=30)\n",
    "        \n",
    "    if current_date != end_date_dt:\n",
    "        current_date = end_date_dt\n",
    "        current_date += timedelta(days=-1)\n",
    "        date_intervals.append(current_date.strftime('%Y-%m-%d'))\n",
    "        \n",
    "    return date_intervals"
   ]
  },
  {
   "cell_type": "code",
   "execution_count": 6,
   "id": "356f2222",
   "metadata": {},
   "outputs": [],
   "source": [
    "#Takes in json \n",
    "#Returns date of last date within the json file\n",
    "def get_date_intervals(json, inner, timestr):\n",
    "    #String is in the format of 2023-11-25T18:59:25.000-05:00\n",
    "    \n",
    "    if len(json[inner]):\n",
    "        start_time_str = json[inner][-1][timestr]\n",
    "    else:\n",
    "        return (datetime.today() - timedelta(days = 1)).strftime('%Y-%m-%d')\n",
    "    \n",
    "    start_time_dt = datetime.strptime(start_time_str[0:10], '%Y-%m-%d') + timedelta(days = 1)\n",
    "    \n",
    "    afterDate = start_time_dt.strftime('%Y-%m-%d')[0:10]\n",
    "    \n",
    "    #afterDate = start_time_str[0:10]\n",
    "    \n",
    "    return afterDate"
   ]
  },
  {
   "cell_type": "code",
   "execution_count": 20,
   "id": "26c1928b",
   "metadata": {},
   "outputs": [],
   "source": [
    "#start_date defines the date we start collecting data from, this will usually be the date that the last batch was collected\n",
    "#end_today is a boolean value that signifies if we want the batch to go from the start date to the date the batch collection is called\n",
    "#kwargs will be the end_today if end_today is false.\n",
    "def generate_activities_json(start_date, *args, **kwargs):\n",
    "    end_date = kwargs.get('end_date', datetime.today().strftime('%Y-%m-%d'))\n",
    "    \n",
    "    \n",
    "    #date_intervals = get_date_intervals(start_date, end_date)\n",
    "    after_dt = start_date\n",
    "    #print(date_intervals)\n",
    "    \n",
    "    get_activities_url = f'https://api.fitbit.com/1/user/-/activities/list.json'\n",
    "    \n",
    "#     for index, sd in enumerate(date_intervals, 1):\n",
    "\n",
    "#         get_activities_param = {\n",
    "#             #'beforeDate' : '2024-08-06',\n",
    "#             'afterDate' : sd,\n",
    "#             'sort' : 'asc',\n",
    "#             'limit' : 100,\n",
    "#             'offset' : 0\n",
    "#         }\n",
    "#         get_activities_headers = {\n",
    "#             \"authorization\" : f\"Bearer {os.getenv('ACCESS_TOKEN')}\"\n",
    "#         }\n",
    "\n",
    "#         activities_req = requests.get(url = get_activities_url, params=get_activities_param, headers=get_activities_headers)\n",
    "\n",
    "#         activities_json = activities_req.json()\n",
    "\n",
    "#         file_path = f'../data/raw_data/get_activities_{index}.json'\n",
    "\n",
    "#         with open(file_path, 'w') as json_file:\n",
    "#             json.dump(activities_json, json_file, indent=4)\n",
    "    index = 1\n",
    "    while ((datetime.strptime(after_dt, '%Y-%m-%d').date() != (datetime.today().date() - timedelta(days=1))) & (datetime.strptime(after_dt, '%Y-%m-%d').date() < datetime.today().date())):\n",
    "        print(datetime.strptime(after_dt, '%Y-%m-%d').date())\n",
    "        print(datetime.today().date() - timedelta(days=1))\n",
    "\n",
    "        get_activities_param = {\n",
    "            #'beforeDate' : '2024-08-06',\n",
    "            'afterDate' : after_dt,\n",
    "            'sort' : 'asc',\n",
    "            'limit' : 100,\n",
    "            'offset' : 0\n",
    "        }\n",
    "        get_activities_headers = {\n",
    "            \"authorization\" : f\"Bearer {os.getenv('ACCESS_TOKEN')}\"\n",
    "        }\n",
    "\n",
    "        activities_req = requests.get(url = get_activities_url, params=get_activities_param, headers=get_activities_headers)\n",
    "\n",
    "        activities_json = activities_req.json()\n",
    "\n",
    "        file_path = f'../data/raw_data/get_activities_{index}.json'\n",
    "\n",
    "        with open(file_path, 'w') as json_file:\n",
    "            json.dump(activities_json, json_file, indent=4)\n",
    "            \n",
    "        after_dt = get_date_intervals(activities_json, 'activities', 'startTime')\n",
    "        index += 1"
   ]
  },
  {
   "cell_type": "code",
   "execution_count": 21,
   "id": "9cfd7b29",
   "metadata": {},
   "outputs": [
    {
     "name": "stdout",
     "output_type": "stream",
     "text": [
      "2023-11-23\n",
      "2024-09-14\n",
      "2024-03-17\n",
      "2024-09-14\n",
      "2024-06-29\n",
      "2024-09-14\n"
     ]
    }
   ],
   "source": [
    "generate_activities_json(start_date)"
   ]
  },
  {
   "cell_type": "code",
   "execution_count": null,
   "id": "8797fadd",
   "metadata": {},
   "outputs": [],
   "source": [
    "print(datetime.today())"
   ]
  },
  {
   "cell_type": "markdown",
   "id": "593f10b5",
   "metadata": {},
   "source": [
    "# Get Sleep Activity"
   ]
  },
  {
   "cell_type": "code",
   "execution_count": 18,
   "id": "8535dbbc",
   "metadata": {},
   "outputs": [],
   "source": [
    "def generate_sleep_json(start_date, *args, **kwargs):\n",
    "    #end_date = kwargs.get('end_date', datetime.today().strftime('%Y-%m-%d'))  \n",
    "    \n",
    "    #date_intervals = get_date_intervals(start_date, end_date)\n",
    "    #print(date_intervals)\n",
    "    \n",
    "    after_dt = start_date\n",
    "    \n",
    "    get_sleep_url = f'https://api.fitbit.com/1.2/user/-/sleep/list.json'\n",
    "    \n",
    "    get_sleep_headers = {\n",
    "            \"authorization\" : f\"Bearer {os.getenv('ACCESS_TOKEN')}\"\n",
    "    }\n",
    "    \n",
    "    \n",
    "#     for index, sd in enumerate(date_intervals, 1):\n",
    "\n",
    "#         get_sleep_param = {\n",
    "#             'afterDate' : sd,\n",
    "#             #'beforeDate' : '2024-08-06',\n",
    "#             'sort' : 'asc',\n",
    "#             'limit' : 100,\n",
    "#             'offset' : 0\n",
    "#         }\n",
    "\n",
    "#         daily_sleep_req = requests.get(url = get_sleep_url, params=get_sleep_param, headers=get_sleep_headers)\n",
    "\n",
    "#         daily_sleep_json = daily_sleep_req.json()\n",
    "\n",
    "#         file_path = f'../data/raw_data/get_sleep_{index}.json'\n",
    "\n",
    "#         with open(file_path, 'w') as json_file:\n",
    "#             json.dump(daily_sleep_json, json_file, indent=4)\n",
    "\n",
    "\n",
    "    index = 1\n",
    "    while ((datetime.strptime(after_dt, '%Y-%m-%d').date() != (datetime.today().date() - timedelta(days=1))) & (datetime.strptime(after_dt, '%Y-%m-%d').date() < datetime.today().date())):\n",
    "        get_sleep_param = {\n",
    "            'afterDate' : after_dt,\n",
    "            #'beforeDate' : '2024-08-06',\n",
    "            'sort' : 'asc',\n",
    "            'limit' : 100,\n",
    "            'offset' : 0\n",
    "        }\n",
    "\n",
    "        daily_sleep_req = requests.get(url = get_sleep_url, params=get_sleep_param, headers=get_sleep_headers)\n",
    "\n",
    "        daily_sleep_json = daily_sleep_req.json()\n",
    "\n",
    "        file_path = f'../data/raw_data/get_sleep_{index}.json'\n",
    "\n",
    "        with open(file_path, 'w') as json_file:\n",
    "            json.dump(daily_sleep_json, json_file, indent=4)\n",
    "\n",
    "        after_dt = get_date_intervals(daily_sleep_json, 'sleep', 'startTime')\n",
    "        index += 1"
   ]
  },
  {
   "cell_type": "code",
   "execution_count": 19,
   "id": "4b95da3f",
   "metadata": {},
   "outputs": [],
   "source": [
    "generate_sleep_json(start_date)"
   ]
  },
  {
   "cell_type": "markdown",
   "id": "0c5f72b8",
   "metadata": {},
   "source": [
    "# Get Skin Temperature"
   ]
  },
  {
   "cell_type": "code",
   "execution_count": 7,
   "id": "3cefb218",
   "metadata": {
    "scrolled": false
   },
   "outputs": [
    {
     "ename": "JSONDecodeError",
     "evalue": "Expecting value: line 1 column 1 (char 0)",
     "output_type": "error",
     "traceback": [
      "\u001b[1;31m---------------------------------------------------------------------------\u001b[0m",
      "\u001b[1;31mJSONDecodeError\u001b[0m                           Traceback (most recent call last)",
      "File \u001b[1;32mF:\\Anaconda\\Lib\\site-packages\\requests\\models.py:971\u001b[0m, in \u001b[0;36mResponse.json\u001b[1;34m(self, **kwargs)\u001b[0m\n\u001b[0;32m    970\u001b[0m \u001b[38;5;28;01mtry\u001b[39;00m:\n\u001b[1;32m--> 971\u001b[0m     \u001b[38;5;28;01mreturn\u001b[39;00m complexjson\u001b[38;5;241m.\u001b[39mloads(\u001b[38;5;28mself\u001b[39m\u001b[38;5;241m.\u001b[39mtext, \u001b[38;5;241m*\u001b[39m\u001b[38;5;241m*\u001b[39mkwargs)\n\u001b[0;32m    972\u001b[0m \u001b[38;5;28;01mexcept\u001b[39;00m JSONDecodeError \u001b[38;5;28;01mas\u001b[39;00m e:\n\u001b[0;32m    973\u001b[0m     \u001b[38;5;66;03m# Catch JSON-related errors and raise as requests.JSONDecodeError\u001b[39;00m\n\u001b[0;32m    974\u001b[0m     \u001b[38;5;66;03m# This aliases json.JSONDecodeError and simplejson.JSONDecodeError\u001b[39;00m\n",
      "File \u001b[1;32mF:\\Anaconda\\Lib\\json\\__init__.py:346\u001b[0m, in \u001b[0;36mloads\u001b[1;34m(s, cls, object_hook, parse_float, parse_int, parse_constant, object_pairs_hook, **kw)\u001b[0m\n\u001b[0;32m    343\u001b[0m \u001b[38;5;28;01mif\u001b[39;00m (\u001b[38;5;28mcls\u001b[39m \u001b[38;5;129;01mis\u001b[39;00m \u001b[38;5;28;01mNone\u001b[39;00m \u001b[38;5;129;01mand\u001b[39;00m object_hook \u001b[38;5;129;01mis\u001b[39;00m \u001b[38;5;28;01mNone\u001b[39;00m \u001b[38;5;129;01mand\u001b[39;00m\n\u001b[0;32m    344\u001b[0m         parse_int \u001b[38;5;129;01mis\u001b[39;00m \u001b[38;5;28;01mNone\u001b[39;00m \u001b[38;5;129;01mand\u001b[39;00m parse_float \u001b[38;5;129;01mis\u001b[39;00m \u001b[38;5;28;01mNone\u001b[39;00m \u001b[38;5;129;01mand\u001b[39;00m\n\u001b[0;32m    345\u001b[0m         parse_constant \u001b[38;5;129;01mis\u001b[39;00m \u001b[38;5;28;01mNone\u001b[39;00m \u001b[38;5;129;01mand\u001b[39;00m object_pairs_hook \u001b[38;5;129;01mis\u001b[39;00m \u001b[38;5;28;01mNone\u001b[39;00m \u001b[38;5;129;01mand\u001b[39;00m \u001b[38;5;129;01mnot\u001b[39;00m kw):\n\u001b[1;32m--> 346\u001b[0m     \u001b[38;5;28;01mreturn\u001b[39;00m _default_decoder\u001b[38;5;241m.\u001b[39mdecode(s)\n\u001b[0;32m    347\u001b[0m \u001b[38;5;28;01mif\u001b[39;00m \u001b[38;5;28mcls\u001b[39m \u001b[38;5;129;01mis\u001b[39;00m \u001b[38;5;28;01mNone\u001b[39;00m:\n",
      "File \u001b[1;32mF:\\Anaconda\\Lib\\json\\decoder.py:337\u001b[0m, in \u001b[0;36mJSONDecoder.decode\u001b[1;34m(self, s, _w)\u001b[0m\n\u001b[0;32m    333\u001b[0m \u001b[38;5;250m\u001b[39m\u001b[38;5;124;03m\"\"\"Return the Python representation of ``s`` (a ``str`` instance\u001b[39;00m\n\u001b[0;32m    334\u001b[0m \u001b[38;5;124;03mcontaining a JSON document).\u001b[39;00m\n\u001b[0;32m    335\u001b[0m \n\u001b[0;32m    336\u001b[0m \u001b[38;5;124;03m\"\"\"\u001b[39;00m\n\u001b[1;32m--> 337\u001b[0m obj, end \u001b[38;5;241m=\u001b[39m \u001b[38;5;28mself\u001b[39m\u001b[38;5;241m.\u001b[39mraw_decode(s, idx\u001b[38;5;241m=\u001b[39m_w(s, \u001b[38;5;241m0\u001b[39m)\u001b[38;5;241m.\u001b[39mend())\n\u001b[0;32m    338\u001b[0m end \u001b[38;5;241m=\u001b[39m _w(s, end)\u001b[38;5;241m.\u001b[39mend()\n",
      "File \u001b[1;32mF:\\Anaconda\\Lib\\json\\decoder.py:355\u001b[0m, in \u001b[0;36mJSONDecoder.raw_decode\u001b[1;34m(self, s, idx)\u001b[0m\n\u001b[0;32m    354\u001b[0m \u001b[38;5;28;01mexcept\u001b[39;00m \u001b[38;5;167;01mStopIteration\u001b[39;00m \u001b[38;5;28;01mas\u001b[39;00m err:\n\u001b[1;32m--> 355\u001b[0m     \u001b[38;5;28;01mraise\u001b[39;00m JSONDecodeError(\u001b[38;5;124m\"\u001b[39m\u001b[38;5;124mExpecting value\u001b[39m\u001b[38;5;124m\"\u001b[39m, s, err\u001b[38;5;241m.\u001b[39mvalue) \u001b[38;5;28;01mfrom\u001b[39;00m \u001b[38;5;28;01mNone\u001b[39;00m\n\u001b[0;32m    356\u001b[0m \u001b[38;5;28;01mreturn\u001b[39;00m obj, end\n",
      "\u001b[1;31mJSONDecodeError\u001b[0m: Expecting value: line 1 column 1 (char 0)",
      "\nDuring handling of the above exception, another exception occurred:\n",
      "\u001b[1;31mJSONDecodeError\u001b[0m                           Traceback (most recent call last)",
      "Cell \u001b[1;32mIn[7], line 17\u001b[0m\n\u001b[0;32m     13\u001b[0m get_skin_temp_url \u001b[38;5;241m=\u001b[39m \u001b[38;5;124mf\u001b[39m\u001b[38;5;124m\"\u001b[39m\u001b[38;5;124mhttps://api.fitbit.com/1/user/-/temp/skin/date/\u001b[39m\u001b[38;5;132;01m{\u001b[39;00mdt_iter_obj\u001b[38;5;241m.\u001b[39mstrftime(\u001b[38;5;124m'\u001b[39m\u001b[38;5;124m%\u001b[39m\u001b[38;5;124mY-\u001b[39m\u001b[38;5;124m%\u001b[39m\u001b[38;5;124mm-\u001b[39m\u001b[38;5;132;01m%d\u001b[39;00m\u001b[38;5;124m'\u001b[39m)\u001b[38;5;132;01m}\u001b[39;00m\u001b[38;5;124m/\u001b[39m\u001b[38;5;132;01m{\u001b[39;00mend_date_str\u001b[38;5;132;01m}\u001b[39;00m\u001b[38;5;124m.json\u001b[39m\u001b[38;5;124m\"\u001b[39m\n\u001b[0;32m     15\u001b[0m skin_temp_req \u001b[38;5;241m=\u001b[39m requests\u001b[38;5;241m.\u001b[39mget(url \u001b[38;5;241m=\u001b[39m get_skin_temp_url, headers\u001b[38;5;241m=\u001b[39mget_skin_temp_headers)\n\u001b[1;32m---> 17\u001b[0m skin_temp_json \u001b[38;5;241m=\u001b[39m skin_temp_req\u001b[38;5;241m.\u001b[39mjson()\n\u001b[0;32m     18\u001b[0m skin_json_array\u001b[38;5;241m.\u001b[39mappend(skin_temp_json)\n\u001b[0;32m     20\u001b[0m dt_iter_obj \u001b[38;5;241m=\u001b[39m datetime\u001b[38;5;241m.\u001b[39mstrptime(end_date_str, \u001b[38;5;124m'\u001b[39m\u001b[38;5;124m%\u001b[39m\u001b[38;5;124mY-\u001b[39m\u001b[38;5;124m%\u001b[39m\u001b[38;5;124mm-\u001b[39m\u001b[38;5;132;01m%d\u001b[39;00m\u001b[38;5;124m'\u001b[39m)\n",
      "File \u001b[1;32mF:\\Anaconda\\Lib\\site-packages\\requests\\models.py:975\u001b[0m, in \u001b[0;36mResponse.json\u001b[1;34m(self, **kwargs)\u001b[0m\n\u001b[0;32m    971\u001b[0m     \u001b[38;5;28;01mreturn\u001b[39;00m complexjson\u001b[38;5;241m.\u001b[39mloads(\u001b[38;5;28mself\u001b[39m\u001b[38;5;241m.\u001b[39mtext, \u001b[38;5;241m*\u001b[39m\u001b[38;5;241m*\u001b[39mkwargs)\n\u001b[0;32m    972\u001b[0m \u001b[38;5;28;01mexcept\u001b[39;00m JSONDecodeError \u001b[38;5;28;01mas\u001b[39;00m e:\n\u001b[0;32m    973\u001b[0m     \u001b[38;5;66;03m# Catch JSON-related errors and raise as requests.JSONDecodeError\u001b[39;00m\n\u001b[0;32m    974\u001b[0m     \u001b[38;5;66;03m# This aliases json.JSONDecodeError and simplejson.JSONDecodeError\u001b[39;00m\n\u001b[1;32m--> 975\u001b[0m     \u001b[38;5;28;01mraise\u001b[39;00m RequestsJSONDecodeError(e\u001b[38;5;241m.\u001b[39mmsg, e\u001b[38;5;241m.\u001b[39mdoc, e\u001b[38;5;241m.\u001b[39mpos)\n",
      "\u001b[1;31mJSONDecodeError\u001b[0m: Expecting value: line 1 column 1 (char 0)"
     ]
    }
   ],
   "source": [
    "get_skin_temp_headers = {\n",
    "    \"authorization\" : f\"Bearer {os.getenv('ACCESS_TOKEN')}\"\n",
    "}\n",
    "\n",
    "#cfs_req = requests.get(url = get_cfs_url, params=get_cfs_param, headers=get_cfs_headers)\n",
    "\n",
    "dt_iter_obj = datetime.strptime(start_date, '%Y-%m-%d')\n",
    "skin_json_array = []\n",
    "while(dt_iter_obj < datetime.now()):\n",
    "    \n",
    "    end_date_str = date_plus_thirty(dt_iter_obj.strftime('%Y-%m-%d'))\n",
    "    \n",
    "    get_skin_temp_url = f\"https://api.fitbit.com/1/user/-/temp/skin/date/{dt_iter_obj.strftime('%Y-%m-%d')}/{end_date_str}.json\"\n",
    "    \n",
    "    skin_temp_req = requests.get(url = get_skin_temp_url, headers=get_skin_temp_headers)\n",
    "\n",
    "    skin_temp_json = skin_temp_req.json()\n",
    "    skin_json_array.append(skin_temp_json)\n",
    "    \n",
    "    dt_iter_obj = datetime.strptime(end_date_str, '%Y-%m-%d')\n",
    "\n",
    "\n"
   ]
  },
  {
   "cell_type": "code",
   "execution_count": null,
   "id": "7b99b6b1",
   "metadata": {},
   "outputs": [],
   "source": [
    "for index, skin_json in enumerate(skin_json_array):\n",
    "    file_path = f'../data/raw_data/get_skin_{index+1}.json'\n",
    "    \n",
    "    \n",
    "    with open(file_path, 'w') as json_file:\n",
    "        json.dump(skin_json, json_file, indent=4)"
   ]
  },
  {
   "cell_type": "code",
   "execution_count": null,
   "id": "49736a52",
   "metadata": {},
   "outputs": [],
   "source": [
    "#dateTime, date of temp skin recorded\n",
    "#value : nightlyRelative: + or - value in fahrenheit from baseline temperature from up to 30 days. so +0.4 means that night \n",
    "#i was 0.4 def above my baseline."
   ]
  },
  {
   "cell_type": "markdown",
   "id": "a8a69a2d",
   "metadata": {},
   "source": [
    "# Heart Rate Variability"
   ]
  },
  {
   "cell_type": "code",
   "execution_count": 34,
   "id": "0192f7bc",
   "metadata": {},
   "outputs": [
    {
     "ename": "JSONDecodeError",
     "evalue": "Expecting value: line 1 column 1 (char 0)",
     "output_type": "error",
     "traceback": [
      "\u001b[1;31m---------------------------------------------------------------------------\u001b[0m",
      "\u001b[1;31mJSONDecodeError\u001b[0m                           Traceback (most recent call last)",
      "File \u001b[1;32mF:\\Anaconda\\Lib\\site-packages\\requests\\models.py:971\u001b[0m, in \u001b[0;36mResponse.json\u001b[1;34m(self, **kwargs)\u001b[0m\n\u001b[0;32m    970\u001b[0m \u001b[38;5;28;01mtry\u001b[39;00m:\n\u001b[1;32m--> 971\u001b[0m     \u001b[38;5;28;01mreturn\u001b[39;00m complexjson\u001b[38;5;241m.\u001b[39mloads(\u001b[38;5;28mself\u001b[39m\u001b[38;5;241m.\u001b[39mtext, \u001b[38;5;241m*\u001b[39m\u001b[38;5;241m*\u001b[39mkwargs)\n\u001b[0;32m    972\u001b[0m \u001b[38;5;28;01mexcept\u001b[39;00m JSONDecodeError \u001b[38;5;28;01mas\u001b[39;00m e:\n\u001b[0;32m    973\u001b[0m     \u001b[38;5;66;03m# Catch JSON-related errors and raise as requests.JSONDecodeError\u001b[39;00m\n\u001b[0;32m    974\u001b[0m     \u001b[38;5;66;03m# This aliases json.JSONDecodeError and simplejson.JSONDecodeError\u001b[39;00m\n",
      "File \u001b[1;32mF:\\Anaconda\\Lib\\json\\__init__.py:346\u001b[0m, in \u001b[0;36mloads\u001b[1;34m(s, cls, object_hook, parse_float, parse_int, parse_constant, object_pairs_hook, **kw)\u001b[0m\n\u001b[0;32m    343\u001b[0m \u001b[38;5;28;01mif\u001b[39;00m (\u001b[38;5;28mcls\u001b[39m \u001b[38;5;129;01mis\u001b[39;00m \u001b[38;5;28;01mNone\u001b[39;00m \u001b[38;5;129;01mand\u001b[39;00m object_hook \u001b[38;5;129;01mis\u001b[39;00m \u001b[38;5;28;01mNone\u001b[39;00m \u001b[38;5;129;01mand\u001b[39;00m\n\u001b[0;32m    344\u001b[0m         parse_int \u001b[38;5;129;01mis\u001b[39;00m \u001b[38;5;28;01mNone\u001b[39;00m \u001b[38;5;129;01mand\u001b[39;00m parse_float \u001b[38;5;129;01mis\u001b[39;00m \u001b[38;5;28;01mNone\u001b[39;00m \u001b[38;5;129;01mand\u001b[39;00m\n\u001b[0;32m    345\u001b[0m         parse_constant \u001b[38;5;129;01mis\u001b[39;00m \u001b[38;5;28;01mNone\u001b[39;00m \u001b[38;5;129;01mand\u001b[39;00m object_pairs_hook \u001b[38;5;129;01mis\u001b[39;00m \u001b[38;5;28;01mNone\u001b[39;00m \u001b[38;5;129;01mand\u001b[39;00m \u001b[38;5;129;01mnot\u001b[39;00m kw):\n\u001b[1;32m--> 346\u001b[0m     \u001b[38;5;28;01mreturn\u001b[39;00m _default_decoder\u001b[38;5;241m.\u001b[39mdecode(s)\n\u001b[0;32m    347\u001b[0m \u001b[38;5;28;01mif\u001b[39;00m \u001b[38;5;28mcls\u001b[39m \u001b[38;5;129;01mis\u001b[39;00m \u001b[38;5;28;01mNone\u001b[39;00m:\n",
      "File \u001b[1;32mF:\\Anaconda\\Lib\\json\\decoder.py:337\u001b[0m, in \u001b[0;36mJSONDecoder.decode\u001b[1;34m(self, s, _w)\u001b[0m\n\u001b[0;32m    333\u001b[0m \u001b[38;5;250m\u001b[39m\u001b[38;5;124;03m\"\"\"Return the Python representation of ``s`` (a ``str`` instance\u001b[39;00m\n\u001b[0;32m    334\u001b[0m \u001b[38;5;124;03mcontaining a JSON document).\u001b[39;00m\n\u001b[0;32m    335\u001b[0m \n\u001b[0;32m    336\u001b[0m \u001b[38;5;124;03m\"\"\"\u001b[39;00m\n\u001b[1;32m--> 337\u001b[0m obj, end \u001b[38;5;241m=\u001b[39m \u001b[38;5;28mself\u001b[39m\u001b[38;5;241m.\u001b[39mraw_decode(s, idx\u001b[38;5;241m=\u001b[39m_w(s, \u001b[38;5;241m0\u001b[39m)\u001b[38;5;241m.\u001b[39mend())\n\u001b[0;32m    338\u001b[0m end \u001b[38;5;241m=\u001b[39m _w(s, end)\u001b[38;5;241m.\u001b[39mend()\n",
      "File \u001b[1;32mF:\\Anaconda\\Lib\\json\\decoder.py:355\u001b[0m, in \u001b[0;36mJSONDecoder.raw_decode\u001b[1;34m(self, s, idx)\u001b[0m\n\u001b[0;32m    354\u001b[0m \u001b[38;5;28;01mexcept\u001b[39;00m \u001b[38;5;167;01mStopIteration\u001b[39;00m \u001b[38;5;28;01mas\u001b[39;00m err:\n\u001b[1;32m--> 355\u001b[0m     \u001b[38;5;28;01mraise\u001b[39;00m JSONDecodeError(\u001b[38;5;124m\"\u001b[39m\u001b[38;5;124mExpecting value\u001b[39m\u001b[38;5;124m\"\u001b[39m, s, err\u001b[38;5;241m.\u001b[39mvalue) \u001b[38;5;28;01mfrom\u001b[39;00m \u001b[38;5;28;01mNone\u001b[39;00m\n\u001b[0;32m    356\u001b[0m \u001b[38;5;28;01mreturn\u001b[39;00m obj, end\n",
      "\u001b[1;31mJSONDecodeError\u001b[0m: Expecting value: line 1 column 1 (char 0)",
      "\nDuring handling of the above exception, another exception occurred:\n",
      "\u001b[1;31mJSONDecodeError\u001b[0m                           Traceback (most recent call last)",
      "Cell \u001b[1;32mIn[34], line 14\u001b[0m\n\u001b[0;32m     10\u001b[0m get_hrv_url \u001b[38;5;241m=\u001b[39m \u001b[38;5;124mf\u001b[39m\u001b[38;5;124m\"\u001b[39m\u001b[38;5;124mhttps://api.fitbit.com/1/user/-/hrv/date/\u001b[39m\u001b[38;5;132;01m{\u001b[39;00mdt_iter_obj\u001b[38;5;241m.\u001b[39mstrftime(\u001b[38;5;124m'\u001b[39m\u001b[38;5;124m%\u001b[39m\u001b[38;5;124mY-\u001b[39m\u001b[38;5;124m%\u001b[39m\u001b[38;5;124mm-\u001b[39m\u001b[38;5;132;01m%d\u001b[39;00m\u001b[38;5;124m'\u001b[39m)\u001b[38;5;132;01m}\u001b[39;00m\u001b[38;5;124m/\u001b[39m\u001b[38;5;132;01m{\u001b[39;00mend_date_str\u001b[38;5;132;01m}\u001b[39;00m\u001b[38;5;124m.json\u001b[39m\u001b[38;5;124m\"\u001b[39m\n\u001b[0;32m     12\u001b[0m hrv_req \u001b[38;5;241m=\u001b[39m requests\u001b[38;5;241m.\u001b[39mget(url \u001b[38;5;241m=\u001b[39m get_hrv_url, headers\u001b[38;5;241m=\u001b[39mget_hrv_headers)\n\u001b[1;32m---> 14\u001b[0m hrv_json \u001b[38;5;241m=\u001b[39m hrv_req\u001b[38;5;241m.\u001b[39mjson()\n\u001b[0;32m     15\u001b[0m hrv_json_array\u001b[38;5;241m.\u001b[39mappend(hrv_json)\n\u001b[0;32m     16\u001b[0m dt_iter_obj \u001b[38;5;241m=\u001b[39m datetime\u001b[38;5;241m.\u001b[39mstrptime(end_date_str, \u001b[38;5;124m'\u001b[39m\u001b[38;5;124m%\u001b[39m\u001b[38;5;124mY-\u001b[39m\u001b[38;5;124m%\u001b[39m\u001b[38;5;124mm-\u001b[39m\u001b[38;5;132;01m%d\u001b[39;00m\u001b[38;5;124m'\u001b[39m)\n",
      "File \u001b[1;32mF:\\Anaconda\\Lib\\site-packages\\requests\\models.py:975\u001b[0m, in \u001b[0;36mResponse.json\u001b[1;34m(self, **kwargs)\u001b[0m\n\u001b[0;32m    971\u001b[0m     \u001b[38;5;28;01mreturn\u001b[39;00m complexjson\u001b[38;5;241m.\u001b[39mloads(\u001b[38;5;28mself\u001b[39m\u001b[38;5;241m.\u001b[39mtext, \u001b[38;5;241m*\u001b[39m\u001b[38;5;241m*\u001b[39mkwargs)\n\u001b[0;32m    972\u001b[0m \u001b[38;5;28;01mexcept\u001b[39;00m JSONDecodeError \u001b[38;5;28;01mas\u001b[39;00m e:\n\u001b[0;32m    973\u001b[0m     \u001b[38;5;66;03m# Catch JSON-related errors and raise as requests.JSONDecodeError\u001b[39;00m\n\u001b[0;32m    974\u001b[0m     \u001b[38;5;66;03m# This aliases json.JSONDecodeError and simplejson.JSONDecodeError\u001b[39;00m\n\u001b[1;32m--> 975\u001b[0m     \u001b[38;5;28;01mraise\u001b[39;00m RequestsJSONDecodeError(e\u001b[38;5;241m.\u001b[39mmsg, e\u001b[38;5;241m.\u001b[39mdoc, e\u001b[38;5;241m.\u001b[39mpos)\n",
      "\u001b[1;31mJSONDecodeError\u001b[0m: Expecting value: line 1 column 1 (char 0)"
     ]
    }
   ],
   "source": [
    "get_hrv_headers = {\n",
    "    \"authorization\" : f\"Bearer {os.getenv('ACCESS_TOKEN')}\"\n",
    "}\n",
    "\n",
    "dt_iter_obj = datetime.strptime(start_date, '%Y-%m-%d')\n",
    "hrv_json_array = []\n",
    "while(dt_iter_obj < datetime.now()):\n",
    "    \n",
    "    end_date_str = date_plus_thirty(dt_iter_obj.strftime('%Y-%m-%d'))\n",
    "    get_hrv_url = f\"https://api.fitbit.com/1/user/-/hrv/date/{dt_iter_obj.strftime('%Y-%m-%d')}/{end_date_str}.json\"\n",
    "\n",
    "    hrv_req = requests.get(url = get_hrv_url, headers=get_hrv_headers)\n",
    "\n",
    "    hrv_json = hrv_req.json()\n",
    "    hrv_json_array.append(hrv_json)\n",
    "    dt_iter_obj = datetime.strptime(end_date_str, '%Y-%m-%d')\n",
    "\n"
   ]
  },
  {
   "cell_type": "code",
   "execution_count": 35,
   "id": "8943062f",
   "metadata": {},
   "outputs": [],
   "source": [
    "for index, hrv_json in enumerate(hrv_json_array):\n",
    "    file_path = f'../data/raw_data/get_hrv_{index+1}.json'\n",
    "    \n",
    "    \n",
    "    with open(file_path, 'w') as json_file:\n",
    "        json.dump(hrv_json, json_file, indent=4)"
   ]
  },
  {
   "cell_type": "code",
   "execution_count": 36,
   "id": "bd019839",
   "metadata": {},
   "outputs": [],
   "source": [
    "# During sleep, measure of heart rate variability \n",
    "# dailyRmssd Root Mean Square of Successive Differences between heart beats, measuring short-term variability of users daily HR.\n",
    "# deepRmssd Root Mean Square of Successive Differences between heart beats, measuring short-term variability of users deep HR."
   ]
  },
  {
   "cell_type": "markdown",
   "id": "d0c86497",
   "metadata": {},
   "source": [
    "# Breathing Rate Summary"
   ]
  },
  {
   "cell_type": "code",
   "execution_count": 37,
   "id": "8a19472b",
   "metadata": {},
   "outputs": [
    {
     "ename": "JSONDecodeError",
     "evalue": "Expecting value: line 1 column 1 (char 0)",
     "output_type": "error",
     "traceback": [
      "\u001b[1;31m---------------------------------------------------------------------------\u001b[0m",
      "\u001b[1;31mJSONDecodeError\u001b[0m                           Traceback (most recent call last)",
      "File \u001b[1;32mF:\\Anaconda\\Lib\\site-packages\\requests\\models.py:971\u001b[0m, in \u001b[0;36mResponse.json\u001b[1;34m(self, **kwargs)\u001b[0m\n\u001b[0;32m    970\u001b[0m \u001b[38;5;28;01mtry\u001b[39;00m:\n\u001b[1;32m--> 971\u001b[0m     \u001b[38;5;28;01mreturn\u001b[39;00m complexjson\u001b[38;5;241m.\u001b[39mloads(\u001b[38;5;28mself\u001b[39m\u001b[38;5;241m.\u001b[39mtext, \u001b[38;5;241m*\u001b[39m\u001b[38;5;241m*\u001b[39mkwargs)\n\u001b[0;32m    972\u001b[0m \u001b[38;5;28;01mexcept\u001b[39;00m JSONDecodeError \u001b[38;5;28;01mas\u001b[39;00m e:\n\u001b[0;32m    973\u001b[0m     \u001b[38;5;66;03m# Catch JSON-related errors and raise as requests.JSONDecodeError\u001b[39;00m\n\u001b[0;32m    974\u001b[0m     \u001b[38;5;66;03m# This aliases json.JSONDecodeError and simplejson.JSONDecodeError\u001b[39;00m\n",
      "File \u001b[1;32mF:\\Anaconda\\Lib\\json\\__init__.py:346\u001b[0m, in \u001b[0;36mloads\u001b[1;34m(s, cls, object_hook, parse_float, parse_int, parse_constant, object_pairs_hook, **kw)\u001b[0m\n\u001b[0;32m    343\u001b[0m \u001b[38;5;28;01mif\u001b[39;00m (\u001b[38;5;28mcls\u001b[39m \u001b[38;5;129;01mis\u001b[39;00m \u001b[38;5;28;01mNone\u001b[39;00m \u001b[38;5;129;01mand\u001b[39;00m object_hook \u001b[38;5;129;01mis\u001b[39;00m \u001b[38;5;28;01mNone\u001b[39;00m \u001b[38;5;129;01mand\u001b[39;00m\n\u001b[0;32m    344\u001b[0m         parse_int \u001b[38;5;129;01mis\u001b[39;00m \u001b[38;5;28;01mNone\u001b[39;00m \u001b[38;5;129;01mand\u001b[39;00m parse_float \u001b[38;5;129;01mis\u001b[39;00m \u001b[38;5;28;01mNone\u001b[39;00m \u001b[38;5;129;01mand\u001b[39;00m\n\u001b[0;32m    345\u001b[0m         parse_constant \u001b[38;5;129;01mis\u001b[39;00m \u001b[38;5;28;01mNone\u001b[39;00m \u001b[38;5;129;01mand\u001b[39;00m object_pairs_hook \u001b[38;5;129;01mis\u001b[39;00m \u001b[38;5;28;01mNone\u001b[39;00m \u001b[38;5;129;01mand\u001b[39;00m \u001b[38;5;129;01mnot\u001b[39;00m kw):\n\u001b[1;32m--> 346\u001b[0m     \u001b[38;5;28;01mreturn\u001b[39;00m _default_decoder\u001b[38;5;241m.\u001b[39mdecode(s)\n\u001b[0;32m    347\u001b[0m \u001b[38;5;28;01mif\u001b[39;00m \u001b[38;5;28mcls\u001b[39m \u001b[38;5;129;01mis\u001b[39;00m \u001b[38;5;28;01mNone\u001b[39;00m:\n",
      "File \u001b[1;32mF:\\Anaconda\\Lib\\json\\decoder.py:337\u001b[0m, in \u001b[0;36mJSONDecoder.decode\u001b[1;34m(self, s, _w)\u001b[0m\n\u001b[0;32m    333\u001b[0m \u001b[38;5;250m\u001b[39m\u001b[38;5;124;03m\"\"\"Return the Python representation of ``s`` (a ``str`` instance\u001b[39;00m\n\u001b[0;32m    334\u001b[0m \u001b[38;5;124;03mcontaining a JSON document).\u001b[39;00m\n\u001b[0;32m    335\u001b[0m \n\u001b[0;32m    336\u001b[0m \u001b[38;5;124;03m\"\"\"\u001b[39;00m\n\u001b[1;32m--> 337\u001b[0m obj, end \u001b[38;5;241m=\u001b[39m \u001b[38;5;28mself\u001b[39m\u001b[38;5;241m.\u001b[39mraw_decode(s, idx\u001b[38;5;241m=\u001b[39m_w(s, \u001b[38;5;241m0\u001b[39m)\u001b[38;5;241m.\u001b[39mend())\n\u001b[0;32m    338\u001b[0m end \u001b[38;5;241m=\u001b[39m _w(s, end)\u001b[38;5;241m.\u001b[39mend()\n",
      "File \u001b[1;32mF:\\Anaconda\\Lib\\json\\decoder.py:355\u001b[0m, in \u001b[0;36mJSONDecoder.raw_decode\u001b[1;34m(self, s, idx)\u001b[0m\n\u001b[0;32m    354\u001b[0m \u001b[38;5;28;01mexcept\u001b[39;00m \u001b[38;5;167;01mStopIteration\u001b[39;00m \u001b[38;5;28;01mas\u001b[39;00m err:\n\u001b[1;32m--> 355\u001b[0m     \u001b[38;5;28;01mraise\u001b[39;00m JSONDecodeError(\u001b[38;5;124m\"\u001b[39m\u001b[38;5;124mExpecting value\u001b[39m\u001b[38;5;124m\"\u001b[39m, s, err\u001b[38;5;241m.\u001b[39mvalue) \u001b[38;5;28;01mfrom\u001b[39;00m \u001b[38;5;28;01mNone\u001b[39;00m\n\u001b[0;32m    356\u001b[0m \u001b[38;5;28;01mreturn\u001b[39;00m obj, end\n",
      "\u001b[1;31mJSONDecodeError\u001b[0m: Expecting value: line 1 column 1 (char 0)",
      "\nDuring handling of the above exception, another exception occurred:\n",
      "\u001b[1;31mJSONDecodeError\u001b[0m                           Traceback (most recent call last)",
      "Cell \u001b[1;32mIn[37], line 14\u001b[0m\n\u001b[0;32m     10\u001b[0m get_br_url \u001b[38;5;241m=\u001b[39m \u001b[38;5;124mf\u001b[39m\u001b[38;5;124m\"\u001b[39m\u001b[38;5;124mhttps://api.fitbit.com/1/user/-/br/date/\u001b[39m\u001b[38;5;132;01m{\u001b[39;00mdt_iter_obj\u001b[38;5;241m.\u001b[39mstrftime(\u001b[38;5;124m'\u001b[39m\u001b[38;5;124m%\u001b[39m\u001b[38;5;124mY-\u001b[39m\u001b[38;5;124m%\u001b[39m\u001b[38;5;124mm-\u001b[39m\u001b[38;5;132;01m%d\u001b[39;00m\u001b[38;5;124m'\u001b[39m)\u001b[38;5;132;01m}\u001b[39;00m\u001b[38;5;124m/\u001b[39m\u001b[38;5;132;01m{\u001b[39;00mend_date_str\u001b[38;5;132;01m}\u001b[39;00m\u001b[38;5;124m.json\u001b[39m\u001b[38;5;124m\"\u001b[39m\n\u001b[0;32m     12\u001b[0m br_req \u001b[38;5;241m=\u001b[39m requests\u001b[38;5;241m.\u001b[39mget(url \u001b[38;5;241m=\u001b[39m get_br_url, headers\u001b[38;5;241m=\u001b[39mget_br_headers)\n\u001b[1;32m---> 14\u001b[0m br_json \u001b[38;5;241m=\u001b[39m br_req\u001b[38;5;241m.\u001b[39mjson()\n\u001b[0;32m     15\u001b[0m br_json_array\u001b[38;5;241m.\u001b[39mappend(br_json)\n\u001b[0;32m     16\u001b[0m dt_iter_obj \u001b[38;5;241m=\u001b[39m datetime\u001b[38;5;241m.\u001b[39mstrptime(end_date_str, \u001b[38;5;124m'\u001b[39m\u001b[38;5;124m%\u001b[39m\u001b[38;5;124mY-\u001b[39m\u001b[38;5;124m%\u001b[39m\u001b[38;5;124mm-\u001b[39m\u001b[38;5;132;01m%d\u001b[39;00m\u001b[38;5;124m'\u001b[39m)\n",
      "File \u001b[1;32mF:\\Anaconda\\Lib\\site-packages\\requests\\models.py:975\u001b[0m, in \u001b[0;36mResponse.json\u001b[1;34m(self, **kwargs)\u001b[0m\n\u001b[0;32m    971\u001b[0m     \u001b[38;5;28;01mreturn\u001b[39;00m complexjson\u001b[38;5;241m.\u001b[39mloads(\u001b[38;5;28mself\u001b[39m\u001b[38;5;241m.\u001b[39mtext, \u001b[38;5;241m*\u001b[39m\u001b[38;5;241m*\u001b[39mkwargs)\n\u001b[0;32m    972\u001b[0m \u001b[38;5;28;01mexcept\u001b[39;00m JSONDecodeError \u001b[38;5;28;01mas\u001b[39;00m e:\n\u001b[0;32m    973\u001b[0m     \u001b[38;5;66;03m# Catch JSON-related errors and raise as requests.JSONDecodeError\u001b[39;00m\n\u001b[0;32m    974\u001b[0m     \u001b[38;5;66;03m# This aliases json.JSONDecodeError and simplejson.JSONDecodeError\u001b[39;00m\n\u001b[1;32m--> 975\u001b[0m     \u001b[38;5;28;01mraise\u001b[39;00m RequestsJSONDecodeError(e\u001b[38;5;241m.\u001b[39mmsg, e\u001b[38;5;241m.\u001b[39mdoc, e\u001b[38;5;241m.\u001b[39mpos)\n",
      "\u001b[1;31mJSONDecodeError\u001b[0m: Expecting value: line 1 column 1 (char 0)"
     ]
    }
   ],
   "source": [
    "get_br_headers = {\n",
    "    \"authorization\" : f\"Bearer {os.getenv('ACCESS_TOKEN')}\"\n",
    "}\n",
    "\n",
    "dt_iter_obj = datetime.strptime(start_date, '%Y-%m-%d')\n",
    "br_json_array = []\n",
    "while(dt_iter_obj < datetime.now()):\n",
    "    \n",
    "    end_date_str = date_plus_thirty(dt_iter_obj.strftime('%Y-%m-%d'))\n",
    "    get_br_url = f\"https://api.fitbit.com/1/user/-/br/date/{dt_iter_obj.strftime('%Y-%m-%d')}/{end_date_str}.json\"\n",
    "\n",
    "    br_req = requests.get(url = get_br_url, headers=get_br_headers)\n",
    "\n",
    "    br_json = br_req.json()\n",
    "    br_json_array.append(br_json)\n",
    "    dt_iter_obj = datetime.strptime(end_date_str, '%Y-%m-%d')\n",
    "\n"
   ]
  },
  {
   "cell_type": "code",
   "execution_count": 29,
   "id": "708e7bfa",
   "metadata": {},
   "outputs": [],
   "source": [
    "for index, br_json in enumerate(br_json_array):\n",
    "    file_path = f'../data/raw_data/get_br_{index+1}.json'\n",
    "    \n",
    "    \n",
    "    with open(file_path, 'w') as json_file:\n",
    "        json.dump(br_json, json_file, indent=4)"
   ]
  },
  {
   "cell_type": "code",
   "execution_count": 30,
   "id": "7927e6bb",
   "metadata": {},
   "outputs": [],
   "source": [
    "# breathingRate is the average number of breaths taken per minute."
   ]
  },
  {
   "cell_type": "markdown",
   "id": "4e494621",
   "metadata": {},
   "source": [
    "# MyFitnessPal Data"
   ]
  },
  {
   "cell_type": "code",
   "execution_count": 31,
   "id": "23c504c6",
   "metadata": {},
   "outputs": [],
   "source": [
    "#Had to use (free trial) premium to download the data, the api is too difficult to work with given my patience and time constraints."
   ]
  },
  {
   "cell_type": "code",
   "execution_count": null,
   "id": "8f48286f",
   "metadata": {},
   "outputs": [],
   "source": []
  }
 ],
 "metadata": {
  "kernelspec": {
   "display_name": "Python 3 (ipykernel)",
   "language": "python",
   "name": "python3"
  },
  "language_info": {
   "codemirror_mode": {
    "name": "ipython",
    "version": 3
   },
   "file_extension": ".py",
   "mimetype": "text/x-python",
   "name": "python",
   "nbconvert_exporter": "python",
   "pygments_lexer": "ipython3",
   "version": "3.11.3"
  }
 },
 "nbformat": 4,
 "nbformat_minor": 5
}
