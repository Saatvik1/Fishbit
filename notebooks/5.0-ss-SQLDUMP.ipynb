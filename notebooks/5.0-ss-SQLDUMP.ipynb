{
 "cells": [
  {
   "cell_type": "code",
   "execution_count": 1,
   "id": "41d67756",
   "metadata": {},
   "outputs": [],
   "source": [
    "import sqlalchemy\n",
    "from sqlalchemy import create_engine, text\n",
    "from dotenv import load_dotenv, dotenv_values\n",
    "load_dotenv()\n",
    "import os"
   ]
  },
  {
   "cell_type": "code",
   "execution_count": 2,
   "id": "d176ec86",
   "metadata": {},
   "outputs": [
    {
     "name": "stdout",
     "output_type": "stream",
     "text": [
      "2024-09-11 11:21:24,024 INFO sqlalchemy.engine.Engine SELECT DATABASE()\n",
      "2024-09-11 11:21:24,025 INFO sqlalchemy.engine.Engine [raw sql] {}\n",
      "2024-09-11 11:21:24,088 INFO sqlalchemy.engine.Engine SELECT @@sql_mode\n",
      "2024-09-11 11:21:24,089 INFO sqlalchemy.engine.Engine [raw sql] {}\n",
      "2024-09-11 11:21:24,119 INFO sqlalchemy.engine.Engine SELECT @@lower_case_table_names\n",
      "2024-09-11 11:21:24,120 INFO sqlalchemy.engine.Engine [raw sql] {}\n"
     ]
    }
   ],
   "source": [
    "connection_string = \"mysql+mysqlconnector://\" + os.getenv(\"DATABASE_USERNAME\")+ \":\" + os.getenv(\"DATABASE_PASSWORD\") +\"@\" + os.getenv(\"DATABASE_HOST\") + \":\" + \"3306\" + \"/\" + os.getenv(\"DATABASE\")\n",
    "engine = create_engine(connection_string, echo=True)\n",
    "connection = engine.connect()"
   ]
  },
  {
   "cell_type": "code",
   "execution_count": 3,
   "id": "95429f6c",
   "metadata": {},
   "outputs": [],
   "source": [
    "%load_ext sql\n",
    "%sql $connection_string"
   ]
  },
  {
   "cell_type": "code",
   "execution_count": null,
   "id": "34500706",
   "metadata": {},
   "outputs": [],
   "source": []
  }
 ],
 "metadata": {
  "kernelspec": {
   "display_name": "Python 3 (ipykernel)",
   "language": "python",
   "name": "python3"
  },
  "language_info": {
   "codemirror_mode": {
    "name": "ipython",
    "version": 3
   },
   "file_extension": ".py",
   "mimetype": "text/x-python",
   "name": "python",
   "nbconvert_exporter": "python",
   "pygments_lexer": "ipython3",
   "version": "3.11.3"
  }
 },
 "nbformat": 4,
 "nbformat_minor": 5
}
