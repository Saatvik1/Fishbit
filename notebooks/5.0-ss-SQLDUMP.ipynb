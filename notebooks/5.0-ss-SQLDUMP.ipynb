{
 "cells": [
  {
   "cell_type": "code",
   "execution_count": 1,
   "id": "41d67756",
   "metadata": {},
   "outputs": [
    {
     "data": {
      "text/plain": [
       "True"
      ]
     },
     "execution_count": 1,
     "metadata": {},
     "output_type": "execute_result"
    }
   ],
   "source": [
    "import sqlalchemy\n",
    "from sqlalchemy import create_engine, text\n",
    "from dotenv import load_dotenv, dotenv_values\n",
    "import os\n",
    "import pandas as pd\n",
    "\n",
    "load_dotenv()"
   ]
  },
  {
   "cell_type": "code",
   "execution_count": 2,
   "id": "f683171b",
   "metadata": {},
   "outputs": [
    {
     "name": "stdout",
     "output_type": "stream",
     "text": [
      "['initial_clean_activities.csv', 'initial_clean_br.csv', 'initial_clean_gf.csv', 'initial_clean_hrv.csv', 'initial_clean_mfp.csv', 'initial_clean_sleep.csv', 'initial_clean_tempSkin.csv', 'intial_clean_sleep_levels.csv']\n"
     ]
    }
   ],
   "source": [
    "directory = '../data/interim'\n",
    "interim_data_files = os.listdir(directory)\n",
    "print(interim_data_files)"
   ]
  },
  {
   "cell_type": "code",
   "execution_count": 3,
   "id": "d176ec86",
   "metadata": {},
   "outputs": [
    {
     "name": "stdout",
     "output_type": "stream",
     "text": [
      "2024-11-14 22:48:25,081 INFO sqlalchemy.engine.Engine SELECT DATABASE()\n",
      "2024-11-14 22:48:25,082 INFO sqlalchemy.engine.Engine [raw sql] {}\n",
      "2024-11-14 22:48:25,145 INFO sqlalchemy.engine.Engine SELECT @@sql_mode\n",
      "2024-11-14 22:48:25,146 INFO sqlalchemy.engine.Engine [raw sql] {}\n",
      "2024-11-14 22:48:25,178 INFO sqlalchemy.engine.Engine SELECT @@lower_case_table_names\n",
      "2024-11-14 22:48:25,179 INFO sqlalchemy.engine.Engine [raw sql] {}\n"
     ]
    }
   ],
   "source": [
    "connection_string = \"mysql+mysqlconnector://\" + os.getenv(\"DATABASE_USERNAME\")+ \":\" + os.getenv(\"DATABASE_PASSWORD\") +\"@\" + os.getenv(\"DATABASE_HOST\") + \":\" + \"3306\" + \"/\" + os.getenv(\"DATABASE\")\n",
    "engine = create_engine(connection_string, echo=True)\n",
    "connection = engine.connect()"
   ]
  },
  {
   "cell_type": "code",
   "execution_count": 4,
   "id": "95429f6c",
   "metadata": {},
   "outputs": [],
   "source": [
    "%load_ext sql\n",
    "%sql $connection_string"
   ]
  },
  {
   "cell_type": "code",
   "execution_count": 5,
   "id": "34500706",
   "metadata": {},
   "outputs": [],
   "source": [
    "#Initialize names of tables in the order they appear in the directory\n",
    "sql_table_names = ['activities', 'breathing_rate', 'google_form', 'heart_rate_variability', 'myfitnesspal',\n",
    "                   'sleep_session', 'skin_temp', 'sleep_levels']"
   ]
  },
  {
   "cell_type": "code",
   "execution_count": 6,
   "id": "97229ae3",
   "metadata": {
    "scrolled": true
   },
   "outputs": [
    {
     "name": "stdout",
     "output_type": "stream",
     "text": [
      "2024-11-14 22:48:32,362 INFO sqlalchemy.engine.Engine BEGIN (implicit)\n",
      "2024-11-14 22:48:32,373 INFO sqlalchemy.engine.Engine DESCRIBE `fishbit`.`activities`\n",
      "2024-11-14 22:48:32,374 INFO sqlalchemy.engine.Engine [raw sql] {}\n",
      "2024-11-14 22:48:32,405 INFO sqlalchemy.engine.Engine DESCRIBE `fishbit`.`activities`\n",
      "2024-11-14 22:48:32,406 INFO sqlalchemy.engine.Engine [raw sql] {}\n",
      "2024-11-14 22:48:32,438 INFO sqlalchemy.engine.Engine SHOW FULL TABLES FROM `fishbit`\n",
      "2024-11-14 22:48:32,439 INFO sqlalchemy.engine.Engine [raw sql] {}\n",
      "2024-11-14 22:48:32,472 INFO sqlalchemy.engine.Engine SHOW FULL TABLES FROM `fishbit`\n",
      "2024-11-14 22:48:32,472 INFO sqlalchemy.engine.Engine [raw sql] {}\n",
      "2024-11-14 22:48:32,509 INFO sqlalchemy.engine.Engine SHOW CREATE TABLE `activities`\n",
      "2024-11-14 22:48:32,509 INFO sqlalchemy.engine.Engine [raw sql] {}\n",
      "2024-11-14 22:48:32,542 INFO sqlalchemy.engine.Engine \n",
      "DROP TABLE activities\n",
      "2024-11-14 22:48:32,542 INFO sqlalchemy.engine.Engine [no key 0.00871s] {}\n",
      "2024-11-14 22:48:32,608 INFO sqlalchemy.engine.Engine \n",
      "CREATE TABLE activities (\n",
      "\t`activityTypeId` BIGINT, \n",
      "\t`activityName` TEXT, \n",
      "\tcalories BIGINT, \n",
      "\tsteps FLOAT(53), \n",
      "\t`averageHeartRate` FLOAT(53), \n",
      "\tduration BIGINT, \n",
      "\t`activeDuration` BIGINT, \n",
      "\t`startTime` TEXT, \n",
      "\t`hrz_OutofRange_calories` FLOAT(53), \n",
      "\t`hrz_FatBurn_calories` FLOAT(53), \n",
      "\t`hrz_Cardio_calories` FLOAT(53), \n",
      "\t`hrz_Peak_calories` FLOAT(53), \n",
      "\t`hrz_OutofRange_minutes` BIGINT, \n",
      "\t`hrz_FatBurn_minutes` BIGINT, \n",
      "\t`hrz_Cardio_minutes` BIGINT, \n",
      "\t`hrz_Peak_minutes` BIGINT\n",
      ")\n",
      "\n",
      "\n",
      "2024-11-14 22:48:32,609 INFO sqlalchemy.engine.Engine [no key 0.00881s] {}\n",
      "2024-11-14 22:48:32,698 INFO sqlalchemy.engine.Engine INSERT INTO activities (`activityTypeId`, `activityName`, calories, steps, `averageHeartRate`, duration, `activeDuration`, `startTime`, `hrz_OutofRange_calories`, `hrz_FatBurn_calories`, `hrz_Cardio_calories`, `hrz_Peak_calories`, `hrz_OutofRange_minutes`, `hrz_FatBurn_minutes`, `hrz_Cardio_minutes`, `hrz_Peak_minutes`) VALUES (%(activityTypeId)s, %(activityName)s, %(calories)s, %(steps)s, %(averageHeartRate)s, %(duration)s, %(activeDuration)s, %(startTime)s, %(hrz_OutofRange_calories)s, %(hrz_FatBurn_calories)s, %(hrz_Cardio_calories)s, %(hrz_Peak_calories)s, %(hrz_OutofRange_minutes)s, %(hrz_FatBurn_minutes)s, %(hrz_Cardio_minutes)s, %(hrz_Peak_minutes)s)\n",
      "2024-11-14 22:48:32,698 INFO sqlalchemy.engine.Engine [generated in 0.01190s] [{'activityTypeId': 90013, 'activityName': 'Walk', 'calories': 562, 'steps': 4874.0, 'averageHeartRate': 129.0, 'duration': 3840000, 'activeDuration': 3840000, 'startTime': '2023-11-25T18:59:25.000-05:00', 'hrz_OutofRange_calories': 10.698376, 'hrz_FatBurn_calories': 68.365232, 'hrz_Cardio_calories': 494.604188, 'hrz_Peak_calories': 0.0, 'hrz_OutofRange_minutes': 0, 'hrz_FatBurn_minutes': 10, 'hrz_Cardio_minutes': 54, 'hrz_Peak_minutes': 0}, {'activityTypeId': 90013, 'activityName': 'Walk', 'calories': 125, 'steps': 1142.0, 'averageHeartRate': 104.0, 'duration': 1024000, 'activeDuration': 1024000, 'startTime': '2023-11-27T14:21:24.000-05:00', 'hrz_OutofRange_calories': 40.44508, 'hrz_FatBurn_calories': 93.676024, 'hrz_Cardio_calories': 0.0, 'hrz_Peak_calories': 0.0, 'hrz_OutofRange_minutes': 4, 'hrz_FatBurn_minutes': 13, 'hrz_Cardio_minutes': 0, 'hrz_Peak_minutes': 0}, {'activityTypeId': 90009, 'activityName': 'Run', 'calories': 65, 'steps': 536.0, 'averageHeartRate': 110.0, 'duration': 552000, 'activeDuration': 546000, 'startTime': '2023-11-29T10:54:56.000-05:00', 'hrz_OutofRange_calories': 15.264756, 'hrz_FatBurn_calories': 43.315376, 'hrz_Cardio_calories': 6.5234, 'hrz_Peak_calories': 0.0, 'hrz_OutofRange_minutes': 3, 'hrz_FatBurn_minutes': 5, 'hrz_Cardio_minutes': 1, 'hrz_Peak_minutes': 0}, {'activityTypeId': 90013, 'activityName': 'Walk', 'calories': 186, 'steps': 1615.0, 'averageHeartRate': 124.0, 'duration': 1229000, 'activeDuration': 1229000, 'startTime': '2023-11-29T16:05:01.000-05:00', 'hrz_OutofRange_calories': 11.481184, 'hrz_FatBurn_calories': 104.3744, 'hrz_Cardio_calories': 82.19484, 'hrz_Peak_calories': 0.0, 'hrz_OutofRange_minutes': 0, 'hrz_FatBurn_minutes': 12, 'hrz_Cardio_minutes': 8, 'hrz_Peak_minutes': 0}, {'activityTypeId': 90013, 'activityName': 'Walk', 'calories': 135, 'steps': 1405.0, 'averageHeartRate': 107.0, 'duration': 972000, 'activeDuration': 972000, 'startTime': '2023-11-30T11:18:52.000-05:00', 'hrz_OutofRange_calories': 54.927028, 'hrz_FatBurn_calories': 78.802672, 'hrz_Cardio_calories': 9.654632, 'hrz_Peak_calories': 0.0, 'hrz_OutofRange_minutes': 6, 'hrz_FatBurn_minutes': 9, 'hrz_Cardio_minutes': 1, 'hrz_Peak_minutes': 0}, {'activityTypeId': 90013, 'activityName': 'Walk', 'calories': 196, 'steps': 1802.0, 'averageHeartRate': 113.0, 'duration': 1434000, 'activeDuration': 1434000, 'startTime': '2023-11-30T12:56:08.000-05:00', 'hrz_OutofRange_calories': 18.787392, 'hrz_FatBurn_calories': 186.960644, 'hrz_Cardio_calories': 0.0, 'hrz_Peak_calories': 0.0, 'hrz_OutofRange_minutes': 0, 'hrz_FatBurn_minutes': 23, 'hrz_Cardio_minutes': 0, 'hrz_Peak_minutes': 0}, {'activityTypeId': 90013, 'activityName': 'Walk', 'calories': 146, 'steps': 1607.0, 'averageHeartRate': 116.0, 'duration': 1075000, 'activeDuration': 1075000, 'startTime': '2023-12-01T22:08:39.000-05:00', 'hrz_OutofRange_calories': 8.610888, 'hrz_FatBurn_calories': 146.906968, 'hrz_Cardio_calories': 0.0, 'hrz_Peak_calories': 0.0, 'hrz_OutofRange_minutes': 0, 'hrz_FatBurn_minutes': 18, 'hrz_Cardio_minutes': 0, 'hrz_Peak_minutes': 0}, {'activityTypeId': 90013, 'activityName': 'Walk', 'calories': 163, 'steps': 1656.0, 'averageHeartRate': 123.0, 'duration': 1279000, 'activeDuration': 1279000, 'startTime': '2023-12-05T19:17:21.000-05:00', 'hrz_OutofRange_calories': 8.871824, 'hrz_FatBurn_calories': 129.554724, 'hrz_Cardio_calories': 34.443552, 'hrz_Peak_calories': 0.0, 'hrz_OutofRange_minutes': 0, 'hrz_FatBurn_minutes': 16, 'hrz_Cardio_minutes': 5, 'hrz_Peak_minutes': 0}  ... displaying 10 of 442 total bound parameter sets ...  {'activityTypeId': 90013, 'activityName': 'Walk', 'calories': 99, 'steps': 1167.0, 'averageHeartRate': 104.0, 'duration': 972000, 'activeDuration': 972000, 'startTime': '2024-11-13T18:27:24.000-05:00', 'hrz_OutofRange_calories': 92.962044, 'hrz_FatBurn_calories': 14.704452, 'hrz_Cardio_calories': 0.0, 'hrz_Peak_calories': 0.0, 'hrz_OutofRange_minutes': 13, 'hrz_FatBurn_minutes': 3, 'hrz_Cardio_minutes': 0, 'hrz_Peak_minutes': 0}, {'activityTypeId': 90013, 'activityName': 'Walk', 'calories': 394, 'steps': 4109.0, 'averageHeartRate': 113.0, 'duration': 2859000, 'activeDuration': 2859000, 'startTime': '2024-11-14T21:12:44.000-05:00', 'hrz_OutofRange_calories': 225.177498, 'hrz_FatBurn_calories': 169.225812, 'hrz_Cardio_calories': 8.224524, 'hrz_Peak_calories': 0.0, 'hrz_OutofRange_minutes': 26, 'hrz_FatBurn_minutes': 20, 'hrz_Cardio_minutes': 1, 'hrz_Peak_minutes': 0}]\n",
      "2024-11-14 22:48:32,810 INFO sqlalchemy.engine.Engine COMMIT\n",
      "2024-11-14 22:48:32,861 INFO sqlalchemy.engine.Engine BEGIN (implicit)\n",
      "2024-11-14 22:48:32,871 INFO sqlalchemy.engine.Engine DESCRIBE `fishbit`.`breathing_rate`\n",
      "2024-11-14 22:48:32,871 INFO sqlalchemy.engine.Engine [raw sql] {}\n",
      "2024-11-14 22:48:32,902 INFO sqlalchemy.engine.Engine DESCRIBE `fishbit`.`breathing_rate`\n",
      "2024-11-14 22:48:32,903 INFO sqlalchemy.engine.Engine [raw sql] {}\n",
      "2024-11-14 22:48:32,935 INFO sqlalchemy.engine.Engine SHOW FULL TABLES FROM `fishbit`\n",
      "2024-11-14 22:48:32,936 INFO sqlalchemy.engine.Engine [raw sql] {}\n",
      "2024-11-14 22:48:32,967 INFO sqlalchemy.engine.Engine SHOW FULL TABLES FROM `fishbit`\n",
      "2024-11-14 22:48:32,967 INFO sqlalchemy.engine.Engine [raw sql] {}\n",
      "2024-11-14 22:48:33,002 INFO sqlalchemy.engine.Engine SHOW CREATE TABLE `breathing_rate`\n",
      "2024-11-14 22:48:33,003 INFO sqlalchemy.engine.Engine [raw sql] {}\n",
      "2024-11-14 22:48:33,033 INFO sqlalchemy.engine.Engine \n",
      "DROP TABLE breathing_rate\n",
      "2024-11-14 22:48:33,034 INFO sqlalchemy.engine.Engine [no key 0.00879s] {}\n",
      "2024-11-14 22:48:33,100 INFO sqlalchemy.engine.Engine \n",
      "CREATE TABLE breathing_rate (\n",
      "\t`dateTime` TEXT, \n",
      "\t`value.breathingRate` FLOAT(53)\n",
      ")\n",
      "\n",
      "\n",
      "2024-11-14 22:48:33,100 INFO sqlalchemy.engine.Engine [no key 0.00922s] {}\n",
      "2024-11-14 22:48:33,186 INFO sqlalchemy.engine.Engine INSERT INTO breathing_rate (`dateTime`, `value.breathingRate`) VALUES (%(dateTime)s, %(value_breathingRate)s)\n"
     ]
    },
    {
     "name": "stdout",
     "output_type": "stream",
     "text": [
      "2024-11-14 22:48:33,186 INFO sqlalchemy.engine.Engine [generated in 0.00932s] [{'dateTime': '2023-11-23', 'value_breathingRate': 16.6}, {'dateTime': '2023-11-24', 'value_breathingRate': 14.6}, {'dateTime': '2023-11-25', 'value_breathingRate': 15.2}, {'dateTime': '2023-11-26', 'value_breathingRate': 14.2}, {'dateTime': '2023-11-27', 'value_breathingRate': 13.4}, {'dateTime': '2023-11-28', 'value_breathingRate': 15.0}, {'dateTime': '2023-11-29', 'value_breathingRate': 13.4}, {'dateTime': '2023-11-30', 'value_breathingRate': 13.2}  ... displaying 10 of 338 total bound parameter sets ...  {'dateTime': '2024-11-13', 'value_breathingRate': 13.4}, {'dateTime': '2024-11-14', 'value_breathingRate': 13.8}]\n",
      "2024-11-14 22:48:33,215 INFO sqlalchemy.engine.Engine COMMIT\n",
      "2024-11-14 22:48:33,263 INFO sqlalchemy.engine.Engine BEGIN (implicit)\n",
      "2024-11-14 22:48:33,273 INFO sqlalchemy.engine.Engine DESCRIBE `fishbit`.`google_form`\n",
      "2024-11-14 22:48:33,274 INFO sqlalchemy.engine.Engine [raw sql] {}\n",
      "2024-11-14 22:48:33,307 INFO sqlalchemy.engine.Engine DESCRIBE `fishbit`.`google_form`\n",
      "2024-11-14 22:48:33,307 INFO sqlalchemy.engine.Engine [raw sql] {}\n",
      "2024-11-14 22:48:33,339 INFO sqlalchemy.engine.Engine SHOW FULL TABLES FROM `fishbit`\n",
      "2024-11-14 22:48:33,339 INFO sqlalchemy.engine.Engine [raw sql] {}\n",
      "2024-11-14 22:48:33,370 INFO sqlalchemy.engine.Engine SHOW FULL TABLES FROM `fishbit`\n",
      "2024-11-14 22:48:33,370 INFO sqlalchemy.engine.Engine [raw sql] {}\n",
      "2024-11-14 22:48:33,401 INFO sqlalchemy.engine.Engine SHOW CREATE TABLE `google_form`\n",
      "2024-11-14 22:48:33,402 INFO sqlalchemy.engine.Engine [raw sql] {}\n",
      "2024-11-14 22:48:33,434 INFO sqlalchemy.engine.Engine \n",
      "DROP TABLE google_form\n",
      "2024-11-14 22:48:33,435 INFO sqlalchemy.engine.Engine [no key 0.00895s] {}\n",
      "2024-11-14 22:48:33,506 INFO sqlalchemy.engine.Engine \n",
      "CREATE TABLE google_form (\n",
      "\ttimestamp TEXT, \n",
      "\tdate TEXT, \n",
      "\tlast_sleep_feel TEXT, \n",
      "\tlast_sleep_score FLOAT(53), \n",
      "\tdaily_particular_qualities TEXT, \n",
      "\tday_feel TEXT, \n",
      "\tef_status TEXT, \n",
      "\tef_description TEXT, \n",
      "\tdissatisfied_status TEXT, \n",
      "\tstress_mgmt_score FLOAT(53), \n",
      "\tstress_responsiveness FLOAT(53), \n",
      "\tstress_exertion FLOAT(53), \n",
      "\tstress_sleep FLOAT(53)\n",
      ")\n",
      "\n",
      "\n",
      "2024-11-14 22:48:33,507 INFO sqlalchemy.engine.Engine [no key 0.00884s] {}\n",
      "2024-11-14 22:48:33,577 INFO sqlalchemy.engine.Engine INSERT INTO google_form (timestamp, date, last_sleep_feel, last_sleep_score, daily_particular_qualities, day_feel, ef_status, ef_description, dissatisfied_status, stress_mgmt_score, stress_responsiveness, stress_exertion, stress_sleep) VALUES (%(timestamp)s, %(date)s, %(last_sleep_feel)s, %(last_sleep_score)s, %(daily_particular_qualities)s, %(day_feel)s, %(ef_status)s, %(ef_description)s, %(dissatisfied_status)s, %(stress_mgmt_score)s, %(stress_responsiveness)s, %(stress_exertion)s, %(stress_sleep)s)\n",
      "2024-11-14 22:48:33,579 INFO sqlalchemy.engine.Engine [generated in 0.01173s] [{'timestamp': '7/23/2024 23:22:15', 'date': '7/23/2024', 'last_sleep_feel': 'Bad', 'last_sleep_score': None, 'daily_particular_qualities': 'Mentally Tired, Physically Tired', 'day_feel': 'Good', 'ef_status': 'No', 'ef_description': None, 'dissatisfied_status': 'None / little work done., Tired.', 'stress_mgmt_score': None, 'stress_responsiveness': None, 'stress_exertion': None, 'stress_sleep': None}, {'timestamp': '7/24/2024 23:06:55', 'date': '7/24/2024', 'last_sleep_feel': 'Very Good', 'last_sleep_score': None, 'daily_particular_qualities': 'Felt Great Today', 'day_feel': 'Very Good', 'ef_status': 'Yes', 'ef_description': 'Dad made me run errands all day.', 'dissatisfied_status': 'None / little work done.', 'stress_mgmt_score': None, 'stress_responsiveness': None, 'stress_exertion': None, 'stress_sleep': None}, {'timestamp': '7/26/2024 9:47:16', 'date': '7/25/2024', 'last_sleep_feel': 'Mid', 'last_sleep_score': None, 'daily_particular_qualities': 'Normal', 'day_feel': 'Good', 'ef_status': 'Yes', 'ef_description': 'Dad', 'dissatisfied_status': 'None / little work done.', 'stress_mgmt_score': None, 'stress_responsiveness': None, 'stress_exertion': None, 'stress_sleep': None}, {'timestamp': '7/26/2024 22:51:08', 'date': '7/26/2024', 'last_sleep_feel': 'Very Good', 'last_sleep_score': None, 'daily_particular_qualities': 'Felt Great Today', 'day_feel': 'Very Good', 'ef_status': 'No', 'ef_description': None, 'dissatisfied_status': 'Not dissatisfied with anything.', 'stress_mgmt_score': None, 'stress_responsiveness': None, 'stress_exertion': None, 'stress_sleep': None}, {'timestamp': '7/29/2024 0:31:44', 'date': '7/27/2024', 'last_sleep_feel': 'Good', 'last_sleep_score': None, 'daily_particular_qualities': 'Normal', 'day_feel': 'Good', 'ef_status': 'No', 'ef_description': 'A lot of work to do.', 'dissatisfied_status': 'None / little physical activity done.', 'stress_mgmt_score': None, 'stress_responsiveness': None, 'stress_exertion': None, 'stress_sleep': None}, {'timestamp': '7/29/2024 0:32:53', 'date': '7/28/2024', 'last_sleep_feel': 'Mid', 'last_sleep_score': None, 'daily_particular_qualities': 'Normal', 'day_feel': 'Good', 'ef_status': 'Yes', 'ef_description': 'Hanging out with friends whole day, little sleep due to a lot of work to finish up.', 'dissatisfied_status': 'Not dissatisfied with anything.', 'stress_mgmt_score': None, 'stress_responsiveness': None, 'stress_exertion': None, 'stress_sleep': None}, {'timestamp': '7/30/2024 2:39:45', 'date': '7/29/2024', 'last_sleep_feel': 'Mid', 'last_sleep_score': None, 'daily_particular_qualities': 'Mentally Tired, Physically Tired', 'day_feel': 'Mid', 'ef_status': 'No', 'ef_description': None, 'dissatisfied_status': 'None / little work done., None / little physical activity done., Tired.', 'stress_mgmt_score': None, 'stress_responsiveness': None, 'stress_exertion': None, 'stress_sleep': None}, {'timestamp': '7/31/2024 10:55:27', 'date': '7/30/2024', 'last_sleep_feel': 'Bad', 'last_sleep_score': None, 'daily_particular_qualities': 'Mentally Tired, Physically Tired', 'day_feel': 'Mid', 'ef_status': 'No', 'ef_description': None, 'dissatisfied_status': 'None / little work done., None / little physical activity done., Tired.', 'stress_mgmt_score': None, 'stress_responsiveness': None, 'stress_exertion': None, 'stress_sleep': None}  ... displaying 10 of 51 total bound parameter sets ...  {'timestamp': '9/11/2024 0:52:49', 'date': '9/10/2024', 'last_sleep_feel': 'Good', 'last_sleep_score': 80.0, 'daily_particular_qualities': 'Stressed, Normal', 'day_feel': 'Good', 'ef_status': 'No', 'ef_description': None, 'dissatisfied_status': 'None / little physical activity done.', 'stress_mgmt_score': None, 'stress_responsiveness': None, 'stress_exertion': None, 'stress_sleep': None}, {'timestamp': '9/12/2024 0:02:08', 'date': '9/11/2024', 'last_sleep_feel': 'Good', 'last_sleep_score': 80.0, 'daily_particular_qualities': 'Normal, Felt Great Today', 'day_feel': 'Good', 'ef_status': 'No', 'ef_description': None, 'dissatisfied_status': 'Not dissatisfied with anything.', 'stress_mgmt_score': 76.0, 'stress_responsiveness': 17.0, 'stress_exertion': 31.0, 'stress_sleep': 28.0}]\n",
      "2024-11-14 22:48:33,609 INFO sqlalchemy.engine.Engine COMMIT\n",
      "2024-11-14 22:48:33,655 INFO sqlalchemy.engine.Engine BEGIN (implicit)\n",
      "2024-11-14 22:48:33,665 INFO sqlalchemy.engine.Engine DESCRIBE `fishbit`.`heart_rate_variability`\n",
      "2024-11-14 22:48:33,665 INFO sqlalchemy.engine.Engine [raw sql] {}\n",
      "2024-11-14 22:48:33,696 INFO sqlalchemy.engine.Engine DESCRIBE `fishbit`.`heart_rate_variability`\n",
      "2024-11-14 22:48:33,696 INFO sqlalchemy.engine.Engine [raw sql] {}\n",
      "2024-11-14 22:48:33,728 INFO sqlalchemy.engine.Engine SHOW FULL TABLES FROM `fishbit`\n",
      "2024-11-14 22:48:33,728 INFO sqlalchemy.engine.Engine [raw sql] {}\n",
      "2024-11-14 22:48:33,760 INFO sqlalchemy.engine.Engine SHOW FULL TABLES FROM `fishbit`\n",
      "2024-11-14 22:48:33,760 INFO sqlalchemy.engine.Engine [raw sql] {}\n",
      "2024-11-14 22:48:33,790 INFO sqlalchemy.engine.Engine SHOW CREATE TABLE `heart_rate_variability`\n",
      "2024-11-14 22:48:33,791 INFO sqlalchemy.engine.Engine [raw sql] {}\n",
      "2024-11-14 22:48:33,824 INFO sqlalchemy.engine.Engine \n",
      "DROP TABLE heart_rate_variability\n",
      "2024-11-14 22:48:33,824 INFO sqlalchemy.engine.Engine [no key 0.00896s] {}\n",
      "2024-11-14 22:48:33,875 INFO sqlalchemy.engine.Engine \n",
      "CREATE TABLE heart_rate_variability (\n",
      "\t`dateTime` TEXT, \n",
      "\t`value.dailyRmssd` FLOAT(53), \n",
      "\t`value.deepRmssd` FLOAT(53)\n",
      ")\n",
      "\n",
      "\n"
     ]
    },
    {
     "name": "stdout",
     "output_type": "stream",
     "text": [
      "2024-11-14 22:48:33,875 INFO sqlalchemy.engine.Engine [no key 0.00866s] {}\n",
      "2024-11-14 22:48:33,950 INFO sqlalchemy.engine.Engine INSERT INTO heart_rate_variability (`dateTime`, `value.dailyRmssd`, `value.deepRmssd`) VALUES (%(dateTime)s, %(value_dailyRmssd)s, %(value_deepRmssd)s)\n",
      "2024-11-14 22:48:33,951 INFO sqlalchemy.engine.Engine [generated in 0.00935s] [{'dateTime': '2023-11-23', 'value_dailyRmssd': 30.614, 'value_deepRmssd': 31.604}, {'dateTime': '2023-11-24', 'value_dailyRmssd': 84.414, 'value_deepRmssd': 91.716}, {'dateTime': '2023-11-25', 'value_dailyRmssd': 64.985, 'value_deepRmssd': 71.454}, {'dateTime': '2023-11-26', 'value_dailyRmssd': 47.539, 'value_deepRmssd': 53.111}, {'dateTime': '2023-11-27', 'value_dailyRmssd': 65.026, 'value_deepRmssd': 78.403}, {'dateTime': '2023-11-28', 'value_dailyRmssd': 68.416, 'value_deepRmssd': 78.73}, {'dateTime': '2023-11-29', 'value_dailyRmssd': 44.34, 'value_deepRmssd': 46.246}, {'dateTime': '2023-11-30', 'value_dailyRmssd': 42.087, 'value_deepRmssd': 47.55}  ... displaying 10 of 339 total bound parameter sets ...  {'dateTime': '2024-11-13', 'value_dailyRmssd': 81.969, 'value_deepRmssd': 90.218}, {'dateTime': '2024-11-14', 'value_dailyRmssd': 85.588, 'value_deepRmssd': 82.84}]\n",
      "2024-11-14 22:48:33,987 INFO sqlalchemy.engine.Engine COMMIT\n",
      "2024-11-14 22:48:34,037 INFO sqlalchemy.engine.Engine BEGIN (implicit)\n",
      "2024-11-14 22:48:34,047 INFO sqlalchemy.engine.Engine DESCRIBE `fishbit`.`myfitnesspal`\n",
      "2024-11-14 22:48:34,048 INFO sqlalchemy.engine.Engine [raw sql] {}\n",
      "2024-11-14 22:48:34,082 INFO sqlalchemy.engine.Engine DESCRIBE `fishbit`.`myfitnesspal`\n",
      "2024-11-14 22:48:34,082 INFO sqlalchemy.engine.Engine [raw sql] {}\n",
      "2024-11-14 22:48:34,114 INFO sqlalchemy.engine.Engine SHOW FULL TABLES FROM `fishbit`\n",
      "2024-11-14 22:48:34,114 INFO sqlalchemy.engine.Engine [raw sql] {}\n",
      "2024-11-14 22:48:34,145 INFO sqlalchemy.engine.Engine SHOW FULL TABLES FROM `fishbit`\n",
      "2024-11-14 22:48:34,146 INFO sqlalchemy.engine.Engine [raw sql] {}\n",
      "2024-11-14 22:48:34,178 INFO sqlalchemy.engine.Engine SHOW CREATE TABLE `myfitnesspal`\n",
      "2024-11-14 22:48:34,178 INFO sqlalchemy.engine.Engine [raw sql] {}\n",
      "2024-11-14 22:48:34,211 INFO sqlalchemy.engine.Engine \n",
      "DROP TABLE myfitnesspal\n",
      "2024-11-14 22:48:34,212 INFO sqlalchemy.engine.Engine [no key 0.00899s] {}\n",
      "2024-11-14 22:48:34,281 INFO sqlalchemy.engine.Engine \n",
      "CREATE TABLE myfitnesspal (\n",
      "\tdate TEXT, \n",
      "\tmeal TEXT, \n",
      "\tcalories FLOAT(53), \n",
      "\tfat_g FLOAT(53), \n",
      "\tsat_fat FLOAT(53), \n",
      "\tpoly_fat FLOAT(53), \n",
      "\tmono_fat FLOAT(53), \n",
      "\ttrans_fat FLOAT(53), \n",
      "\tcholesterol FLOAT(53), \n",
      "\tsodium_mg FLOAT(53), \n",
      "\tpotassium FLOAT(53), \n",
      "\tcarbohydrates_g FLOAT(53), \n",
      "\tfiber_g FLOAT(53), \n",
      "\tsugar FLOAT(53), \n",
      "\tprotein_g FLOAT(53), \n",
      "\tvitamin_a FLOAT(53), \n",
      "\tvitamin_c FLOAT(53), \n",
      "\tcalcium FLOAT(53), \n",
      "\tiron FLOAT(53)\n",
      ")\n",
      "\n",
      "\n",
      "2024-11-14 22:48:34,281 INFO sqlalchemy.engine.Engine [no key 0.00887s] {}\n",
      "2024-11-14 22:48:34,374 INFO sqlalchemy.engine.Engine INSERT INTO myfitnesspal (date, meal, calories, fat_g, sat_fat, poly_fat, mono_fat, trans_fat, cholesterol, sodium_mg, potassium, carbohydrates_g, fiber_g, sugar, protein_g, vitamin_a, vitamin_c, calcium, iron) VALUES (%(date)s, %(meal)s, %(calories)s, %(fat_g)s, %(sat_fat)s, %(poly_fat)s, %(mono_fat)s, %(trans_fat)s, %(cholesterol)s, %(sodium_mg)s, %(potassium)s, %(carbohydrates_g)s, %(fiber_g)s, %(sugar)s, %(protein_g)s, %(vitamin_a)s, %(vitamin_c)s, %(calcium)s, %(iron)s)\n",
      "2024-11-14 22:48:34,375 INFO sqlalchemy.engine.Engine [generated in 0.01189s] [{'date': '2024-04-15', 'meal': 'Dinner', 'calories': 1045.0, 'fat_g': 58.0, 'sat_fat': 15.0, 'poly_fat': 3.0, 'mono_fat': 2.0, 'trans_fat': 0.0, 'cholesterol': 115.0, 'sodium_mg': 1630.0, 'potassium': 0.0, 'carbohydrates_g': 81.0, 'fiber_g': 13.0, 'sugar': 4.0, 'protein_g': 48.0, 'vitamin_a': 0.0, 'vitamin_c': 0.0, 'calcium': 0.0, 'iron': 0.0}, {'date': '2024-04-15', 'meal': 'Lunch', 'calories': 825.0, 'fat_g': 32.5, 'sat_fat': 6.2, 'poly_fat': 12.3, 'mono_fat': 3.4, 'trans_fat': 0.1, 'cholesterol': 258.5, 'sodium_mg': 1726.7, 'potassium': 371.4, 'carbohydrates_g': 48.2, 'fiber_g': 3.6, 'sugar': 21.6, 'protein_g': 61.7, 'vitamin_a': 15.9, 'vitamin_c': 34.7, 'calcium': 6.5, 'iron': 7.7}, {'date': '2024-04-16', 'meal': 'Dinner', 'calories': 1007.4, 'fat_g': 32.1, 'sat_fat': 12.1, 'poly_fat': 2.0, 'mono_fat': 6.1, 'trans_fat': 0.5, 'cholesterol': 156.0, 'sodium_mg': 1137.9, 'potassium': 681.0, 'carbohydrates_g': 89.5, 'fiber_g': 4.8, 'sugar': 11.9, 'protein_g': 63.0, 'vitamin_a': 11.4, 'vitamin_c': 31.1, 'calcium': 28.8, 'iron': 28.6}, {'date': '2024-04-16', 'meal': 'Lunch', 'calories': 1209.9, 'fat_g': 50.1, 'sat_fat': 10.9, 'poly_fat': 11.5, 'mono_fat': 14.1, 'trans_fat': 0.4, 'cholesterol': 202.4, 'sodium_mg': 2508.4, 'potassium': 1226.4, 'carbohydrates_g': 92.5, 'fiber_g': 2.1, 'sugar': 13.0, 'protein_g': 70.9, 'vitamin_a': 1.8, 'vitamin_c': 19.3, 'calcium': 24.6, 'iron': 39.7}, {'date': '2024-04-16', 'meal': 'Snacks', 'calories': 105.0, 'fat_g': 0.4, 'sat_fat': 0.1, 'poly_fat': 0.1, 'mono_fat': 0.0, 'trans_fat': 0.0, 'cholesterol': 0.0, 'sodium_mg': 1.2, 'potassium': 422.4, 'carbohydrates_g': 27.0, 'fiber_g': 3.1, 'sugar': 14.4, 'protein_g': 1.3, 'vitamin_a': 5.0, 'vitamin_c': 17.1, 'calcium': 0.6, 'iron': 1.7}, {'date': '2024-04-17', 'meal': 'Dinner', 'calories': 1009.8, 'fat_g': 44.2, 'sat_fat': 3.3, 'poly_fat': 12.9, 'mono_fat': 5.1, 'trans_fat': 0.0, 'cholesterol': 0.0, 'sodium_mg': 18.1, 'potassium': 165.6, 'carbohydrates_g': 100.7, 'fiber_g': 4.4, 'sugar': 3.1, 'protein_g': 58.2, 'vitamin_a': 0.0, 'vitamin_c': 0.0, 'calcium': 42.2, 'iron': 30.7}, {'date': '2024-04-18', 'meal': 'Dinner', 'calories': 892.5, 'fat_g': 8.5, 'sat_fat': 1.2, 'poly_fat': 0.0, 'mono_fat': 2.4, 'trans_fat': 0.0, 'cholesterol': 121.2, 'sodium_mg': 1843.9, 'potassium': 142.9, 'carbohydrates_g': 83.5, 'fiber_g': 0.0, 'sugar': 22.4, 'protein_g': 59.0, 'vitamin_a': 4.0, 'vitamin_c': 4.9, 'calcium': 19.2, 'iron': 25.6}, {'date': '2024-04-18', 'meal': 'Lunch', 'calories': 776.8, 'fat_g': 34.9, 'sat_fat': 4.2, 'poly_fat': 0.0, 'mono_fat': 0.0, 'trans_fat': 0.0, 'cholesterol': 0.0, 'sodium_mg': 0.0, 'potassium': 0.0, 'carbohydrates_g': 3.0, 'fiber_g': 2.9, 'sugar': 0.0, 'protein_g': 32.5, 'vitamin_a': 0.0, 'vitamin_c': 0.0, 'calcium': 0.0, 'iron': 0.0}  ... displaying 10 of 85 total bound parameter sets ...  {'date': '2024-09-10', 'meal': 'Breakfast', 'calories': 550.4, 'fat_g': 17.0, 'sat_fat': 7.7, 'poly_fat': 2.3, 'mono_fat': 4.1, 'trans_fat': 0.0, 'cholesterol': 43.9, 'sodium_mg': 144.3, 'potassium': 845.6, 'carbohydrates_g': 77.1, 'fiber_g': 8.2, 'sugar': 23.8, 'protein_g': 22.7, 'vitamin_a': 0.0, 'vitamin_c': 0.1, 'calcium': 49.2, 'iron': 19.3}, {'date': '2024-09-10', 'meal': 'Lunch', 'calories': 697.5, 'fat_g': 12.9, 'sat_fat': 5.0, 'poly_fat': 1.7, 'mono_fat': 4.2, 'trans_fat': 0.0, 'cholesterol': 161.0, 'sodium_mg': 1359.3, 'potassium': 1310.9, 'carbohydrates_g': 87.1, 'fiber_g': 5.4, 'sugar': 5.7, 'protein_g': 59.1, 'vitamin_a': 0.0, 'vitamin_c': 37.3, 'calcium': 11.1, 'iron': 35.9}]\n",
      "2024-11-14 22:48:34,411 INFO sqlalchemy.engine.Engine COMMIT\n",
      "2024-11-14 22:48:34,464 INFO sqlalchemy.engine.Engine BEGIN (implicit)\n",
      "2024-11-14 22:48:34,476 INFO sqlalchemy.engine.Engine DESCRIBE `fishbit`.`sleep_session`\n",
      "2024-11-14 22:48:34,476 INFO sqlalchemy.engine.Engine [raw sql] {}\n",
      "2024-11-14 22:48:34,508 INFO sqlalchemy.engine.Engine DESCRIBE `fishbit`.`sleep_session`\n",
      "2024-11-14 22:48:34,508 INFO sqlalchemy.engine.Engine [raw sql] {}\n",
      "2024-11-14 22:48:34,541 INFO sqlalchemy.engine.Engine SHOW FULL TABLES FROM `fishbit`\n",
      "2024-11-14 22:48:34,542 INFO sqlalchemy.engine.Engine [raw sql] {}\n",
      "2024-11-14 22:48:34,573 INFO sqlalchemy.engine.Engine SHOW FULL TABLES FROM `fishbit`\n",
      "2024-11-14 22:48:34,573 INFO sqlalchemy.engine.Engine [raw sql] {}\n",
      "2024-11-14 22:48:34,606 INFO sqlalchemy.engine.Engine SHOW CREATE TABLE `sleep_session`\n",
      "2024-11-14 22:48:34,607 INFO sqlalchemy.engine.Engine [raw sql] {}\n",
      "2024-11-14 22:48:34,639 INFO sqlalchemy.engine.Engine \n",
      "DROP TABLE sleep_session\n",
      "2024-11-14 22:48:34,640 INFO sqlalchemy.engine.Engine [no key 0.00879s] {}\n",
      "2024-11-14 22:48:34,708 INFO sqlalchemy.engine.Engine \n",
      "CREATE TABLE sleep_session (\n",
      "\t`dateOfSleep` TEXT, \n",
      "\tduration BIGINT, \n",
      "\tefficiency BIGINT, \n",
      "\t`isMainSleep` BOOL, \n",
      "\t`minutesAsleep` BIGINT, \n",
      "\t`minutesAwake` BIGINT, \n",
      "\t`startTime` TEXT, \n",
      "\t`timeInBed` BIGINT, \n",
      "\tsc_deep_count FLOAT(53), \n",
      "\tsc_deep_minutes FLOAT(53), \n",
      "\t`sc_deep_thirtyDayAvgMinutes` FLOAT(53), \n",
      "\tsc_light_count FLOAT(53), \n",
      "\tsc_light_minutes FLOAT(53), \n",
      "\t`sc_light_thirtyDayAvgMinutes` FLOAT(53), \n",
      "\tsc_rem_count FLOAT(53), \n",
      "\tsc_rem_minutes FLOAT(53), \n",
      "\t`sc_rem_thirtyDayAvgMinutes` FLOAT(53), \n",
      "\tsc_wake_count FLOAT(53), \n",
      "\tsc_wake_minutes FLOAT(53), \n",
      "\t`sc_wake_thirtyDayAvgMinutes` FLOAT(53), \n",
      "\tsc_asleep_count FLOAT(53), \n",
      "\tsc_asleep_minutes FLOAT(53), \n",
      "\tsc_awake_count FLOAT(53), \n",
      "\tsc_awake_minutes FLOAT(53), \n",
      "\tsc_restless_count FLOAT(53), \n",
      "\tsc_restless_minutes FLOAT(53), \n",
      "\tdatetime_key TEXT, \n",
      "\toverall_score FLOAT(53), \n",
      "\tcomposition_score FLOAT(53), \n",
      "\trevitalization_score FLOAT(53), \n",
      "\tduration_score FLOAT(53), \n",
      "\tresting_heart_rate FLOAT(53), \n",
      "\trestlessness FLOAT(53), \n",
      "\tsleep_id BIGINT\n",
      ")\n",
      "\n",
      "\n"
     ]
    },
    {
     "name": "stdout",
     "output_type": "stream",
     "text": [
      "2024-11-14 22:48:34,709 INFO sqlalchemy.engine.Engine [no key 0.00892s] {}\n",
      "2024-11-14 22:48:34,800 INFO sqlalchemy.engine.Engine INSERT INTO sleep_session (`dateOfSleep`, duration, efficiency, `isMainSleep`, `minutesAsleep`, `minutesAwake`, `startTime`, `timeInBed`, sc_deep_count, sc_deep_minutes, `sc_deep_thirtyDayAvgMinutes`, sc_light_count, sc_light_minutes, `sc_light_thirtyDayAvgMinutes`, sc_rem_count, sc_rem_minutes, `sc_rem_thirtyDayAvgMinutes`, sc_wake_count, sc_wake_minutes, `sc_wake_thirtyDayAvgMinutes`, sc_asleep_count, sc_asleep_minutes, sc_awake_count, sc_awake_minutes, sc_restless_count, sc_restless_minutes, datetime_key, overall_score, composition_score, revitalization_score, duration_score, resting_heart_rate, restlessness, sleep_id) VALUES (%(dateOfSleep)s, %(duration)s, %(efficiency)s, %(isMainSleep)s, %(minutesAsleep)s, %(minutesAwake)s, %(startTime)s, %(timeInBed)s, %(sc_deep_count)s, %(sc_deep_minutes)s, %(sc_deep_thirtyDayAvgMinutes)s, %(sc_light_count)s, %(sc_light_minutes)s, %(sc_light_thirtyDayAvgMinutes)s, %(sc_rem_count)s, %(sc_rem_minutes)s, %(sc_rem_thirtyDayAvgMinutes)s, %(sc_wake_count)s, %(sc_wake_minutes)s, %(sc_wake_thirtyDayAvgMinutes)s, %(sc_asleep_count)s, %(sc_asleep_minutes)s, %(sc_awake_count)s, %(sc_awake_minutes)s, %(sc_restless_count)s, %(sc_restless_minutes)s, %(datetime_key)s, %(overall_score)s, %(composition_score)s, %(revitalization_score)s, %(duration_score)s, %(resting_heart_rate)s, %(restlessness)s, %(sleep_id)s)\n",
      "2024-11-14 22:48:34,800 INFO sqlalchemy.engine.Engine [generated in 0.01263s] [{'dateOfSleep': '2023-11-23', 'duration': 37260000, 'efficiency': 91, 'isMainSleep': 1, 'minutesAsleep': 536, 'minutesAwake': 85, 'startTime': '2023-11-23T02:29:30.000', 'timeInBed': 621, 'sc_deep_count': 5.0, 'sc_deep_minutes': 117.0, 'sc_deep_thirtyDayAvgMinutes': 0.0, 'sc_light_count': 35.0, 'sc_light_minutes': 306.0, 'sc_light_thirtyDayAvgMinutes': 0.0, 'sc_rem_count': 11.0, 'sc_rem_minutes': 113.0, 'sc_rem_thirtyDayAvgMinutes': 0.0, 'sc_wake_count': 35.0, 'sc_wake_minutes': 85.0, 'sc_wake_thirtyDayAvgMinutes': 0.0, 'sc_asleep_count': None, 'sc_asleep_minutes': None, 'sc_awake_count': None, 'sc_awake_minutes': None, 'sc_restless_count': None, 'sc_restless_minutes': None, 'datetime_key': '2023-11-23T12:51:00', 'overall_score': 83.0, 'composition_score': 21.0, 'revitalization_score': 19.0, 'duration_score': 43.0, 'resting_heart_rate': 70.0, 'restlessness': 0.0868865647626709, 'sleep_id': 1}, {'dateOfSleep': '2023-11-24', 'duration': 29520000, 'efficiency': 92, 'isMainSleep': 1, 'minutesAsleep': 427, 'minutesAwake': 65, 'startTime': '2023-11-24T02:39:00.000', 'timeInBed': 492, 'sc_deep_count': 4.0, 'sc_deep_minutes': 94.0, 'sc_deep_thirtyDayAvgMinutes': 117.0, 'sc_light_count': 25.0, 'sc_light_minutes': 234.0, 'sc_light_thirtyDayAvgMinutes': 306.0, 'sc_rem_count': 8.0, 'sc_rem_minutes': 99.0, 'sc_rem_thirtyDayAvgMinutes': 113.0, 'sc_wake_count': 27.0, 'sc_wake_minutes': 65.0, 'sc_wake_thirtyDayAvgMinutes': 85.0, 'sc_asleep_count': None, 'sc_asleep_minutes': None, 'sc_awake_count': None, 'sc_awake_minutes': None, 'sc_restless_count': None, 'sc_restless_minutes': None, 'datetime_key': '2023-11-24T10:51:30', 'overall_score': 85.0, 'composition_score': 22.0, 'revitalization_score': 22.0, 'duration_score': 41.0, 'resting_heart_rate': 68.0, 'restlessness': 0.092901878914405, 'sleep_id': 2}, {'dateOfSleep': '2023-11-25', 'duration': 28680000, 'efficiency': 86, 'isMainSleep': 1, 'minutesAsleep': 398, 'minutesAwake': 80, 'startTime': '2023-11-25T01:48:00.000', 'timeInBed': 478, 'sc_deep_count': 7.0, 'sc_deep_minutes': 94.0, 'sc_deep_thirtyDayAvgMinutes': 106.0, 'sc_light_count': 29.0, 'sc_light_minutes': 205.0, 'sc_light_thirtyDayAvgMinutes': 270.0, 'sc_rem_count': 11.0, 'sc_rem_minutes': 99.0, 'sc_rem_thirtyDayAvgMinutes': 106.0, 'sc_wake_count': 32.0, 'sc_wake_minutes': 80.0, 'sc_wake_thirtyDayAvgMinutes': 75.0, 'sc_asleep_count': None, 'sc_asleep_minutes': None, 'sc_awake_count': None, 'sc_awake_minutes': None, 'sc_restless_count': None, 'sc_restless_minutes': None, 'datetime_key': '2023-11-25T09:46:30', 'overall_score': 76.0, 'composition_score': 22.0, 'revitalization_score': 19.0, 'duration_score': 35.0, 'resting_heart_rate': 66.0, 'restlessness': 0.1396825396825396, 'sleep_id': 3}, {'dateOfSleep': '2023-11-26', 'duration': 29760000, 'efficiency': 92, 'isMainSleep': 1, 'minutesAsleep': 439, 'minutesAwake': 57, 'startTime': '2023-11-26T01:37:00.000', 'timeInBed': 496, 'sc_deep_count': 5.0, 'sc_deep_minutes': 77.0, 'sc_deep_thirtyDayAvgMinutes': 102.0, 'sc_light_count': 29.0, 'sc_light_minutes': 250.0, 'sc_light_thirtyDayAvgMinutes': 248.0, 'sc_rem_count': 12.0, 'sc_rem_minutes': 112.0, 'sc_rem_thirtyDayAvgMinutes': 104.0, 'sc_wake_count': 29.0, 'sc_wake_minutes': 57.0, 'sc_wake_thirtyDayAvgMinutes': 77.0, 'sc_asleep_count': None, 'sc_asleep_minutes': None, 'sc_awake_count': None, 'sc_awake_minutes': None, 'sc_restless_count': None, 'sc_restless_minutes': None, 'datetime_key': '2023-11-26T09:53:00', 'overall_score': 85.0, 'composition_score': 21.0, 'revitalization_score': 22.0, 'duration_score': 42.0, 'resting_heart_rate': 64.0, 'restlessness': 0.0758835758835758, 'sleep_id': 4}, {'dateOfSleep': '2023-11-27', 'duration': 26400000, 'efficiency': 93, 'isMainSleep': 1, 'minutesAsleep': 385, 'minutesAwake': 55, 'startTime': '2023-11-27T00:46:30.000', 'timeInBed': 440, 'sc_deep_count': 6.0, 'sc_deep_minutes': 64.0, 'sc_deep_thirtyDayAvgMinutes': 96.0, 'sc_light_count': 22.0, 'sc_light_minutes': 224.0, 'sc_light_thirtyDayAvgMinutes': 249.0, 'sc_rem_count': 8.0, 'sc_rem_minutes': 97.0, 'sc_rem_thirtyDayAvgMinutes': 106.0, 'sc_wake_count': 25.0, 'sc_wake_minutes': 55.0, 'sc_wake_thirtyDayAvgMinutes': 72.0, 'sc_asleep_count': None, 'sc_asleep_minutes': None, 'sc_awake_count': None, 'sc_awake_minutes': None, 'sc_restless_count': None, 'sc_restless_minutes': None, 'datetime_key': '2023-11-27T08:06:30', 'overall_score': 80.0, 'composition_score': 21.0, 'revitalization_score': 23.0, 'duration_score': 36.0, 'resting_heart_rate': 63.0, 'restlessness': 0.0658342792281498, 'sleep_id': 5}, {'dateOfSleep': '2023-11-28', 'duration': 28140000, 'efficiency': 90, 'isMainSleep': 1, 'minutesAsleep': 393, 'minutesAwake': 76, 'startTime': '2023-11-28T00:51:00.000', 'timeInBed': 469, 'sc_deep_count': 3.0, 'sc_deep_minutes': 67.0, 'sc_deep_thirtyDayAvgMinutes': 89.0, 'sc_light_count': 25.0, 'sc_light_minutes': 255.0, 'sc_light_thirtyDayAvgMinutes': 244.0, 'sc_rem_count': 4.0, 'sc_rem_minutes': 71.0, 'sc_rem_thirtyDayAvgMinutes': 104.0, 'sc_wake_count': 22.0, 'sc_wake_minutes': 76.0, 'sc_wake_thirtyDayAvgMinutes': 68.0, 'sc_asleep_count': None, 'sc_asleep_minutes': None, 'sc_awake_count': None, 'sc_awake_minutes': None, 'sc_restless_count': None, 'sc_restless_minutes': None, 'datetime_key': '2023-11-28T08:40:00', 'overall_score': 73.0, 'composition_score': 18.0, 'revitalization_score': 21.0, 'duration_score': 34.0, 'resting_heart_rate': 61.0, 'restlessness': 0.0891304347826087, 'sleep_id': 6}, {'dateOfSleep': '2023-11-29', 'duration': 28200000, 'efficiency': 92, 'isMainSleep': 1, 'minutesAsleep': 413, 'minutesAwake': 57, 'startTime': '2023-11-29T00:19:30.000', 'timeInBed': 470, 'sc_deep_count': 3.0, 'sc_deep_minutes': 58.0, 'sc_deep_thirtyDayAvgMinutes': 86.0, 'sc_light_count': 20.0, 'sc_light_minutes': 245.0, 'sc_light_thirtyDayAvgMinutes': 246.0, 'sc_rem_count': 7.0, 'sc_rem_minutes': 110.0, 'sc_rem_thirtyDayAvgMinutes': 99.0, 'sc_wake_count': 24.0, 'sc_wake_minutes': 57.0, 'sc_wake_thirtyDayAvgMinutes': 70.0, 'sc_asleep_count': None, 'sc_asleep_minutes': None, 'sc_awake_count': None, 'sc_awake_minutes': None, 'sc_restless_count': None, 'sc_restless_minutes': None, 'datetime_key': '2023-11-29T08:09:30', 'overall_score': 79.0, 'composition_score': 21.0, 'revitalization_score': 21.0, 'duration_score': 37.0, 'resting_heart_rate': 61.0, 'restlessness': 0.0733262486716259, 'sleep_id': 7}, {'dateOfSleep': '2023-11-30', 'duration': 31200000, 'efficiency': 91, 'isMainSleep': 1, 'minutesAsleep': 436, 'minutesAwake': 84, 'startTime': '2023-11-29T23:52:30.000', 'timeInBed': 520, 'sc_deep_count': 3.0, 'sc_deep_minutes': 37.0, 'sc_deep_thirtyDayAvgMinutes': 82.0, 'sc_light_count': 20.0, 'sc_light_minutes': 288.0, 'sc_light_thirtyDayAvgMinutes': 246.0, 'sc_rem_count': 6.0, 'sc_rem_minutes': 111.0, 'sc_rem_thirtyDayAvgMinutes': 100.0, 'sc_wake_count': 19.0, 'sc_wake_minutes': 84.0, 'sc_wake_thirtyDayAvgMinutes': 68.0, 'sc_asleep_count': None, 'sc_asleep_minutes': None, 'sc_awake_count': None, 'sc_awake_minutes': None, 'sc_restless_count': None, 'sc_restless_minutes': None, 'datetime_key': '2023-11-30T08:32:30', 'overall_score': 78.0, 'composition_score': 20.0, 'revitalization_score': 20.0, 'duration_score': 38.0, 'resting_heart_rate': 62.0, 'restlessness': 0.0960614793467819, 'sleep_id': 8}  ... displaying 10 of 352 total bound parameter sets ...  {'dateOfSleep': '2024-11-13', 'duration': 31140000, 'efficiency': 95, 'isMainSleep': 1, 'minutesAsleep': 452, 'minutesAwake': 67, 'startTime': '2024-11-13T00:41:00.000', 'timeInBed': 519, 'sc_deep_count': 4.0, 'sc_deep_minutes': 107.0, 'sc_deep_thirtyDayAvgMinutes': 85.0, 'sc_light_count': 20.0, 'sc_light_minutes': 242.0, 'sc_light_thirtyDayAvgMinutes': 202.0, 'sc_rem_count': 10.0, 'sc_rem_minutes': 103.0, 'sc_rem_thirtyDayAvgMinutes': 95.0, 'sc_wake_count': 27.0, 'sc_wake_minutes': 67.0, 'sc_wake_thirtyDayAvgMinutes': 54.0, 'sc_asleep_count': None, 'sc_asleep_minutes': None, 'sc_awake_count': None, 'sc_awake_minutes': None, 'sc_restless_count': None, 'sc_restless_minutes': None, 'datetime_key': '2024-11-13T09:20:30', 'overall_score': None, 'composition_score': None, 'revitalization_score': None, 'duration_score': None, 'resting_heart_rate': None, 'restlessness': None, 'sleep_id': 351}, {'dateOfSleep': '2024-11-14', 'duration': 29280000, 'efficiency': 94, 'isMainSleep': 1, 'minutesAsleep': 431, 'minutesAwake': 57, 'startTime': '2024-11-14T00:53:30.000', 'timeInBed': 488, 'sc_deep_count': 3.0, 'sc_deep_minutes': 75.0, 'sc_deep_thirtyDayAvgMinutes': 85.0, 'sc_light_count': 19.0, 'sc_light_minutes': 269.0, 'sc_light_thirtyDayAvgMinutes': 201.0, 'sc_rem_count': 8.0, 'sc_rem_minutes': 87.0, 'sc_rem_thirtyDayAvgMinutes': 93.0, 'sc_wake_count': 24.0, 'sc_wake_minutes': 57.0, 'sc_wake_thirtyDayAvgMinutes': 54.0, 'sc_asleep_count': None, 'sc_asleep_minutes': None, 'sc_awake_count': None, 'sc_awake_minutes': None, 'sc_restless_count': None, 'sc_restless_minutes': None, 'datetime_key': '2024-11-14T09:01:30', 'overall_score': None, 'composition_score': None, 'revitalization_score': None, 'duration_score': None, 'resting_heart_rate': None, 'restlessness': None, 'sleep_id': 352}]\n"
     ]
    },
    {
     "name": "stdout",
     "output_type": "stream",
     "text": [
      "2024-11-14 22:48:34,913 INFO sqlalchemy.engine.Engine COMMIT\n",
      "2024-11-14 22:48:34,965 INFO sqlalchemy.engine.Engine BEGIN (implicit)\n",
      "2024-11-14 22:48:34,974 INFO sqlalchemy.engine.Engine DESCRIBE `fishbit`.`skin_temp`\n",
      "2024-11-14 22:48:34,975 INFO sqlalchemy.engine.Engine [raw sql] {}\n",
      "2024-11-14 22:48:35,007 INFO sqlalchemy.engine.Engine DESCRIBE `fishbit`.`skin_temp`\n",
      "2024-11-14 22:48:35,007 INFO sqlalchemy.engine.Engine [raw sql] {}\n",
      "2024-11-14 22:48:35,040 INFO sqlalchemy.engine.Engine SHOW FULL TABLES FROM `fishbit`\n",
      "2024-11-14 22:48:35,040 INFO sqlalchemy.engine.Engine [raw sql] {}\n",
      "2024-11-14 22:48:35,072 INFO sqlalchemy.engine.Engine SHOW FULL TABLES FROM `fishbit`\n",
      "2024-11-14 22:48:35,072 INFO sqlalchemy.engine.Engine [raw sql] {}\n",
      "2024-11-14 22:48:35,103 INFO sqlalchemy.engine.Engine SHOW CREATE TABLE `skin_temp`\n",
      "2024-11-14 22:48:35,104 INFO sqlalchemy.engine.Engine [raw sql] {}\n",
      "2024-11-14 22:48:35,134 INFO sqlalchemy.engine.Engine \n",
      "DROP TABLE skin_temp\n",
      "2024-11-14 22:48:35,134 INFO sqlalchemy.engine.Engine [no key 0.00871s] {}\n",
      "2024-11-14 22:48:35,197 INFO sqlalchemy.engine.Engine \n",
      "CREATE TABLE skin_temp (\n",
      "\t`dateTime` TEXT, \n",
      "\t`value.nightlyRelative` FLOAT(53)\n",
      ")\n",
      "\n",
      "\n",
      "2024-11-14 22:48:35,198 INFO sqlalchemy.engine.Engine [no key 0.00916s] {}\n",
      "2024-11-14 22:48:35,279 INFO sqlalchemy.engine.Engine INSERT INTO skin_temp (`dateTime`, `value.nightlyRelative`) VALUES (%(dateTime)s, %(value_nightlyRelative)s)\n",
      "2024-11-14 22:48:35,279 INFO sqlalchemy.engine.Engine [generated in 0.00956s] [{'dateTime': '2023-11-26', 'value_nightlyRelative': 0.1}, {'dateTime': '2023-11-27', 'value_nightlyRelative': -0.4}, {'dateTime': '2023-11-28', 'value_nightlyRelative': 0.0}, {'dateTime': '2023-11-29', 'value_nightlyRelative': -0.2}, {'dateTime': '2023-11-30', 'value_nightlyRelative': 0.7}, {'dateTime': '2023-12-01', 'value_nightlyRelative': -0.3}, {'dateTime': '2023-12-04', 'value_nightlyRelative': -0.4}, {'dateTime': '2023-12-05', 'value_nightlyRelative': -0.1}  ... displaying 10 of 334 total bound parameter sets ...  {'dateTime': '2024-11-13', 'value_nightlyRelative': -0.0}, {'dateTime': '2024-11-14', 'value_nightlyRelative': -0.6}]\n",
      "2024-11-14 22:48:35,308 INFO sqlalchemy.engine.Engine COMMIT\n",
      "2024-11-14 22:48:35,365 INFO sqlalchemy.engine.Engine BEGIN (implicit)\n",
      "2024-11-14 22:48:35,375 INFO sqlalchemy.engine.Engine DESCRIBE `fishbit`.`sleep_levels`\n",
      "2024-11-14 22:48:35,375 INFO sqlalchemy.engine.Engine [raw sql] {}\n",
      "2024-11-14 22:48:35,408 INFO sqlalchemy.engine.Engine DESCRIBE `fishbit`.`sleep_levels`\n",
      "2024-11-14 22:48:35,408 INFO sqlalchemy.engine.Engine [raw sql] {}\n",
      "2024-11-14 22:48:35,438 INFO sqlalchemy.engine.Engine SHOW FULL TABLES FROM `fishbit`\n",
      "2024-11-14 22:48:35,438 INFO sqlalchemy.engine.Engine [raw sql] {}\n",
      "2024-11-14 22:48:35,469 INFO sqlalchemy.engine.Engine SHOW FULL TABLES FROM `fishbit`\n",
      "2024-11-14 22:48:35,469 INFO sqlalchemy.engine.Engine [raw sql] {}\n",
      "2024-11-14 22:48:35,502 INFO sqlalchemy.engine.Engine SHOW CREATE TABLE `sleep_levels`\n",
      "2024-11-14 22:48:35,502 INFO sqlalchemy.engine.Engine [raw sql] {}\n",
      "2024-11-14 22:48:35,535 INFO sqlalchemy.engine.Engine \n",
      "DROP TABLE sleep_levels\n",
      "2024-11-14 22:48:35,536 INFO sqlalchemy.engine.Engine [no key 0.00911s] {}\n",
      "2024-11-14 22:48:35,600 INFO sqlalchemy.engine.Engine \n",
      "CREATE TABLE sleep_levels (\n",
      "\tsleep_id BIGINT, \n",
      "\tshort BOOL, \n",
      "\t`dateTime` TEXT, \n",
      "\tlevel TEXT, \n",
      "\tseconds BIGINT\n",
      ")\n",
      "\n",
      "\n",
      "2024-11-14 22:48:35,601 INFO sqlalchemy.engine.Engine [no key 0.00963s] {}\n",
      "2024-11-14 22:48:35,744 INFO sqlalchemy.engine.Engine INSERT INTO sleep_levels (sleep_id, short, `dateTime`, level, seconds) VALUES (%(sleep_id)s, %(short)s, %(dateTime)s, %(level)s, %(seconds)s)\n",
      "2024-11-14 22:48:35,745 INFO sqlalchemy.engine.Engine [generated in 0.03688s] [{'sleep_id': 1, 'short': 0, 'dateTime': '2023-11-23T02:29:30.000', 'level': 'wake', 'seconds': 300}, {'sleep_id': 1, 'short': 0, 'dateTime': '2023-11-23T02:34:30.000', 'level': 'light', 'seconds': 330}, {'sleep_id': 1, 'short': 0, 'dateTime': '2023-11-23T02:40:00.000', 'level': 'deep', 'seconds': 3480}, {'sleep_id': 1, 'short': 0, 'dateTime': '2023-11-23T03:38:00.000', 'level': 'light', 'seconds': 390}, {'sleep_id': 1, 'short': 0, 'dateTime': '2023-11-23T03:44:30.000', 'level': 'deep', 'seconds': 270}, {'sleep_id': 1, 'short': 0, 'dateTime': '2023-11-23T03:49:00.000', 'level': 'wake', 'seconds': 480}, {'sleep_id': 1, 'short': 0, 'dateTime': '2023-11-23T03:57:00.000', 'level': 'light', 'seconds': 90}, {'sleep_id': 1, 'short': 0, 'dateTime': '2023-11-23T03:58:30.000', 'level': 'deep', 'seconds': 1110}  ... displaying 10 of 15144 total bound parameter sets ...  {'sleep_id': 352, 'short': 1, 'dateTime': '2024-11-14T08:54:00.000', 'level': 'wake', 'seconds': 180}, {'sleep_id': 352, 'short': 1, 'dateTime': '2024-11-14T09:00:00.000', 'level': 'wake', 'seconds': 90}]\n",
      "2024-11-14 22:48:36,491 INFO sqlalchemy.engine.Engine COMMIT\n"
     ]
    }
   ],
   "source": [
    "%%capture\n",
    "#Loop through the files in the directory, and then each call the to_sql function...\n",
    "\n",
    "for index, csv_name in enumerate(interim_data_files):\n",
    "    #f = open('../data/interim/' + csv_name)\n",
    "    \n",
    "    #Read and convert csv to df\n",
    "    df = pd.read_csv('../data/interim/'+csv_name)\n",
    "    \n",
    "    #convert to sql and to database, replacing the table if it exists\n",
    "    df.to_sql(sql_table_names[index], con=engine, if_exists='replace', index=False)\n",
    "    "
   ]
  },
  {
   "cell_type": "code",
   "execution_count": 7,
   "id": "ca8afd23",
   "metadata": {},
   "outputs": [],
   "source": [
    "%%capture\n",
    "%%sql\n",
    "\n",
    "ALTER TABLE `activities`\n",
    "ADD COLUMN `id` BIGINT AUTO_INCREMENT PRIMARY KEY,\n",
    "MODIFY COLUMN `startTime` DATETIME;"
   ]
  },
  {
   "cell_type": "code",
   "execution_count": 8,
   "id": "10d5477c",
   "metadata": {},
   "outputs": [],
   "source": [
    "%%capture\n",
    "%%sql\n",
    "\n",
    "ALTER TABLE `breathing_rate`\n",
    "ADD COLUMN `id` BIGINT AUTO_INCREMENT PRIMARY KEY,\n",
    "MODIFY COLUMN `dateTime` DATETIME;"
   ]
  },
  {
   "cell_type": "code",
   "execution_count": 9,
   "id": "453d0d79",
   "metadata": {},
   "outputs": [],
   "source": [
    "%%capture\n",
    "%%sql\n",
    "\n",
    "ALTER TABLE `google_form`\n",
    "ADD COLUMN `id` BIGINT AUTO_INCREMENT PRIMARY KEY,\n",
    "MODIFY COLUMN `timestamp` TEXT,\n",
    "MODIFY COLUMN `date` TEXT;"
   ]
  },
  {
   "cell_type": "code",
   "execution_count": 10,
   "id": "6b630782",
   "metadata": {},
   "outputs": [],
   "source": [
    "%%capture\n",
    "%%sql\n",
    "\n",
    "ALTER TABLE `heart_rate_variability`\n",
    "ADD COLUMN `id` BIGINT AUTO_INCREMENT PRIMARY KEY,\n",
    "MODIFY COLUMN `dateTime` DATETIME;"
   ]
  },
  {
   "cell_type": "code",
   "execution_count": 11,
   "id": "09d61420",
   "metadata": {},
   "outputs": [],
   "source": [
    "%%capture\n",
    "%%sql\n",
    "ALTER TABLE `myfitnesspal`\n",
    "ADD COLUMN `id` BIGINT AUTO_INCREMENT PRIMARY KEY,\n",
    "MODIFY COLUMN `date` DATE;"
   ]
  },
  {
   "cell_type": "code",
   "execution_count": 12,
   "id": "5af8a412",
   "metadata": {},
   "outputs": [],
   "source": [
    "%%capture\n",
    "%%sql\n",
    "\n",
    "ALTER TABLE `skin_temp`\n",
    "ADD COLUMN `id` BIGINT AUTO_INCREMENT PRIMARY KEY,\n",
    "MODIFY COLUMN `dateTime` DATETIME;"
   ]
  },
  {
   "cell_type": "code",
   "execution_count": 13,
   "id": "2d86cfbe",
   "metadata": {},
   "outputs": [],
   "source": [
    "%%capture\n",
    "%%sql\n",
    "\n",
    "ALTER TABLE `sleep_levels`\n",
    "ADD COLUMN `id` BIGINT AUTO_INCREMENT PRIMARY KEY,\n",
    "MODIFY COLUMN `dateTime` DATETIME;"
   ]
  },
  {
   "cell_type": "code",
   "execution_count": 14,
   "id": "5ada456e",
   "metadata": {},
   "outputs": [],
   "source": [
    "%%capture\n",
    "%%sql\n",
    "\n",
    "ALTER TABLE `sleep_session`\n",
    "MODIFY COLUMN `dateOfSleep` DATE,\n",
    "MODIFY COLUMN `startTime` DATETIME,\n",
    "MODIFY COLUMN `datetime_key` DATETIME;"
   ]
  },
  {
   "cell_type": "code",
   "execution_count": 15,
   "id": "e8bbfbb6",
   "metadata": {},
   "outputs": [],
   "source": [
    "%%capture\n",
    "%%sql\n",
    "\n",
    "ALTER TABLE `sleep_session`\n",
    "ADD PRIMARY KEY (`sleep_id`);"
   ]
  },
  {
   "cell_type": "code",
   "execution_count": 16,
   "id": "bee8658f",
   "metadata": {},
   "outputs": [],
   "source": [
    "%%capture\n",
    "%%sql\n",
    "\n",
    "ALTER TABLE `sleep_levels`\n",
    "ADD CONSTRAINT `fk_sleep_session`\n",
    "FOREIGN KEY (`sleep_id`) REFERENCES `sleep_session` (`sleep_id`)\n",
    "ON DELETE CASCADE\n",
    "ON UPDATE CASCADE;"
   ]
  },
  {
   "cell_type": "code",
   "execution_count": 17,
   "id": "00b45f08",
   "metadata": {},
   "outputs": [],
   "source": [
    "%%capture\n",
    "%%sql\n",
    "UPDATE `google_form`\n",
    "SET `timestamp` = STR_TO_DATE(`timestamp`, '%m/%d/%Y %H:%i:%s')\n",
    "WHERE STR_TO_DATE(`timestamp`, '%m/%d/%Y %H:%i:%s') IS NOT NULL;"
   ]
  },
  {
   "cell_type": "code",
   "execution_count": 18,
   "id": "ab8a456e",
   "metadata": {},
   "outputs": [],
   "source": [
    "%%capture\n",
    "%%sql\n",
    "ALTER TABLE `google_form`\n",
    "MODIFY COLUMN `timestamp` DATETIME;"
   ]
  },
  {
   "cell_type": "code",
   "execution_count": 19,
   "id": "8249bcb9",
   "metadata": {},
   "outputs": [],
   "source": [
    "%%capture\n",
    "%%sql\n",
    "UPDATE `google_form`\n",
    "SET `date` = DATE_FORMAT(STR_TO_DATE(`date`, '%m/%d/%Y'), '%Y-%m-%d');"
   ]
  },
  {
   "cell_type": "code",
   "execution_count": 20,
   "id": "eca57c00",
   "metadata": {},
   "outputs": [],
   "source": [
    "%%capture\n",
    "%%sql\n",
    "ALTER TABLE `google_form`\n",
    "MODIFY COLUMN `date` DATE;"
   ]
  },
  {
   "cell_type": "code",
   "execution_count": null,
   "id": "4a587c8a",
   "metadata": {},
   "outputs": [],
   "source": []
  }
 ],
 "metadata": {
  "kernelspec": {
   "display_name": "Python 3 (ipykernel)",
   "language": "python",
   "name": "python3"
  },
  "language_info": {
   "codemirror_mode": {
    "name": "ipython",
    "version": 3
   },
   "file_extension": ".py",
   "mimetype": "text/x-python",
   "name": "python",
   "nbconvert_exporter": "python",
   "pygments_lexer": "ipython3",
   "version": "3.11.3"
  }
 },
 "nbformat": 4,
 "nbformat_minor": 5
}
