{
 "cells": [
  {
   "cell_type": "code",
   "execution_count": 1,
   "id": "b470523a",
   "metadata": {},
   "outputs": [],
   "source": [
    "import requests\n",
    "import time\n",
    "from pprint import pprint\n",
    "import json\n",
    "import csv\n",
    "import os\n",
    "from dotenv import load_dotenv, dotenv_values\n",
    "load_dotenv()\n",
    "import datetime"
   ]
  },
  {
   "cell_type": "markdown",
   "id": "932f7e5c",
   "metadata": {},
   "source": [
    "# Get Activity Log List"
   ]
  },
  {
   "cell_type": "code",
   "execution_count": 2,
   "id": "41bf432b",
   "metadata": {},
   "outputs": [],
   "source": [
    "get_activities_url = f'https://api.fitbit.com/1/user/-/activities/list.json'\n",
    "\n",
    "get_activities_param = {\n",
    "    'beforeDate' : '2024-08-06',\n",
    "    #'afterDate' : '2024-07-18',\n",
    "    'sort' : 'asc',\n",
    "    'limit' : 100,\n",
    "    'offset' : 0\n",
    "}\n",
    "get_activities_headers = {\n",
    "    \"authorization\" : f\"Bearer {os.getenv('ACCESS_TOKEN')}\"\n",
    "}\n",
    "\n",
    "activities_req = requests.get(url = get_activities_url, params=get_activities_param, headers=get_activities_headers)\n",
    "\n",
    "activities_json = activities_req.json()\n",
    "\n",
    "#print(activities_json)"
   ]
  },
  {
   "cell_type": "code",
   "execution_count": 3,
   "id": "b635ae8b",
   "metadata": {},
   "outputs": [],
   "source": [
    "get_activities_url = f'https://api.fitbit.com/1/user/-/activities/list.json'\n",
    "\n",
    "get_activities_param = {\n",
    "    #'beforeDate' : '2024-08-06',\n",
    "    'afterDate' : '2024-03-05',\n",
    "    'sort' : 'asc',\n",
    "    'limit' : 100,\n",
    "    'offset' : 0\n",
    "}\n",
    "get_activities_headers = {\n",
    "    \"authorization\" : f\"Bearer {os.getenv('ACCESS_TOKEN')}\"\n",
    "}\n",
    "\n",
    "activities_req = requests.get(url = get_activities_url, params=get_activities_param, headers=get_activities_headers)\n",
    "\n",
    "activities_json_t = activities_req.json()\n",
    "\n",
    "#print(activities_json_t)"
   ]
  },
  {
   "cell_type": "code",
   "execution_count": 4,
   "id": "68e1644b",
   "metadata": {},
   "outputs": [],
   "source": [
    "get_activities_url = f'https://api.fitbit.com/1/user/-/activities/list.json'\n",
    "\n",
    "get_activities_param = {\n",
    "    #'beforeDate' : '2024-08-06',\n",
    "    'afterDate' : '2024-06-15',\n",
    "    'sort' : 'asc',\n",
    "    'limit' : 100,\n",
    "    'offset' : 0\n",
    "}\n",
    "get_activities_headers = {\n",
    "    \"authorization\" : f\"Bearer {os.getenv('ACCESS_TOKEN')}\"\n",
    "}\n",
    "\n",
    "activities_req = requests.get(url = get_activities_url, params=get_activities_param, headers=get_activities_headers)\n",
    "\n",
    "activities_json_th = activities_req.json()\n",
    "\n",
    "#print(activities_json_th)"
   ]
  },
  {
   "cell_type": "code",
   "execution_count": 5,
   "id": "4a8b7d57",
   "metadata": {},
   "outputs": [],
   "source": [
    "#pprint(activities_json)"
   ]
  },
  {
   "cell_type": "code",
   "execution_count": 6,
   "id": "75104dd1",
   "metadata": {},
   "outputs": [],
   "source": [
    "#pprint(activities_json_t)"
   ]
  },
  {
   "cell_type": "code",
   "execution_count": 7,
   "id": "3c50b5e8",
   "metadata": {},
   "outputs": [],
   "source": [
    "#pprint(activities_json_th)"
   ]
  },
  {
   "cell_type": "markdown",
   "id": "4b6e2a83",
   "metadata": {},
   "source": [
    "# Daily Activity Summary"
   ]
  },
  {
   "cell_type": "code",
   "execution_count": 8,
   "id": "c4a2fee2",
   "metadata": {},
   "outputs": [],
   "source": [
    "# #Unfortunately, there is no mass call for this one, and the api rate limit is 150 per hour. So for now I will forgoe this \n",
    "# #since most of the info in this is in the other API calls.\n",
    "\n",
    "\n",
    "# get_daily_activities_url = f'https://api.fitbit.com/1/user/-/activities/date/2024-07-28.json'\n",
    "\n",
    "# get_daily_activities_param = {\n",
    "#     #'beforeDate' : '2024-07-17',\n",
    "#     'date' : '2024-07-18',\n",
    "#     #'sort' : 'asc',\n",
    "#     #'limit' : 100,\n",
    "#     #'offset' : 0\n",
    "# }\n",
    "# get_daily_activities_headers = {\n",
    "#     \"authorization\" : f\"Bearer {os.getenv('ACCESS_TOKEN')}\"\n",
    "# }\n",
    "\n",
    "# #daily_activities_req = requests.get(url = get_daily_activities_url, params=get_daily_activities_param, headers=get_daily_activities_headers)\n",
    "# daily_activities_req = requests.get(url = get_daily_activities_url, headers=get_daily_activities_headers)\n",
    "\n",
    "# daily_activities_json = daily_activities_req.json()\n",
    "\n",
    "# print(daily_activities_json)"
   ]
  },
  {
   "cell_type": "code",
   "execution_count": 9,
   "id": "481a9237",
   "metadata": {
    "scrolled": true
   },
   "outputs": [],
   "source": [
    "#pprint(daily_activities_json) "
   ]
  },
  {
   "cell_type": "markdown",
   "id": "593f10b5",
   "metadata": {},
   "source": [
    "# Get Sleep Activity"
   ]
  },
  {
   "cell_type": "code",
   "execution_count": 10,
   "id": "8535dbbc",
   "metadata": {},
   "outputs": [],
   "source": [
    "get_sleep_url = f'https://api.fitbit.com/1.2/user/-/sleep/list.json'\n",
    "\n",
    "get_sleep_param = {\n",
    "    #'afterDate' : '2024-07-17',\n",
    "    'beforeDate' : '2024-08-06',\n",
    "    'sort' : 'asc',\n",
    "    'limit' : 100,\n",
    "    'offset' : 0\n",
    "}\n",
    "get_sleep_headers = {\n",
    "    \"authorization\" : f\"Bearer {os.getenv('ACCESS_TOKEN')}\"\n",
    "}\n",
    "\n",
    "daily_sleep_req = requests.get(url = get_sleep_url, params=get_sleep_param, headers=get_sleep_headers)\n",
    "#daily_activities_req = requests.get(url = get_daily_activities_url, headers=get_daily_activities_headers)\n",
    "\n",
    "daily_sleep_json = daily_sleep_req.json()\n",
    "\n",
    "#print(daily_sleep_json)"
   ]
  },
  {
   "cell_type": "code",
   "execution_count": 11,
   "id": "0fcaa236",
   "metadata": {},
   "outputs": [],
   "source": [
    "get_sleep_url = f'https://api.fitbit.com/1.2/user/-/sleep/list.json'\n",
    "\n",
    "get_sleep_param = {\n",
    "    'afterDate' : '2024-03-04',\n",
    "    #'beforeDate' : '2024-03-04',\n",
    "    'sort' : 'asc',\n",
    "    'limit' : 100,\n",
    "    'offset' : 0\n",
    "}\n",
    "get_sleep_headers = {\n",
    "    \"authorization\" : f\"Bearer {os.getenv('ACCESS_TOKEN')}\"\n",
    "}\n",
    "\n",
    "daily_sleep_req = requests.get(url = get_sleep_url, params=get_sleep_param, headers=get_sleep_headers)\n",
    "#daily_activities_req = requests.get(url = get_daily_activities_url, headers=get_daily_activities_headers)\n",
    "\n",
    "daily_sleep_json_t = daily_sleep_req.json()\n",
    "\n",
    "#print(daily_sleep_json_t)"
   ]
  },
  {
   "cell_type": "code",
   "execution_count": 12,
   "id": "a74c38bd",
   "metadata": {},
   "outputs": [],
   "source": [
    "get_sleep_url = f'https://api.fitbit.com/1.2/user/-/sleep/list.json'\n",
    "\n",
    "get_sleep_param = {\n",
    "    'afterDate' : '2024-06-13',\n",
    "    #'beforeDate' : '2024-03-04',\n",
    "    'sort' : 'asc',\n",
    "    'limit' : 100,\n",
    "    'offset' : 0\n",
    "}\n",
    "get_sleep_headers = {\n",
    "    \"authorization\" : f\"Bearer {os.getenv('ACCESS_TOKEN')}\"\n",
    "}\n",
    "\n",
    "daily_sleep_req = requests.get(url = get_sleep_url, params=get_sleep_param, headers=get_sleep_headers)\n",
    "#daily_activities_req = requests.get(url = get_daily_activities_url, headers=get_daily_activities_headers)\n",
    "\n",
    "daily_sleep_json_th = daily_sleep_req.json()\n",
    "\n",
    "#print(daily_sleep_json_th)"
   ]
  },
  {
   "cell_type": "code",
   "execution_count": 13,
   "id": "c63775aa",
   "metadata": {},
   "outputs": [],
   "source": [
    "#pprint(daily_sleep_json)"
   ]
  },
  {
   "cell_type": "code",
   "execution_count": 14,
   "id": "d7da92c0",
   "metadata": {},
   "outputs": [],
   "source": [
    "#pprint(daily_sleep_json_t)"
   ]
  },
  {
   "cell_type": "code",
   "execution_count": 15,
   "id": "ad81515a",
   "metadata": {},
   "outputs": [],
   "source": [
    "#pprint(daily_sleep_json_th)"
   ]
  },
  {
   "cell_type": "markdown",
   "id": "0c5f72b8",
   "metadata": {},
   "source": [
    "# Get Skin Temperature"
   ]
  },
  {
   "cell_type": "code",
   "execution_count": 16,
   "id": "3cefb218",
   "metadata": {},
   "outputs": [],
   "source": [
    "get_skin_temp_url = f'https://api.fitbit.com/1/user/-/temp/skin/date/2023-11-22/2023-12-20.json'\n",
    "\n",
    "get_skin_temp_headers = {\n",
    "    \"authorization\" : f\"Bearer {os.getenv('ACCESS_TOKEN')}\"\n",
    "}\n",
    "\n",
    "#cfs_req = requests.get(url = get_cfs_url, params=get_cfs_param, headers=get_cfs_headers)\n",
    "skin_temp_req = requests.get(url = get_skin_temp_url, headers=get_skin_temp_headers)\n",
    "\n",
    "skin_temp_json = skin_temp_req.json()\n",
    "\n",
    "#print(skin_temp_json)"
   ]
  },
  {
   "cell_type": "code",
   "execution_count": 17,
   "id": "66d41a1f",
   "metadata": {},
   "outputs": [],
   "source": [
    "get_skin_temp_url = f'https://api.fitbit.com/1/user/-/temp/skin/date/2023-12-20/2024-01-19.json'\n",
    "\n",
    "get_skin_temp_headers = {\n",
    "    \"authorization\" : f\"Bearer {os.getenv('ACCESS_TOKEN')}\"\n",
    "}\n",
    "\n",
    "#cfs_req = requests.get(url = get_cfs_url, params=get_cfs_param, headers=get_cfs_headers)\n",
    "skin_temp_req = requests.get(url = get_skin_temp_url, headers=get_skin_temp_headers)\n",
    "\n",
    "skin_temp_json_2 = skin_temp_req.json()\n",
    "\n",
    "#print(skin_temp_json_2)"
   ]
  },
  {
   "cell_type": "code",
   "execution_count": 18,
   "id": "578853e7",
   "metadata": {},
   "outputs": [],
   "source": [
    "get_skin_temp_url = f'https://api.fitbit.com/1/user/-/temp/skin/date/2024-01-19/2024-02-18.json'\n",
    "\n",
    "get_skin_temp_headers = {\n",
    "    \"authorization\" : f\"Bearer {os.getenv('ACCESS_TOKEN')}\"\n",
    "}\n",
    "\n",
    "#cfs_req = requests.get(url = get_cfs_url, params=get_cfs_param, headers=get_cfs_headers)\n",
    "skin_temp_req = requests.get(url = get_skin_temp_url, headers=get_skin_temp_headers)\n",
    "\n",
    "skin_temp_json_3 = skin_temp_req.json()\n",
    "\n",
    "#print(skin_temp_json_3)"
   ]
  },
  {
   "cell_type": "code",
   "execution_count": 19,
   "id": "e978dfd8",
   "metadata": {},
   "outputs": [],
   "source": [
    "get_skin_temp_url = f'https://api.fitbit.com/1/user/-/temp/skin/date/2024-02-18/2024-03-19.json'\n",
    "\n",
    "get_skin_temp_headers = {\n",
    "    \"authorization\" : f\"Bearer {os.getenv('ACCESS_TOKEN')}\"\n",
    "}\n",
    "\n",
    "#cfs_req = requests.get(url = get_cfs_url, params=get_cfs_param, headers=get_cfs_headers)\n",
    "skin_temp_req = requests.get(url = get_skin_temp_url, headers=get_skin_temp_headers)\n",
    "\n",
    "skin_temp_json_4 = skin_temp_req.json()\n",
    "\n",
    "#print(skin_temp_json_4)"
   ]
  },
  {
   "cell_type": "code",
   "execution_count": 20,
   "id": "ab85eff4",
   "metadata": {},
   "outputs": [],
   "source": [
    "get_skin_temp_url = f'https://api.fitbit.com/1/user/-/temp/skin/date/2024-03-19/2024-04-18.json'\n",
    "\n",
    "get_skin_temp_headers = {\n",
    "    \"authorization\" : f\"Bearer {os.getenv('ACCESS_TOKEN')}\"\n",
    "}\n",
    "\n",
    "#cfs_req = requests.get(url = get_cfs_url, params=get_cfs_param, headers=get_cfs_headers)\n",
    "skin_temp_req = requests.get(url = get_skin_temp_url, headers=get_skin_temp_headers)\n",
    "\n",
    "skin_temp_json_5 = skin_temp_req.json()\n",
    "\n",
    "#print(skin_temp_json_5)"
   ]
  },
  {
   "cell_type": "code",
   "execution_count": 21,
   "id": "f041a283",
   "metadata": {},
   "outputs": [],
   "source": [
    "get_skin_temp_url = f'https://api.fitbit.com/1/user/-/temp/skin/date/2024-04-18/2024-05-18.json'\n",
    "\n",
    "get_skin_temp_headers = {\n",
    "    \"authorization\" : f\"Bearer {os.getenv('ACCESS_TOKEN')}\"\n",
    "}\n",
    "\n",
    "#cfs_req = requests.get(url = get_cfs_url, params=get_cfs_param, headers=get_cfs_headers)\n",
    "skin_temp_req = requests.get(url = get_skin_temp_url, headers=get_skin_temp_headers)\n",
    "\n",
    "skin_temp_json_6 = skin_temp_req.json()\n",
    "\n",
    "#print(skin_temp_json_6)"
   ]
  },
  {
   "cell_type": "code",
   "execution_count": 22,
   "id": "7b99b6b1",
   "metadata": {},
   "outputs": [],
   "source": [
    "#pprint(skin_temp_json)"
   ]
  },
  {
   "cell_type": "code",
   "execution_count": 23,
   "id": "49736a52",
   "metadata": {},
   "outputs": [],
   "source": [
    "#dateTime, date of temp skin recorded\n",
    "#value : nightlyRelative: + or - value in fahrenheit from baseline temperature from up to 30 days. so +0.4 means that night \n",
    "#i was 0.4 def above my baseline."
   ]
  },
  {
   "cell_type": "markdown",
   "id": "a8a69a2d",
   "metadata": {},
   "source": [
    "# Heart Rate Variability"
   ]
  },
  {
   "cell_type": "code",
   "execution_count": 24,
   "id": "0192f7bc",
   "metadata": {},
   "outputs": [],
   "source": [
    "get_hrv_url = f'https://api.fitbit.com/1/user/-/hrv/date/2024-07-17/2024-07-18.json'\n",
    "\n",
    "get_hrv_headers = {\n",
    "    \"authorization\" : f\"Bearer {os.getenv('ACCESS_TOKEN')}\"\n",
    "}\n",
    "\n",
    "#cfs_req = requests.get(url = get_cfs_url, params=get_cfs_param, headers=get_cfs_headers)\n",
    "hrv_req = requests.get(url = get_hrv_url, headers=get_hrv_headers)\n",
    "\n",
    "hrv_json = hrv_req.json()\n",
    "\n",
    "#print(hrv_json)"
   ]
  },
  {
   "cell_type": "code",
   "execution_count": 25,
   "id": "bd019839",
   "metadata": {},
   "outputs": [],
   "source": [
    "# During sleep, measure of heart rate variability \n",
    "# dailyRmssd Root Mean Square of Successive Differences between heart beats, measuring short-term variability of users daily HR.\n",
    "# deepRmssd Root Mean Square of Successive Differences between heart beats, measuring short-term variability of users deep HR."
   ]
  },
  {
   "cell_type": "markdown",
   "id": "d0c86497",
   "metadata": {},
   "source": [
    "# Breathing Rate Summary"
   ]
  },
  {
   "cell_type": "code",
   "execution_count": 26,
   "id": "8a19472b",
   "metadata": {},
   "outputs": [],
   "source": [
    "get_br_url = f'https://api.fitbit.com/1/user/-/br/date/2024-07-17/2024-07-18.json'\n",
    "\n",
    "get_br_headers = {\n",
    "    \"authorization\" : f\"Bearer {os.getenv('ACCESS_TOKEN')}\"\n",
    "}\n",
    "\n",
    "#cfs_req = requests.get(url = get_cfs_url, params=get_cfs_param, headers=get_cfs_headers)\n",
    "br_req = requests.get(url = get_br_url, headers=get_br_headers)\n",
    "\n",
    "br_json = br_req.json()\n",
    "\n",
    "#print(br_json)"
   ]
  },
  {
   "cell_type": "code",
   "execution_count": 27,
   "id": "7927e6bb",
   "metadata": {},
   "outputs": [],
   "source": [
    "# breathingRate is the average number of breaths taken per minute."
   ]
  },
  {
   "cell_type": "code",
   "execution_count": 28,
   "id": "83d034f7",
   "metadata": {},
   "outputs": [
    {
     "ename": "SyntaxError",
     "evalue": "incomplete input (1720341540.py, line 4)",
     "output_type": "error",
     "traceback": [
      "\u001b[1;36m  Cell \u001b[1;32mIn[28], line 4\u001b[1;36m\u001b[0m\n\u001b[1;33m    \u001b[0m\n\u001b[1;37m    ^\u001b[0m\n\u001b[1;31mSyntaxError\u001b[0m\u001b[1;31m:\u001b[0m incomplete input\n"
     ]
    }
   ],
   "source": [
    "# Returns a string that is 30 days after the date given. So if input is a string that says 2024-04-18, returns a string that says 2024-05-18\n",
    "def date_plus_thirty(date):\n",
    "    \n",
    "    "
   ]
  }
 ],
 "metadata": {
  "kernelspec": {
   "display_name": "Python 3 (ipykernel)",
   "language": "python",
   "name": "python3"
  },
  "language_info": {
   "codemirror_mode": {
    "name": "ipython",
    "version": 3
   },
   "file_extension": ".py",
   "mimetype": "text/x-python",
   "name": "python",
   "nbconvert_exporter": "python",
   "pygments_lexer": "ipython3",
   "version": "3.11.3"
  }
 },
 "nbformat": 4,
 "nbformat_minor": 5
}
