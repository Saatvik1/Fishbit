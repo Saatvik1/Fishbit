{
 "cells": [
  {
   "cell_type": "code",
   "execution_count": 6,
   "id": "38fdc9ce",
   "metadata": {},
   "outputs": [],
   "source": [
    "import pandas as pd\n",
    "import json"
   ]
  },
  {
   "cell_type": "markdown",
   "id": "b20f6ff2",
   "metadata": {},
   "source": [
    "# Activity Log"
   ]
  },
  {
   "cell_type": "code",
   "execution_count": 7,
   "id": "64de12c3",
   "metadata": {},
   "outputs": [],
   "source": [
    "# Take: Each activity has active duration, duration, originalDuration. These will be columns, not sure if they are ever different. If not, just use one.\n",
    "# coumns from under activityLevel value array that contains same info as above, just need to see if the same.\n",
    "# Take: activityLevel_sedentary, activityLevel_lightly, activityLevel_fairly, activityLevel_very, each containing minutes\n",
    "# Take: activityName, activityTypeId, averageHeartRate, calories, \n",
    "# from heartRateZones: \n",
    "# Take: hrZone_OOR_mins, hrZone_Fatburn_mins, hrZone_Cardio_mins, hrZone_Peak_mins /// hrZone_OOR_cals, hrZone_Fatburn_cals, hrZone_Cardio_cals, hrZone_Peak_cals\n",
    "# Take: logID, originalStartTime, startTime, steps"
   ]
  },
  {
   "cell_type": "code",
   "execution_count": 18,
   "id": "98f1c1d1",
   "metadata": {},
   "outputs": [],
   "source": [
    "#activity_df = pd.read_json('raw_data/get_activities_1.json')\n",
    "f = open('raw_data/get_activities_1.json')\n",
    "\n",
    "data = json.load(f)\n",
    "#print(data['activities'])\n",
    "activity_df = pd.DataFrame.from_dict(pd.json_normalize(data['activities']), orient='columns')"
   ]
  },
  {
   "cell_type": "code",
   "execution_count": 19,
   "id": "ebe224bb",
   "metadata": {},
   "outputs": [
    {
     "data": {
      "text/plain": [
       "Index(['activeDuration', 'activityLevel', 'activityName', 'activityTypeId',\n",
       "       'averageHeartRate', 'calories', 'caloriesLink', 'distance',\n",
       "       'distanceUnit', 'duration', 'elevationGain', 'hasActiveZoneMinutes',\n",
       "       'heartRateLink', 'heartRateZones', 'lastModified', 'logId', 'logType',\n",
       "       'originalDuration', 'originalStartTime', 'pace', 'speed', 'startTime',\n",
       "       'steps', 'tcxLink', 'activeZoneMinutes.minutesInHeartRateZones',\n",
       "       'activeZoneMinutes.totalMinutes', 'manualValuesSpecified.calories',\n",
       "       'manualValuesSpecified.distance', 'manualValuesSpecified.steps',\n",
       "       'source.id', 'source.name', 'source.trackerFeatures', 'source.type',\n",
       "       'source.url'],\n",
       "      dtype='object')"
      ]
     },
     "execution_count": 19,
     "metadata": {},
     "output_type": "execute_result"
    }
   ],
   "source": [
    "activity_df.columns"
   ]
  },
  {
   "cell_type": "code",
   "execution_count": 20,
   "id": "09d0f59f",
   "metadata": {},
   "outputs": [
    {
     "data": {
      "text/html": [
       "<div>\n",
       "<style scoped>\n",
       "    .dataframe tbody tr th:only-of-type {\n",
       "        vertical-align: middle;\n",
       "    }\n",
       "\n",
       "    .dataframe tbody tr th {\n",
       "        vertical-align: top;\n",
       "    }\n",
       "\n",
       "    .dataframe thead th {\n",
       "        text-align: right;\n",
       "    }\n",
       "</style>\n",
       "<table border=\"1\" class=\"dataframe\">\n",
       "  <thead>\n",
       "    <tr style=\"text-align: right;\">\n",
       "      <th></th>\n",
       "      <th>activeDuration</th>\n",
       "      <th>activityLevel</th>\n",
       "      <th>activityName</th>\n",
       "      <th>activityTypeId</th>\n",
       "      <th>averageHeartRate</th>\n",
       "      <th>calories</th>\n",
       "      <th>caloriesLink</th>\n",
       "      <th>distance</th>\n",
       "      <th>distanceUnit</th>\n",
       "      <th>duration</th>\n",
       "      <th>...</th>\n",
       "      <th>activeZoneMinutes.minutesInHeartRateZones</th>\n",
       "      <th>activeZoneMinutes.totalMinutes</th>\n",
       "      <th>manualValuesSpecified.calories</th>\n",
       "      <th>manualValuesSpecified.distance</th>\n",
       "      <th>manualValuesSpecified.steps</th>\n",
       "      <th>source.id</th>\n",
       "      <th>source.name</th>\n",
       "      <th>source.trackerFeatures</th>\n",
       "      <th>source.type</th>\n",
       "      <th>source.url</th>\n",
       "    </tr>\n",
       "  </thead>\n",
       "  <tbody>\n",
       "    <tr>\n",
       "      <th>0</th>\n",
       "      <td>1676000</td>\n",
       "      <td>[{'minutes': 3, 'name': 'sedentary'}, {'minute...</td>\n",
       "      <td>Walk</td>\n",
       "      <td>90013</td>\n",
       "      <td>107</td>\n",
       "      <td>187</td>\n",
       "      <td>https://api.fitbit.com/1/user/-/activities/cal...</td>\n",
       "      <td>1.208969</td>\n",
       "      <td>Kilometer</td>\n",
       "      <td>1678000</td>\n",
       "      <td>...</td>\n",
       "      <td>[{'minuteMultiplier': 2, 'minutes': 0, 'order'...</td>\n",
       "      <td>21</td>\n",
       "      <td>False</td>\n",
       "      <td>False</td>\n",
       "      <td>False</td>\n",
       "      <td>293319960</td>\n",
       "      <td>Charge 6</td>\n",
       "      <td>[CALORIES, DISTANCE, PACE, GPS, HEARTRATE, VO2...</td>\n",
       "      <td>tracker</td>\n",
       "      <td>https://www.fitbit.com/</td>\n",
       "    </tr>\n",
       "    <tr>\n",
       "      <th>1</th>\n",
       "      <td>7000</td>\n",
       "      <td>[{'minutes': 0, 'name': 'sedentary'}, {'minute...</td>\n",
       "      <td>Bike</td>\n",
       "      <td>90001</td>\n",
       "      <td>137</td>\n",
       "      <td>0</td>\n",
       "      <td>https://api.fitbit.com/1/user/-/activities/cal...</td>\n",
       "      <td>0.000000</td>\n",
       "      <td>Kilometer</td>\n",
       "      <td>9000</td>\n",
       "      <td>...</td>\n",
       "      <td>[{'minuteMultiplier': 2, 'minutes': 1, 'order'...</td>\n",
       "      <td>2</td>\n",
       "      <td>False</td>\n",
       "      <td>False</td>\n",
       "      <td>False</td>\n",
       "      <td>293319960</td>\n",
       "      <td>Charge 6</td>\n",
       "      <td>[CALORIES, DISTANCE, GPS, HEARTRATE, SPEED]</td>\n",
       "      <td>tracker</td>\n",
       "      <td>https://www.fitbit.com/</td>\n",
       "    </tr>\n",
       "  </tbody>\n",
       "</table>\n",
       "<p>2 rows × 34 columns</p>\n",
       "</div>"
      ],
      "text/plain": [
       "   activeDuration                                      activityLevel  \\\n",
       "0         1676000  [{'minutes': 3, 'name': 'sedentary'}, {'minute...   \n",
       "1            7000  [{'minutes': 0, 'name': 'sedentary'}, {'minute...   \n",
       "\n",
       "  activityName  activityTypeId  averageHeartRate  calories  \\\n",
       "0         Walk           90013               107       187   \n",
       "1         Bike           90001               137         0   \n",
       "\n",
       "                                        caloriesLink  distance distanceUnit  \\\n",
       "0  https://api.fitbit.com/1/user/-/activities/cal...  1.208969    Kilometer   \n",
       "1  https://api.fitbit.com/1/user/-/activities/cal...  0.000000    Kilometer   \n",
       "\n",
       "   duration  ...          activeZoneMinutes.minutesInHeartRateZones  \\\n",
       "0   1678000  ...  [{'minuteMultiplier': 2, 'minutes': 0, 'order'...   \n",
       "1      9000  ...  [{'minuteMultiplier': 2, 'minutes': 1, 'order'...   \n",
       "\n",
       "   activeZoneMinutes.totalMinutes manualValuesSpecified.calories  \\\n",
       "0                              21                          False   \n",
       "1                               2                          False   \n",
       "\n",
       "  manualValuesSpecified.distance manualValuesSpecified.steps  source.id  \\\n",
       "0                          False                       False  293319960   \n",
       "1                          False                       False  293319960   \n",
       "\n",
       "  source.name                             source.trackerFeatures source.type  \\\n",
       "0    Charge 6  [CALORIES, DISTANCE, PACE, GPS, HEARTRATE, VO2...     tracker   \n",
       "1    Charge 6        [CALORIES, DISTANCE, GPS, HEARTRATE, SPEED]     tracker   \n",
       "\n",
       "                source.url  \n",
       "0  https://www.fitbit.com/  \n",
       "1  https://www.fitbit.com/  \n",
       "\n",
       "[2 rows x 34 columns]"
      ]
     },
     "execution_count": 20,
     "metadata": {},
     "output_type": "execute_result"
    }
   ],
   "source": [
    "activity_df.head(2)"
   ]
  },
  {
   "cell_type": "code",
   "execution_count": 24,
   "id": "bc847e72",
   "metadata": {},
   "outputs": [
    {
     "data": {
      "text/plain": [
       "Index(['activeDuration', 'activityLevel', 'activityName', 'activityTypeId',\n",
       "       'averageHeartRate', 'calories', 'distance', 'distanceUnit', 'duration',\n",
       "       'elevationGain', 'hasActiveZoneMinutes', 'heartRateZones', 'logId',\n",
       "       'originalDuration', 'originalStartTime', 'pace', 'speed', 'startTime',\n",
       "       'steps', 'activeZoneMinutes.minutesInHeartRateZones',\n",
       "       'activeZoneMinutes.totalMinutes'],\n",
       "      dtype='object')"
      ]
     },
     "execution_count": 24,
     "metadata": {},
     "output_type": "execute_result"
    }
   ],
   "source": [
    "activity_df.drop(['caloriesLink', 'heartRateLink', 'lastModified', 'logType', 'tcxLink', 'manualValuesSpecified.calories', 'manualValuesSpecified.distance', 'manualValuesSpecified.steps', 'source.id', 'source.name', 'source.trackerFeatures', 'source.type', 'source.url'], axis=1, inplace=True)\n",
    "activity_df.columns"
   ]
  },
  {
   "cell_type": "code",
   "execution_count": 39,
   "id": "82022494",
   "metadata": {},
   "outputs": [],
   "source": [
    "f = open('raw_data/get_activities_2.json')\n",
    "data = json.load(f)\n",
    "activity_df_2 = pd.DataFrame.from_dict(pd.json_normalize(data['activities']), orient='columns')\n",
    "\n",
    "f = open('raw_data/get_activities_3.json')\n",
    "data = json.load(f)\n",
    "activity_df_3 = pd.DataFrame.from_dict(pd.json_normalize(data['activities']), orient='columns')"
   ]
  },
  {
   "cell_type": "code",
   "execution_count": 41,
   "id": "2b625b9f",
   "metadata": {},
   "outputs": [],
   "source": [
    "activity_df_2.drop(['caloriesLink', 'heartRateLink', 'lastModified', 'logType', 'tcxLink', 'manualValuesSpecified.calories', 'manualValuesSpecified.distance', 'manualValuesSpecified.steps'], axis=1, inplace=True)\n",
    "activity_df_3.drop(['caloriesLink', 'heartRateLink', 'lastModified', 'logType', 'tcxLink', 'manualValuesSpecified.calories', 'manualValuesSpecified.distance', 'manualValuesSpecified.steps'], axis=1, inplace=True)\n"
   ]
  },
  {
   "cell_type": "code",
   "execution_count": null,
   "id": "dfd28afc",
   "metadata": {},
   "outputs": [],
   "source": []
  },
  {
   "cell_type": "code",
   "execution_count": 42,
   "id": "9c9f1ee5",
   "metadata": {},
   "outputs": [
    {
     "name": "stdout",
     "output_type": "stream",
     "text": [
      "Index(['activeDuration', 'activityLevel', 'activityName', 'activityTypeId',\n",
      "       'averageHeartRate', 'calories', 'distance', 'distanceUnit', 'duration',\n",
      "       'elevationGain', 'hasActiveZoneMinutes', 'heartRateZones', 'logId',\n",
      "       'originalDuration', 'originalStartTime', 'pace', 'speed', 'startTime',\n",
      "       'steps', 'activeZoneMinutes.minutesInHeartRateZones',\n",
      "       'activeZoneMinutes.totalMinutes'],\n",
      "      dtype='object')\n",
      "Index(['activeDuration', 'activityLevel', 'activityName', 'activityTypeId',\n",
      "       'averageHeartRate', 'calories', 'duration', 'hasActiveZoneMinutes',\n",
      "       'heartRateZones', 'logId', 'originalDuration', 'originalStartTime',\n",
      "       'startTime', 'steps', 'activeZoneMinutes.minutesInHeartRateZones',\n",
      "       'activeZoneMinutes.totalMinutes'],\n",
      "      dtype='object')\n",
      "Index(['activeDuration', 'activityLevel', 'activityName', 'activityTypeId',\n",
      "       'averageHeartRate', 'calories', 'duration', 'hasActiveZoneMinutes',\n",
      "       'heartRateZones', 'logId', 'originalDuration', 'originalStartTime',\n",
      "       'startTime', 'steps', 'activeZoneMinutes.minutesInHeartRateZones',\n",
      "       'activeZoneMinutes.totalMinutes'],\n",
      "      dtype='object')\n",
      "<class 'pandas.core.frame.DataFrame'>\n",
      "RangeIndex: 100 entries, 0 to 99\n",
      "Data columns (total 21 columns):\n",
      " #   Column                                     Non-Null Count  Dtype  \n",
      "---  ------                                     --------------  -----  \n",
      " 0   activeDuration                             100 non-null    int64  \n",
      " 1   activityLevel                              100 non-null    object \n",
      " 2   activityName                               100 non-null    object \n",
      " 3   activityTypeId                             100 non-null    int64  \n",
      " 4   averageHeartRate                           100 non-null    int64  \n",
      " 5   calories                                   100 non-null    int64  \n",
      " 6   distance                                   3 non-null      float64\n",
      " 7   distanceUnit                               3 non-null      object \n",
      " 8   duration                                   100 non-null    int64  \n",
      " 9   elevationGain                              3 non-null      float64\n",
      " 10  hasActiveZoneMinutes                       100 non-null    bool   \n",
      " 11  heartRateZones                             100 non-null    object \n",
      " 12  logId                                      100 non-null    int64  \n",
      " 13  originalDuration                           100 non-null    int64  \n",
      " 14  originalStartTime                          100 non-null    object \n",
      " 15  pace                                       2 non-null      float64\n",
      " 16  speed                                      3 non-null      float64\n",
      " 17  startTime                                  100 non-null    object \n",
      " 18  steps                                      98 non-null     float64\n",
      " 19  activeZoneMinutes.minutesInHeartRateZones  100 non-null    object \n",
      " 20  activeZoneMinutes.totalMinutes             100 non-null    int64  \n",
      "dtypes: bool(1), float64(5), int64(8), object(7)\n",
      "memory usage: 15.9+ KB\n",
      "None\n",
      "<class 'pandas.core.frame.DataFrame'>\n",
      "RangeIndex: 100 entries, 0 to 99\n",
      "Data columns (total 16 columns):\n",
      " #   Column                                     Non-Null Count  Dtype \n",
      "---  ------                                     --------------  ----- \n",
      " 0   activeDuration                             100 non-null    int64 \n",
      " 1   activityLevel                              100 non-null    object\n",
      " 2   activityName                               100 non-null    object\n",
      " 3   activityTypeId                             100 non-null    int64 \n",
      " 4   averageHeartRate                           100 non-null    int64 \n",
      " 5   calories                                   100 non-null    int64 \n",
      " 6   duration                                   100 non-null    int64 \n",
      " 7   hasActiveZoneMinutes                       100 non-null    bool  \n",
      " 8   heartRateZones                             100 non-null    object\n",
      " 9   logId                                      100 non-null    int64 \n",
      " 10  originalDuration                           100 non-null    int64 \n",
      " 11  originalStartTime                          100 non-null    object\n",
      " 12  startTime                                  100 non-null    object\n",
      " 13  steps                                      100 non-null    int64 \n",
      " 14  activeZoneMinutes.minutesInHeartRateZones  100 non-null    object\n",
      " 15  activeZoneMinutes.totalMinutes             100 non-null    int64 \n",
      "dtypes: bool(1), int64(9), object(6)\n",
      "memory usage: 11.9+ KB\n",
      "None\n",
      "<class 'pandas.core.frame.DataFrame'>\n",
      "RangeIndex: 41 entries, 0 to 40\n",
      "Data columns (total 16 columns):\n",
      " #   Column                                     Non-Null Count  Dtype \n",
      "---  ------                                     --------------  ----- \n",
      " 0   activeDuration                             41 non-null     int64 \n",
      " 1   activityLevel                              41 non-null     object\n",
      " 2   activityName                               41 non-null     object\n",
      " 3   activityTypeId                             41 non-null     int64 \n",
      " 4   averageHeartRate                           41 non-null     int64 \n",
      " 5   calories                                   41 non-null     int64 \n",
      " 6   duration                                   41 non-null     int64 \n",
      " 7   hasActiveZoneMinutes                       41 non-null     bool  \n",
      " 8   heartRateZones                             41 non-null     object\n",
      " 9   logId                                      41 non-null     int64 \n",
      " 10  originalDuration                           41 non-null     int64 \n",
      " 11  originalStartTime                          41 non-null     object\n",
      " 12  startTime                                  41 non-null     object\n",
      " 13  steps                                      41 non-null     int64 \n",
      " 14  activeZoneMinutes.minutesInHeartRateZones  41 non-null     object\n",
      " 15  activeZoneMinutes.totalMinutes             41 non-null     int64 \n",
      "dtypes: bool(1), int64(9), object(6)\n",
      "memory usage: 5.0+ KB\n",
      "None\n"
     ]
    }
   ],
   "source": [
    "print(activity_df.columns)\n",
    "print(activity_df_2.columns)\n",
    "print(activity_df_3.columns)\n",
    "\n",
    "print(activity_df.info())\n",
    "print(activity_df_2.info())\n",
    "print(activity_df_3.info())"
   ]
  },
  {
   "cell_type": "code",
   "execution_count": 43,
   "id": "6be7831f",
   "metadata": {},
   "outputs": [],
   "source": [
    "#Dropping because there are only 2-3 instances where this data is recorded, therefore it is useless.\n",
    "activity_df.drop(['distance', 'distanceUnit', 'elevationGain', 'pace', 'speed'], axis=1, inplace=True)"
   ]
  },
  {
   "cell_type": "code",
   "execution_count": 44,
   "id": "72f20ac0",
   "metadata": {},
   "outputs": [],
   "source": [
    "activity_df = pd.concat([activity_df, activity_df_2, activity_df_3], ignore_index=True)"
   ]
  },
  {
   "cell_type": "code",
   "execution_count": 45,
   "id": "b0c9de40",
   "metadata": {},
   "outputs": [
    {
     "name": "stdout",
     "output_type": "stream",
     "text": [
      "<class 'pandas.core.frame.DataFrame'>\n",
      "RangeIndex: 241 entries, 0 to 240\n",
      "Data columns (total 16 columns):\n",
      " #   Column                                     Non-Null Count  Dtype  \n",
      "---  ------                                     --------------  -----  \n",
      " 0   activeDuration                             241 non-null    int64  \n",
      " 1   activityLevel                              241 non-null    object \n",
      " 2   activityName                               241 non-null    object \n",
      " 3   activityTypeId                             241 non-null    int64  \n",
      " 4   averageHeartRate                           241 non-null    int64  \n",
      " 5   calories                                   241 non-null    int64  \n",
      " 6   duration                                   241 non-null    int64  \n",
      " 7   hasActiveZoneMinutes                       241 non-null    bool   \n",
      " 8   heartRateZones                             241 non-null    object \n",
      " 9   logId                                      241 non-null    int64  \n",
      " 10  originalDuration                           241 non-null    int64  \n",
      " 11  originalStartTime                          241 non-null    object \n",
      " 12  startTime                                  241 non-null    object \n",
      " 13  steps                                      239 non-null    float64\n",
      " 14  activeZoneMinutes.minutesInHeartRateZones  241 non-null    object \n",
      " 15  activeZoneMinutes.totalMinutes             241 non-null    int64  \n",
      "dtypes: bool(1), float64(1), int64(8), object(6)\n",
      "memory usage: 28.6+ KB\n"
     ]
    }
   ],
   "source": [
    "activity_df.info()"
   ]
  },
  {
   "cell_type": "code",
   "execution_count": 46,
   "id": "8fc68fb4",
   "metadata": {},
   "outputs": [],
   "source": [
    "#Examine data, clean are next steps for activity."
   ]
  },
  {
   "cell_type": "markdown",
   "id": "ba7810b1",
   "metadata": {},
   "source": [
    "# Sleep Log"
   ]
  },
  {
   "cell_type": "code",
   "execution_count": 48,
   "id": "22d99a9f",
   "metadata": {},
   "outputs": [],
   "source": [
    "# Take endtime, startTime, duration, efficiency, isMainSleep\n",
    "# under leveles, data, array of data times of each cycle of sleep. record that as well.\n",
    "# Take level (will be light, wake, deep, REM) and datetime /// Likely these two will be PK for each row. Group by endtime, startTime for total sleep day."
   ]
  },
  {
   "cell_type": "code",
   "execution_count": 56,
   "id": "3f00bbf8",
   "metadata": {},
   "outputs": [],
   "source": [
    "f = open('raw_data/get_sleep_1.json')\n",
    "data = json.load(f)\n",
    "sleep_df = pd.DataFrame.from_dict(pd.json_normalize(data['sleep']), orient='columns')\n",
    "\n",
    "f = open('raw_data/get_sleep_2.json')\n",
    "data = json.load(f)\n",
    "sleep_df_2 = pd.DataFrame.from_dict(pd.json_normalize(data['sleep']), orient='columns')\n",
    "\n",
    "f = open('raw_data/get_sleep_3.json')\n",
    "data = json.load(f)\n",
    "sleep_df_3 = pd.DataFrame.from_dict(pd.json_normalize(data['sleep']), orient='columns')"
   ]
  },
  {
   "cell_type": "code",
   "execution_count": 57,
   "id": "abb42bdd",
   "metadata": {},
   "outputs": [
    {
     "name": "stdout",
     "output_type": "stream",
     "text": [
      "<class 'pandas.core.frame.DataFrame'>\n",
      "RangeIndex: 100 entries, 0 to 99\n",
      "Data columns (total 35 columns):\n",
      " #   Column                                    Non-Null Count  Dtype  \n",
      "---  ------                                    --------------  -----  \n",
      " 0   dateOfSleep                               100 non-null    object \n",
      " 1   duration                                  100 non-null    int64  \n",
      " 2   efficiency                                100 non-null    int64  \n",
      " 3   endTime                                   100 non-null    object \n",
      " 4   infoCode                                  100 non-null    int64  \n",
      " 5   isMainSleep                               100 non-null    bool   \n",
      " 6   logId                                     100 non-null    int64  \n",
      " 7   logType                                   100 non-null    object \n",
      " 8   minutesAfterWakeup                        100 non-null    int64  \n",
      " 9   minutesAsleep                             100 non-null    int64  \n",
      " 10  minutesAwake                              100 non-null    int64  \n",
      " 11  minutesToFallAsleep                       100 non-null    int64  \n",
      " 12  startTime                                 100 non-null    object \n",
      " 13  timeInBed                                 100 non-null    int64  \n",
      " 14  type                                      100 non-null    object \n",
      " 15  levels.data                               100 non-null    object \n",
      " 16  levels.summary.asleep.count               6 non-null      float64\n",
      " 17  levels.summary.asleep.minutes             6 non-null      float64\n",
      " 18  levels.summary.awake.count                6 non-null      float64\n",
      " 19  levels.summary.awake.minutes              6 non-null      float64\n",
      " 20  levels.summary.restless.count             6 non-null      float64\n",
      " 21  levels.summary.restless.minutes           6 non-null      float64\n",
      " 22  levels.shortData                          94 non-null     object \n",
      " 23  levels.summary.deep.count                 94 non-null     float64\n",
      " 24  levels.summary.deep.minutes               94 non-null     float64\n",
      " 25  levels.summary.deep.thirtyDayAvgMinutes   94 non-null     float64\n",
      " 26  levels.summary.light.count                94 non-null     float64\n",
      " 27  levels.summary.light.minutes              94 non-null     float64\n",
      " 28  levels.summary.light.thirtyDayAvgMinutes  94 non-null     float64\n",
      " 29  levels.summary.rem.count                  94 non-null     float64\n",
      " 30  levels.summary.rem.minutes                94 non-null     float64\n",
      " 31  levels.summary.rem.thirtyDayAvgMinutes    94 non-null     float64\n",
      " 32  levels.summary.wake.count                 94 non-null     float64\n",
      " 33  levels.summary.wake.minutes               94 non-null     float64\n",
      " 34  levels.summary.wake.thirtyDayAvgMinutes   94 non-null     float64\n",
      "dtypes: bool(1), float64(18), int64(9), object(7)\n",
      "memory usage: 26.8+ KB\n",
      "None\n",
      "<class 'pandas.core.frame.DataFrame'>\n",
      "RangeIndex: 100 entries, 0 to 99\n",
      "Data columns (total 35 columns):\n",
      " #   Column                                    Non-Null Count  Dtype  \n",
      "---  ------                                    --------------  -----  \n",
      " 0   dateOfSleep                               100 non-null    object \n",
      " 1   duration                                  100 non-null    int64  \n",
      " 2   efficiency                                100 non-null    int64  \n",
      " 3   endTime                                   100 non-null    object \n",
      " 4   infoCode                                  100 non-null    int64  \n",
      " 5   isMainSleep                               100 non-null    bool   \n",
      " 6   logId                                     100 non-null    int64  \n",
      " 7   logType                                   100 non-null    object \n",
      " 8   minutesAfterWakeup                        100 non-null    int64  \n",
      " 9   minutesAsleep                             100 non-null    int64  \n",
      " 10  minutesAwake                              100 non-null    int64  \n",
      " 11  minutesToFallAsleep                       100 non-null    int64  \n",
      " 12  startTime                                 100 non-null    object \n",
      " 13  timeInBed                                 100 non-null    int64  \n",
      " 14  type                                      100 non-null    object \n",
      " 15  levels.data                               100 non-null    object \n",
      " 16  levels.shortData                          96 non-null     object \n",
      " 17  levels.summary.deep.count                 96 non-null     float64\n",
      " 18  levels.summary.deep.minutes               96 non-null     float64\n",
      " 19  levels.summary.deep.thirtyDayAvgMinutes   96 non-null     float64\n",
      " 20  levels.summary.light.count                96 non-null     float64\n",
      " 21  levels.summary.light.minutes              96 non-null     float64\n",
      " 22  levels.summary.light.thirtyDayAvgMinutes  96 non-null     float64\n",
      " 23  levels.summary.rem.count                  96 non-null     float64\n",
      " 24  levels.summary.rem.minutes                96 non-null     float64\n",
      " 25  levels.summary.rem.thirtyDayAvgMinutes    96 non-null     float64\n",
      " 26  levels.summary.wake.count                 96 non-null     float64\n",
      " 27  levels.summary.wake.minutes               96 non-null     float64\n",
      " 28  levels.summary.wake.thirtyDayAvgMinutes   96 non-null     float64\n",
      " 29  levels.summary.asleep.count               4 non-null      float64\n",
      " 30  levels.summary.asleep.minutes             4 non-null      float64\n",
      " 31  levels.summary.awake.count                4 non-null      float64\n",
      " 32  levels.summary.awake.minutes              4 non-null      float64\n",
      " 33  levels.summary.restless.count             4 non-null      float64\n",
      " 34  levels.summary.restless.minutes           4 non-null      float64\n",
      "dtypes: bool(1), float64(18), int64(9), object(7)\n",
      "memory usage: 26.8+ KB\n",
      "None\n",
      "<class 'pandas.core.frame.DataFrame'>\n",
      "RangeIndex: 57 entries, 0 to 56\n",
      "Data columns (total 35 columns):\n",
      " #   Column                                    Non-Null Count  Dtype  \n",
      "---  ------                                    --------------  -----  \n",
      " 0   dateOfSleep                               57 non-null     object \n",
      " 1   duration                                  57 non-null     int64  \n",
      " 2   efficiency                                57 non-null     int64  \n",
      " 3   endTime                                   57 non-null     object \n",
      " 4   infoCode                                  57 non-null     int64  \n",
      " 5   isMainSleep                               57 non-null     bool   \n",
      " 6   logId                                     57 non-null     int64  \n",
      " 7   logType                                   57 non-null     object \n",
      " 8   minutesAfterWakeup                        57 non-null     int64  \n",
      " 9   minutesAsleep                             57 non-null     int64  \n",
      " 10  minutesAwake                              57 non-null     int64  \n",
      " 11  minutesToFallAsleep                       57 non-null     int64  \n",
      " 12  startTime                                 57 non-null     object \n",
      " 13  timeInBed                                 57 non-null     int64  \n",
      " 14  type                                      57 non-null     object \n",
      " 15  levels.data                               57 non-null     object \n",
      " 16  levels.shortData                          54 non-null     object \n",
      " 17  levels.summary.deep.count                 54 non-null     float64\n",
      " 18  levels.summary.deep.minutes               54 non-null     float64\n",
      " 19  levels.summary.deep.thirtyDayAvgMinutes   54 non-null     float64\n",
      " 20  levels.summary.light.count                54 non-null     float64\n",
      " 21  levels.summary.light.minutes              54 non-null     float64\n",
      " 22  levels.summary.light.thirtyDayAvgMinutes  54 non-null     float64\n",
      " 23  levels.summary.rem.count                  54 non-null     float64\n",
      " 24  levels.summary.rem.minutes                54 non-null     float64\n",
      " 25  levels.summary.rem.thirtyDayAvgMinutes    54 non-null     float64\n",
      " 26  levels.summary.wake.count                 54 non-null     float64\n",
      " 27  levels.summary.wake.minutes               54 non-null     float64\n",
      " 28  levels.summary.wake.thirtyDayAvgMinutes   54 non-null     float64\n",
      " 29  levels.summary.asleep.count               3 non-null      float64\n",
      " 30  levels.summary.asleep.minutes             3 non-null      float64\n",
      " 31  levels.summary.awake.count                3 non-null      float64\n",
      " 32  levels.summary.awake.minutes              3 non-null      float64\n",
      " 33  levels.summary.restless.count             3 non-null      float64\n",
      " 34  levels.summary.restless.minutes           3 non-null      float64\n",
      "dtypes: bool(1), float64(18), int64(9), object(7)\n",
      "memory usage: 15.3+ KB\n",
      "None\n"
     ]
    }
   ],
   "source": [
    "print(sleep_df.info())\n",
    "print(sleep_df_2.info())\n",
    "print(sleep_df_3.info())"
   ]
  },
  {
   "cell_type": "code",
   "execution_count": 58,
   "id": "9e7b9bfe",
   "metadata": {},
   "outputs": [
    {
     "name": "stdout",
     "output_type": "stream",
     "text": [
      "<class 'pandas.core.frame.DataFrame'>\n",
      "RangeIndex: 100 entries, 0 to 99\n",
      "Data columns (total 5 columns):\n",
      " #   Column       Non-Null Count  Dtype \n",
      "---  ------       --------------  ----- \n",
      " 0   endTime      100 non-null    object\n",
      " 1   startTime    100 non-null    object\n",
      " 2   duration     100 non-null    int64 \n",
      " 3   efficiency   100 non-null    int64 \n",
      " 4   isMainSleep  100 non-null    bool  \n",
      "dtypes: bool(1), int64(2), object(2)\n",
      "memory usage: 3.4+ KB\n",
      "None\n",
      "<class 'pandas.core.frame.DataFrame'>\n",
      "RangeIndex: 100 entries, 0 to 99\n",
      "Data columns (total 5 columns):\n",
      " #   Column       Non-Null Count  Dtype \n",
      "---  ------       --------------  ----- \n",
      " 0   endTime      100 non-null    object\n",
      " 1   startTime    100 non-null    object\n",
      " 2   duration     100 non-null    int64 \n",
      " 3   efficiency   100 non-null    int64 \n",
      " 4   isMainSleep  100 non-null    bool  \n",
      "dtypes: bool(1), int64(2), object(2)\n",
      "memory usage: 3.4+ KB\n",
      "None\n",
      "<class 'pandas.core.frame.DataFrame'>\n",
      "RangeIndex: 57 entries, 0 to 56\n",
      "Data columns (total 5 columns):\n",
      " #   Column       Non-Null Count  Dtype \n",
      "---  ------       --------------  ----- \n",
      " 0   endTime      57 non-null     object\n",
      " 1   startTime    57 non-null     object\n",
      " 2   duration     57 non-null     int64 \n",
      " 3   efficiency   57 non-null     int64 \n",
      " 4   isMainSleep  57 non-null     bool  \n",
      "dtypes: bool(1), int64(2), object(2)\n",
      "memory usage: 2.0+ KB\n",
      "None\n"
     ]
    }
   ],
   "source": [
    "sleep_df = sleep_df[['endTime', 'startTime', 'duration', 'efficiency', 'isMainSleep']]\n",
    "sleep_df_2 = sleep_df_2[['endTime', 'startTime', 'duration', 'efficiency', 'isMainSleep']]\n",
    "sleep_df_3 = sleep_df_3[['endTime', 'startTime', 'duration', 'efficiency', 'isMainSleep']]\n",
    "print(sleep_df.info())\n",
    "print(sleep_df_2.info())\n",
    "print(sleep_df_3.info())"
   ]
  },
  {
   "cell_type": "code",
   "execution_count": 59,
   "id": "a4b7132c",
   "metadata": {},
   "outputs": [
    {
     "name": "stdout",
     "output_type": "stream",
     "text": [
      "<class 'pandas.core.frame.DataFrame'>\n",
      "RangeIndex: 257 entries, 0 to 256\n",
      "Data columns (total 5 columns):\n",
      " #   Column       Non-Null Count  Dtype \n",
      "---  ------       --------------  ----- \n",
      " 0   endTime      257 non-null    object\n",
      " 1   startTime    257 non-null    object\n",
      " 2   duration     257 non-null    int64 \n",
      " 3   efficiency   257 non-null    int64 \n",
      " 4   isMainSleep  257 non-null    bool  \n",
      "dtypes: bool(1), int64(2), object(2)\n",
      "memory usage: 8.4+ KB\n"
     ]
    }
   ],
   "source": [
    "sleep_df = pd.concat([sleep_df, sleep_df_2, sleep_df_3], ignore_index=True)\n",
    "sleep_df.info()"
   ]
  },
  {
   "cell_type": "markdown",
   "id": "2a6e05b6",
   "metadata": {},
   "source": [
    "# Skin Temperature Log"
   ]
  },
  {
   "cell_type": "code",
   "execution_count": 70,
   "id": "bfd34220",
   "metadata": {},
   "outputs": [
    {
     "name": "stdout",
     "output_type": "stream",
     "text": [
      "<class 'pandas.core.frame.DataFrame'>\n",
      "RangeIndex: 24 entries, 0 to 23\n",
      "Data columns (total 2 columns):\n",
      " #   Column                 Non-Null Count  Dtype  \n",
      "---  ------                 --------------  -----  \n",
      " 0   dateTime               24 non-null     object \n",
      " 1   value.nightlyRelative  24 non-null     float64\n",
      "dtypes: float64(1), object(1)\n",
      "memory usage: 516.0+ bytes\n"
     ]
    }
   ],
   "source": [
    "# Take: dateTime, value\n",
    "skin_df_arr = []\n",
    "for i in range(1,10):\n",
    "    file_path = f'raw_data/get_skin_{i}.json'\n",
    "    \n",
    "    f = open(file_path)\n",
    "    data = json.load(f)\n",
    "    skin_df = pd.DataFrame.from_dict(pd.json_normalize(data['tempSkin']), orient='columns')\n",
    "    skin_df = skin_df[['dateTime', 'value.nightlyRelative']]\n",
    "    skin_df_arr.append(skin_df)\n",
    "    \n",
    "skin_df_arr[0].info()"
   ]
  },
  {
   "cell_type": "code",
   "execution_count": 71,
   "id": "9e680ef2",
   "metadata": {},
   "outputs": [
    {
     "name": "stdout",
     "output_type": "stream",
     "text": [
      "1\n",
      "2\n",
      "3\n",
      "4\n",
      "5\n",
      "6\n",
      "7\n",
      "8\n",
      "<class 'pandas.core.frame.DataFrame'>\n",
      "RangeIndex: 243 entries, 0 to 242\n",
      "Data columns (total 2 columns):\n",
      " #   Column                 Non-Null Count  Dtype  \n",
      "---  ------                 --------------  -----  \n",
      " 0   dateTime               243 non-null    object \n",
      " 1   value.nightlyRelative  243 non-null    float64\n",
      "dtypes: float64(1), object(1)\n",
      "memory usage: 3.9+ KB\n",
      "None\n"
     ]
    }
   ],
   "source": [
    "for i in range(1, len(skin_df_arr)):\n",
    "    skin_df_arr[0] = pd.concat([skin_df_arr[0], skin_df_arr[i]], ignore_index=True)\n",
    "    #print(i)\n",
    "    \n",
    "print(skin_df_arr[0].info())"
   ]
  },
  {
   "cell_type": "markdown",
   "id": "1be2cfab",
   "metadata": {},
   "source": [
    "# Heart Rate Variability Log"
   ]
  },
  {
   "cell_type": "code",
   "execution_count": 73,
   "id": "8d9c2400",
   "metadata": {},
   "outputs": [
    {
     "name": "stdout",
     "output_type": "stream",
     "text": [
      "<class 'pandas.core.frame.DataFrame'>\n",
      "RangeIndex: 29 entries, 0 to 28\n",
      "Data columns (total 3 columns):\n",
      " #   Column            Non-Null Count  Dtype  \n",
      "---  ------            --------------  -----  \n",
      " 0   dateTime          29 non-null     object \n",
      " 1   value.dailyRmssd  29 non-null     float64\n",
      " 2   value.deepRmssd   29 non-null     float64\n",
      "dtypes: float64(2), object(1)\n",
      "memory usage: 828.0+ bytes\n"
     ]
    }
   ],
   "source": [
    "# Take: dateTime, dailyRmssd, deepRmssd\n",
    "hrv_df_arr = []\n",
    "for i in range(1,10):\n",
    "    file_path = f'raw_data/get_hrv_{i}.json'\n",
    "    \n",
    "    f = open(file_path)\n",
    "    data = json.load(f)\n",
    "    hrv_df = pd.DataFrame.from_dict(pd.json_normalize(data['hrv']), orient='columns')\n",
    "    hrv_df_arr.append(hrv_df)\n",
    "    \n",
    "hrv_df_arr[0].info()"
   ]
  },
  {
   "cell_type": "code",
   "execution_count": 74,
   "id": "21d3337b",
   "metadata": {},
   "outputs": [
    {
     "name": "stdout",
     "output_type": "stream",
     "text": [
      "<class 'pandas.core.frame.DataFrame'>\n",
      "RangeIndex: 248 entries, 0 to 247\n",
      "Data columns (total 3 columns):\n",
      " #   Column            Non-Null Count  Dtype  \n",
      "---  ------            --------------  -----  \n",
      " 0   dateTime          248 non-null    object \n",
      " 1   value.dailyRmssd  248 non-null    float64\n",
      " 2   value.deepRmssd   248 non-null    float64\n",
      "dtypes: float64(2), object(1)\n",
      "memory usage: 5.9+ KB\n",
      "None\n"
     ]
    }
   ],
   "source": [
    "for i in range(1, len(hrv_df_arr)):\n",
    "    hrv_df_arr[0] = pd.concat([hrv_df_arr[0], hrv_df_arr[i]], ignore_index=True)\n",
    "    \n",
    "print(hrv_df_arr[0].info())"
   ]
  },
  {
   "cell_type": "markdown",
   "id": "97655dc0",
   "metadata": {},
   "source": [
    "# Breathing Rate Log"
   ]
  },
  {
   "cell_type": "code",
   "execution_count": 5,
   "id": "f96b2adc",
   "metadata": {},
   "outputs": [],
   "source": [
    "# Take: dateTime, breathingRate"
   ]
  },
  {
   "cell_type": "code",
   "execution_count": 75,
   "id": "e0b32802",
   "metadata": {},
   "outputs": [
    {
     "name": "stdout",
     "output_type": "stream",
     "text": [
      "<class 'pandas.core.frame.DataFrame'>\n",
      "RangeIndex: 29 entries, 0 to 28\n",
      "Data columns (total 2 columns):\n",
      " #   Column               Non-Null Count  Dtype  \n",
      "---  ------               --------------  -----  \n",
      " 0   dateTime             29 non-null     object \n",
      " 1   value.breathingRate  29 non-null     float64\n",
      "dtypes: float64(1), object(1)\n",
      "memory usage: 596.0+ bytes\n"
     ]
    }
   ],
   "source": [
    "# Take: dateTime, dailyRmssd, deepRmssd\n",
    "br_df_arr = []\n",
    "for i in range(1,10):\n",
    "    file_path = f'raw_data/get_br_{i}.json'\n",
    "    \n",
    "    f = open(file_path)\n",
    "    data = json.load(f)\n",
    "    br_df = pd.DataFrame.from_dict(pd.json_normalize(data['br']), orient='columns')\n",
    "    br_df_arr.append(br_df)\n",
    "    \n",
    "br_df_arr[0].info()"
   ]
  },
  {
   "cell_type": "code",
   "execution_count": 76,
   "id": "6f5de358",
   "metadata": {},
   "outputs": [
    {
     "name": "stdout",
     "output_type": "stream",
     "text": [
      "<class 'pandas.core.frame.DataFrame'>\n",
      "RangeIndex: 247 entries, 0 to 246\n",
      "Data columns (total 2 columns):\n",
      " #   Column               Non-Null Count  Dtype  \n",
      "---  ------               --------------  -----  \n",
      " 0   dateTime             247 non-null    object \n",
      " 1   value.breathingRate  247 non-null    float64\n",
      "dtypes: float64(1), object(1)\n",
      "memory usage: 4.0+ KB\n",
      "None\n"
     ]
    }
   ],
   "source": [
    "for i in range(1, len(br_df_arr)):\n",
    "    br_df_arr[0] = pd.concat([br_df_arr[0], br_df_arr[i]], ignore_index=True)\n",
    "    \n",
    "print(br_df_arr[0].info())"
   ]
  },
  {
   "cell_type": "code",
   "execution_count": 6,
   "id": "effa27a1",
   "metadata": {},
   "outputs": [],
   "source": [
    "# See how to incorporate sleep score, merge tables, find if I need to match keys..."
   ]
  },
  {
   "cell_type": "code",
   "execution_count": null,
   "id": "3bc5c360",
   "metadata": {},
   "outputs": [],
   "source": []
  }
 ],
 "metadata": {
  "kernelspec": {
   "display_name": "Python 3 (ipykernel)",
   "language": "python",
   "name": "python3"
  },
  "language_info": {
   "codemirror_mode": {
    "name": "ipython",
    "version": 3
   },
   "file_extension": ".py",
   "mimetype": "text/x-python",
   "name": "python",
   "nbconvert_exporter": "python",
   "pygments_lexer": "ipython3",
   "version": "3.11.3"
  }
 },
 "nbformat": 4,
 "nbformat_minor": 5
}
