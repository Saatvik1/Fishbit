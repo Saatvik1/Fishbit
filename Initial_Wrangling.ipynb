{
 "cells": [
  {
   "cell_type": "markdown",
   "id": "b20f6ff2",
   "metadata": {},
   "source": [
    "# Activity Log"
   ]
  },
  {
   "cell_type": "code",
   "execution_count": 1,
   "id": "64de12c3",
   "metadata": {},
   "outputs": [],
   "source": [
    "# Take: Each activity has active duration, duration, originalDuration. These will be columns, not sure if they are ever different. If not, just use one.\n",
    "# coumns from under activityLevel value array that contains same info as above, just need to see if the same.\n",
    "# Take: activityLevel_sedentary, activityLevel_lightly, activityLevel_fairly, activityLevel_very, each containing minutes\n",
    "# Take: activityName, activityTypeId, averageHeartRate, calories, \n",
    "# from heartRateZones: \n",
    "# Take: hrZone_OOR_mins, hrZone_Fatburn_mins, hrZone_Cardio_mins, hrZone_Peak_mins /// hrZone_OOR_cals, hrZone_Fatburn_cals, hrZone_Cardio_cals, hrZone_Peak_cals\n",
    "# Take: logID, originalStartTime, startTime, steps"
   ]
  },
  {
   "cell_type": "markdown",
   "id": "ba7810b1",
   "metadata": {},
   "source": [
    "# Sleep Log"
   ]
  },
  {
   "cell_type": "code",
   "execution_count": 2,
   "id": "22d99a9f",
   "metadata": {},
   "outputs": [],
   "source": [
    "# Take endtime, startTime, duration, efficiency, isMainSleep\n",
    "# under leveles, data, array of data times of each cycle of sleep. record that as well.\n",
    "# Take level (will be light, wake, deep, REM) and datetime /// Likely these two will be PK for each row. Group by endtime, startTime for total sleep day."
   ]
  },
  {
   "cell_type": "markdown",
   "id": "2a6e05b6",
   "metadata": {},
   "source": [
    "# Skin Temperature Log"
   ]
  },
  {
   "cell_type": "code",
   "execution_count": 3,
   "id": "bfd34220",
   "metadata": {},
   "outputs": [],
   "source": [
    "# Take: dateTime, value"
   ]
  },
  {
   "cell_type": "markdown",
   "id": "1be2cfab",
   "metadata": {},
   "source": [
    "# Heart Rate Variability Log"
   ]
  },
  {
   "cell_type": "code",
   "execution_count": 4,
   "id": "8d9c2400",
   "metadata": {},
   "outputs": [],
   "source": [
    "# Take: dateTime, dailyRmssd, deepRmssd"
   ]
  },
  {
   "cell_type": "markdown",
   "id": "97655dc0",
   "metadata": {},
   "source": [
    "# Breathing Rate Log"
   ]
  },
  {
   "cell_type": "code",
   "execution_count": 5,
   "id": "f96b2adc",
   "metadata": {},
   "outputs": [],
   "source": [
    "# Take: dateTime, breathingRate"
   ]
  },
  {
   "cell_type": "code",
   "execution_count": 6,
   "id": "effa27a1",
   "metadata": {},
   "outputs": [],
   "source": [
    "# See how to incorporate sleep score, merge tables, find if I need to match keys..."
   ]
  },
  {
   "cell_type": "code",
   "execution_count": null,
   "id": "3bc5c360",
   "metadata": {},
   "outputs": [],
   "source": []
  }
 ],
 "metadata": {
  "kernelspec": {
   "display_name": "Python 3 (ipykernel)",
   "language": "python",
   "name": "python3"
  },
  "language_info": {
   "codemirror_mode": {
    "name": "ipython",
    "version": 3
   },
   "file_extension": ".py",
   "mimetype": "text/x-python",
   "name": "python",
   "nbconvert_exporter": "python",
   "pygments_lexer": "ipython3",
   "version": "3.11.3"
  }
 },
 "nbformat": 4,
 "nbformat_minor": 5
}
